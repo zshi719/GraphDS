{
 "cells": [
  {
   "cell_type": "code",
   "execution_count": null,
   "outputs": [],
   "source": [
    "import os\n",
    "from urllib.parse import urlparse\n",
    "\n",
    "import numpy as np\n",
    "import requests\n",
    "import snowflake.connector\n",
    "from py2neo import Graph\n",
    "from py2neo.bulk import merge_nodes, merge_relationships"
   ],
   "metadata": {
    "collapsed": false,
    "ExecuteTime": {
     "end_time": "2023-06-15T02:56:38.416611Z",
     "start_time": "2023-06-15T02:56:38.411544Z"
    }
   }
  },
  {
   "cell_type": "code",
   "execution_count": 1,
   "outputs": [
    {
     "ename": "ConnectionUnavailable",
     "evalue": "Cannot open connection to ConnectionProfile('bolt://xplore.graph-x.site.gs.com:7687')",
     "output_type": "error",
     "traceback": [
      "\u001B[0;31m---------------------------------------------------------------------------\u001B[0m",
      "\u001B[0;31mIndexError\u001B[0m                                Traceback (most recent call last)",
      "File \u001B[0;32m~/opt/anaconda3/lib/python3.9/site-packages/py2neo/client/__init__.py:806\u001B[0m, in \u001B[0;36mConnectionPool.acquire\u001B[0;34m(self, force_reset, can_overfill)\u001B[0m\n\u001B[1;32m    804\u001B[0m \u001B[38;5;28;01mtry\u001B[39;00m:\n\u001B[1;32m    805\u001B[0m     \u001B[38;5;66;03m# Plan A: select a free connection from the pool\u001B[39;00m\n\u001B[0;32m--> 806\u001B[0m     cx \u001B[38;5;241m=\u001B[39m \u001B[38;5;28;43mself\u001B[39;49m\u001B[38;5;241;43m.\u001B[39;49m\u001B[43m_free_list\u001B[49m\u001B[38;5;241;43m.\u001B[39;49m\u001B[43mpopleft\u001B[49m\u001B[43m(\u001B[49m\u001B[43m)\u001B[49m\n\u001B[1;32m    807\u001B[0m \u001B[38;5;28;01mexcept\u001B[39;00m \u001B[38;5;167;01mIndexError\u001B[39;00m:\n",
      "\u001B[0;31mIndexError\u001B[0m: pop from an empty deque",
      "\nDuring handling of the above exception, another exception occurred:\n",
      "\u001B[0;31mgaierror\u001B[0m                                  Traceback (most recent call last)",
      "File \u001B[0;32m~/opt/anaconda3/lib/python3.9/site-packages/py2neo/wiring.py:62\u001B[0m, in \u001B[0;36mWire.open\u001B[0;34m(cls, address, timeout, keep_alive, on_broken)\u001B[0m\n\u001B[1;32m     61\u001B[0m \u001B[38;5;28;01mtry\u001B[39;00m:\n\u001B[0;32m---> 62\u001B[0m     \u001B[43ms\u001B[49m\u001B[38;5;241;43m.\u001B[39;49m\u001B[43mconnect\u001B[49m\u001B[43m(\u001B[49m\u001B[43maddress\u001B[49m\u001B[43m)\u001B[49m\n\u001B[1;32m     63\u001B[0m \u001B[38;5;28;01mexcept\u001B[39;00m (\u001B[38;5;167;01mIOError\u001B[39;00m, \u001B[38;5;167;01mOSError\u001B[39;00m) \u001B[38;5;28;01mas\u001B[39;00m error:\n",
      "\u001B[0;31mgaierror\u001B[0m: [Errno 8] nodename nor servname provided, or not known",
      "\nThe above exception was the direct cause of the following exception:\n",
      "\u001B[0;31mWireError\u001B[0m                                 Traceback (most recent call last)",
      "File \u001B[0;32m~/opt/anaconda3/lib/python3.9/site-packages/py2neo/client/bolt.py:355\u001B[0m, in \u001B[0;36mBolt.open\u001B[0;34m(cls, profile, user_agent, on_release, on_broken)\u001B[0m\n\u001B[1;32m    354\u001B[0m \u001B[38;5;28;01mtry\u001B[39;00m:\n\u001B[0;32m--> 355\u001B[0m     wire \u001B[38;5;241m=\u001B[39m \u001B[38;5;28;43mcls\u001B[39;49m\u001B[38;5;241;43m.\u001B[39;49m\u001B[43m_connect\u001B[49m\u001B[43m(\u001B[49m\u001B[43mprofile\u001B[49m\u001B[43m,\u001B[49m\u001B[43m \u001B[49m\u001B[43mon_broken\u001B[49m\u001B[38;5;241;43m=\u001B[39;49m\u001B[43mon_broken\u001B[49m\u001B[43m)\u001B[49m\n\u001B[1;32m    356\u001B[0m     protocol_version \u001B[38;5;241m=\u001B[39m \u001B[38;5;28mcls\u001B[39m\u001B[38;5;241m.\u001B[39m_handshake(wire)\n",
      "File \u001B[0;32m~/opt/anaconda3/lib/python3.9/site-packages/py2neo/client/bolt.py:369\u001B[0m, in \u001B[0;36mBolt._connect\u001B[0;34m(cls, profile, on_broken)\u001B[0m\n\u001B[1;32m    368\u001B[0m log\u001B[38;5;241m.\u001B[39mdebug(\u001B[38;5;124m\"\u001B[39m\u001B[38;5;124m[#\u001B[39m\u001B[38;5;132;01m%04X\u001B[39;00m\u001B[38;5;124m] C: (Dialing <\u001B[39m\u001B[38;5;132;01m%s\u001B[39;00m\u001B[38;5;124m>)\u001B[39m\u001B[38;5;124m\"\u001B[39m, \u001B[38;5;241m0\u001B[39m, profile\u001B[38;5;241m.\u001B[39maddress)\n\u001B[0;32m--> 369\u001B[0m wire \u001B[38;5;241m=\u001B[39m \u001B[43mWire\u001B[49m\u001B[38;5;241;43m.\u001B[39;49m\u001B[43mopen\u001B[49m\u001B[43m(\u001B[49m\u001B[43mprofile\u001B[49m\u001B[38;5;241;43m.\u001B[39;49m\u001B[43maddress\u001B[49m\u001B[43m,\u001B[49m\u001B[43m \u001B[49m\u001B[43mkeep_alive\u001B[49m\u001B[38;5;241;43m=\u001B[39;49m\u001B[38;5;28;43;01mTrue\u001B[39;49;00m\u001B[43m,\u001B[49m\u001B[43m \u001B[49m\u001B[43mon_broken\u001B[49m\u001B[38;5;241;43m=\u001B[39;49m\u001B[43mon_broken\u001B[49m\u001B[43m)\u001B[49m\n\u001B[1;32m    370\u001B[0m local_port \u001B[38;5;241m=\u001B[39m wire\u001B[38;5;241m.\u001B[39mlocal_address\u001B[38;5;241m.\u001B[39mport_number\n",
      "File \u001B[0;32m~/opt/anaconda3/lib/python3.9/site-packages/py2neo/wiring.py:64\u001B[0m, in \u001B[0;36mWire.open\u001B[0;34m(cls, address, timeout, keep_alive, on_broken)\u001B[0m\n\u001B[1;32m     63\u001B[0m \u001B[38;5;28;01mexcept\u001B[39;00m (\u001B[38;5;167;01mIOError\u001B[39;00m, \u001B[38;5;167;01mOSError\u001B[39;00m) \u001B[38;5;28;01mas\u001B[39;00m error:\n\u001B[0;32m---> 64\u001B[0m     \u001B[43mraise_from\u001B[49m\u001B[43m(\u001B[49m\u001B[43mWireError\u001B[49m\u001B[43m(\u001B[49m\u001B[38;5;124;43m\"\u001B[39;49m\u001B[38;5;124;43mCannot connect to \u001B[39;49m\u001B[38;5;132;43;01m%r\u001B[39;49;00m\u001B[38;5;124;43m\"\u001B[39;49m\u001B[43m \u001B[49m\u001B[38;5;241;43m%\u001B[39;49m\u001B[43m \u001B[49m\u001B[43m(\u001B[49m\u001B[43maddress\u001B[49m\u001B[43m,\u001B[49m\u001B[43m)\u001B[49m\u001B[43m)\u001B[49m\u001B[43m,\u001B[49m\u001B[43m \u001B[49m\u001B[43merror\u001B[49m\u001B[43m)\u001B[49m\n\u001B[1;32m     65\u001B[0m \u001B[38;5;28;01mreturn\u001B[39;00m \u001B[38;5;28mcls\u001B[39m(s, on_broken\u001B[38;5;241m=\u001B[39mon_broken)\n",
      "File \u001B[0;32m<string>:3\u001B[0m, in \u001B[0;36mraise_from\u001B[0;34m(value, from_value)\u001B[0m\n",
      "\u001B[0;31mWireError\u001B[0m: Cannot connect to IPv4Address(('xplore.graph-x.site.gs.com', 7687))",
      "\nThe above exception was the direct cause of the following exception:\n",
      "\u001B[0;31mConnectionUnavailable\u001B[0m                     Traceback (most recent call last)",
      "Input \u001B[0;32mIn [1]\u001B[0m, in \u001B[0;36m<cell line: 21>\u001B[0;34m()\u001B[0m\n\u001B[1;32m     19\u001B[0m username \u001B[38;5;241m=\u001B[39m \u001B[38;5;124m\"\u001B[39m\u001B[38;5;124mneo4j\u001B[39m\u001B[38;5;124m\"\u001B[39m\n\u001B[1;32m     20\u001B[0m password \u001B[38;5;241m=\u001B[39m \u001B[38;5;124m\"\u001B[39m\u001B[38;5;124mxplorer\u001B[39m\u001B[38;5;124m\"\u001B[39m\n\u001B[0;32m---> 21\u001B[0m graph \u001B[38;5;241m=\u001B[39m \u001B[43mGraph\u001B[49m\u001B[43m(\u001B[49m\u001B[43mhost\u001B[49m\u001B[38;5;241;43m=\u001B[39;49m\u001B[43mhost\u001B[49m\u001B[43m,\u001B[49m\u001B[43m \u001B[49m\u001B[43mport\u001B[49m\u001B[38;5;241;43m=\u001B[39;49m\u001B[43mport\u001B[49m\u001B[43m,\u001B[49m\u001B[43m \u001B[49m\u001B[43mauth\u001B[49m\u001B[38;5;241;43m=\u001B[39;49m\u001B[43m(\u001B[49m\u001B[43musername\u001B[49m\u001B[43m,\u001B[49m\u001B[43m \u001B[49m\u001B[43mpassword\u001B[49m\u001B[43m)\u001B[49m\u001B[43m)\u001B[49m\n\u001B[1;32m     22\u001B[0m BATCHES \u001B[38;5;241m=\u001B[39m \u001B[38;5;241m100\u001B[39m\n",
      "File \u001B[0;32m~/opt/anaconda3/lib/python3.9/site-packages/py2neo/database.py:288\u001B[0m, in \u001B[0;36mGraph.__init__\u001B[0;34m(self, profile, name, **settings)\u001B[0m\n\u001B[1;32m    287\u001B[0m \u001B[38;5;28;01mdef\u001B[39;00m \u001B[38;5;21m__init__\u001B[39m(\u001B[38;5;28mself\u001B[39m, profile\u001B[38;5;241m=\u001B[39m\u001B[38;5;28;01mNone\u001B[39;00m, name\u001B[38;5;241m=\u001B[39m\u001B[38;5;28;01mNone\u001B[39;00m, \u001B[38;5;241m*\u001B[39m\u001B[38;5;241m*\u001B[39msettings):\n\u001B[0;32m--> 288\u001B[0m     \u001B[38;5;28mself\u001B[39m\u001B[38;5;241m.\u001B[39mservice \u001B[38;5;241m=\u001B[39m \u001B[43mGraphService\u001B[49m\u001B[43m(\u001B[49m\u001B[43mprofile\u001B[49m\u001B[43m,\u001B[49m\u001B[43m \u001B[49m\u001B[38;5;241;43m*\u001B[39;49m\u001B[38;5;241;43m*\u001B[39;49m\u001B[43msettings\u001B[49m\u001B[43m)\u001B[49m\n\u001B[1;32m    289\u001B[0m     \u001B[38;5;28mself\u001B[39m\u001B[38;5;241m.\u001B[39m\u001B[38;5;18m__name__\u001B[39m \u001B[38;5;241m=\u001B[39m name\n\u001B[1;32m    290\u001B[0m     \u001B[38;5;28mself\u001B[39m\u001B[38;5;241m.\u001B[39mschema \u001B[38;5;241m=\u001B[39m Schema(\u001B[38;5;28mself\u001B[39m)\n",
      "File \u001B[0;32m~/opt/anaconda3/lib/python3.9/site-packages/py2neo/database.py:119\u001B[0m, in \u001B[0;36mGraphService.__init__\u001B[0;34m(self, profile, **settings)\u001B[0m\n\u001B[1;32m    116\u001B[0m \u001B[38;5;28;01mif\u001B[39;00m connector_settings[\u001B[38;5;124m\"\u001B[39m\u001B[38;5;124minit_size\u001B[39m\u001B[38;5;124m\"\u001B[39m] \u001B[38;5;129;01mis\u001B[39;00m \u001B[38;5;28;01mNone\u001B[39;00m \u001B[38;5;129;01mand\u001B[39;00m \u001B[38;5;129;01mnot\u001B[39;00m profile\u001B[38;5;241m.\u001B[39mrouting:\n\u001B[1;32m    117\u001B[0m     \u001B[38;5;66;03m# Ensures credentials are checked on construction\u001B[39;00m\n\u001B[1;32m    118\u001B[0m     connector_settings[\u001B[38;5;124m\"\u001B[39m\u001B[38;5;124minit_size\u001B[39m\u001B[38;5;124m\"\u001B[39m] \u001B[38;5;241m=\u001B[39m \u001B[38;5;241m1\u001B[39m\n\u001B[0;32m--> 119\u001B[0m \u001B[38;5;28mself\u001B[39m\u001B[38;5;241m.\u001B[39m_connector \u001B[38;5;241m=\u001B[39m \u001B[43mConnector\u001B[49m\u001B[43m(\u001B[49m\u001B[43mprofile\u001B[49m\u001B[43m,\u001B[49m\u001B[43m \u001B[49m\u001B[38;5;241;43m*\u001B[39;49m\u001B[38;5;241;43m*\u001B[39;49m\u001B[43mconnector_settings\u001B[49m\u001B[43m)\u001B[49m\n\u001B[1;32m    120\u001B[0m \u001B[38;5;28mself\u001B[39m\u001B[38;5;241m.\u001B[39m_graphs \u001B[38;5;241m=\u001B[39m {}\n",
      "File \u001B[0;32m~/opt/anaconda3/lib/python3.9/site-packages/py2neo/client/__init__.py:960\u001B[0m, in \u001B[0;36mConnector.__init__\u001B[0;34m(self, profile, user_agent, init_size, max_size, max_age, routing_refresh_ttl)\u001B[0m\n\u001B[1;32m    958\u001B[0m \u001B[38;5;28;01melse\u001B[39;00m:\n\u001B[1;32m    959\u001B[0m     \u001B[38;5;28mself\u001B[39m\u001B[38;5;241m.\u001B[39m_router \u001B[38;5;241m=\u001B[39m \u001B[38;5;28;01mNone\u001B[39;00m\n\u001B[0;32m--> 960\u001B[0m \u001B[38;5;28;43mself\u001B[39;49m\u001B[38;5;241;43m.\u001B[39;49m\u001B[43m_add_pools\u001B[49m\u001B[43m(\u001B[49m\u001B[38;5;241;43m*\u001B[39;49m\u001B[38;5;28;43mself\u001B[39;49m\u001B[38;5;241;43m.\u001B[39;49m\u001B[43m_initial_routers\u001B[49m\u001B[43m)\u001B[49m\n",
      "File \u001B[0;32m~/opt/anaconda3/lib/python3.9/site-packages/py2neo/client/__init__.py:982\u001B[0m, in \u001B[0;36mConnector._add_pools\u001B[0;34m(self, *profiles)\u001B[0m\n\u001B[1;32m    980\u001B[0m     \u001B[38;5;28;01mcontinue\u001B[39;00m\n\u001B[1;32m    981\u001B[0m log\u001B[38;5;241m.\u001B[39mdebug(\u001B[38;5;124m\"\u001B[39m\u001B[38;5;124mAdding connection pool for profile \u001B[39m\u001B[38;5;132;01m%r\u001B[39;00m\u001B[38;5;124m\"\u001B[39m, profile)\n\u001B[0;32m--> 982\u001B[0m pool \u001B[38;5;241m=\u001B[39m \u001B[43mConnectionPool\u001B[49m\u001B[38;5;241;43m.\u001B[39;49m\u001B[43mopen\u001B[49m\u001B[43m(\u001B[49m\n\u001B[1;32m    983\u001B[0m \u001B[43m    \u001B[49m\u001B[43mprofile\u001B[49m\u001B[43m,\u001B[49m\n\u001B[1;32m    984\u001B[0m \u001B[43m    \u001B[49m\u001B[43muser_agent\u001B[49m\u001B[38;5;241;43m=\u001B[39;49m\u001B[38;5;28;43mself\u001B[39;49m\u001B[38;5;241;43m.\u001B[39;49m\u001B[43m_user_agent\u001B[49m\u001B[43m,\u001B[49m\n\u001B[1;32m    985\u001B[0m \u001B[43m    \u001B[49m\u001B[43minit_size\u001B[49m\u001B[38;5;241;43m=\u001B[39;49m\u001B[38;5;28;43mself\u001B[39;49m\u001B[38;5;241;43m.\u001B[39;49m\u001B[43m_init_size\u001B[49m\u001B[43m,\u001B[49m\n\u001B[1;32m    986\u001B[0m \u001B[43m    \u001B[49m\u001B[43mmax_size\u001B[49m\u001B[38;5;241;43m=\u001B[39;49m\u001B[38;5;28;43mself\u001B[39;49m\u001B[38;5;241;43m.\u001B[39;49m\u001B[43m_max_size\u001B[49m\u001B[43m,\u001B[49m\n\u001B[1;32m    987\u001B[0m \u001B[43m    \u001B[49m\u001B[43mmax_age\u001B[49m\u001B[38;5;241;43m=\u001B[39;49m\u001B[38;5;28;43mself\u001B[39;49m\u001B[38;5;241;43m.\u001B[39;49m\u001B[43m_max_age\u001B[49m\u001B[43m,\u001B[49m\n\u001B[1;32m    988\u001B[0m \u001B[43m    \u001B[49m\u001B[43mon_broken\u001B[49m\u001B[38;5;241;43m=\u001B[39;49m\u001B[38;5;28;43mself\u001B[39;49m\u001B[38;5;241;43m.\u001B[39;49m\u001B[43m_on_broken\u001B[49m\u001B[43m)\u001B[49m\n\u001B[1;32m    989\u001B[0m \u001B[38;5;28mself\u001B[39m\u001B[38;5;241m.\u001B[39m_pools[profile] \u001B[38;5;241m=\u001B[39m pool\n",
      "File \u001B[0;32m~/opt/anaconda3/lib/python3.9/site-packages/py2neo/client/__init__.py:649\u001B[0m, in \u001B[0;36mConnectionPool.open\u001B[0;34m(cls, profile, user_agent, init_size, max_size, max_age, on_broken)\u001B[0m\n\u001B[1;32m    627\u001B[0m \u001B[38;5;124;03m\"\"\" Create a new connection pool, with an option to seed one\u001B[39;00m\n\u001B[1;32m    628\u001B[0m \u001B[38;5;124;03mor more initial connections.\u001B[39;00m\n\u001B[1;32m    629\u001B[0m \n\u001B[0;32m   (...)\u001B[0m\n\u001B[1;32m    646\u001B[0m \u001B[38;5;124;03m    scheme\u001B[39;00m\n\u001B[1;32m    647\u001B[0m \u001B[38;5;124;03m\"\"\"\u001B[39;00m\n\u001B[1;32m    648\u001B[0m pool \u001B[38;5;241m=\u001B[39m \u001B[38;5;28mcls\u001B[39m(profile, user_agent, max_size, max_age, on_broken)\n\u001B[0;32m--> 649\u001B[0m seeds \u001B[38;5;241m=\u001B[39m [pool\u001B[38;5;241m.\u001B[39macquire() \u001B[38;5;28;01mfor\u001B[39;00m _ \u001B[38;5;129;01min\u001B[39;00m \u001B[38;5;28mrange\u001B[39m(init_size \u001B[38;5;129;01mor\u001B[39;00m \u001B[38;5;28mcls\u001B[39m\u001B[38;5;241m.\u001B[39mdefault_init_size)]\n\u001B[1;32m    650\u001B[0m \u001B[38;5;28;01mfor\u001B[39;00m seed \u001B[38;5;129;01min\u001B[39;00m seeds:\n\u001B[1;32m    651\u001B[0m     seed\u001B[38;5;241m.\u001B[39mrelease()\n",
      "File \u001B[0;32m~/opt/anaconda3/lib/python3.9/site-packages/py2neo/client/__init__.py:649\u001B[0m, in \u001B[0;36m<listcomp>\u001B[0;34m(.0)\u001B[0m\n\u001B[1;32m    627\u001B[0m \u001B[38;5;124;03m\"\"\" Create a new connection pool, with an option to seed one\u001B[39;00m\n\u001B[1;32m    628\u001B[0m \u001B[38;5;124;03mor more initial connections.\u001B[39;00m\n\u001B[1;32m    629\u001B[0m \n\u001B[0;32m   (...)\u001B[0m\n\u001B[1;32m    646\u001B[0m \u001B[38;5;124;03m    scheme\u001B[39;00m\n\u001B[1;32m    647\u001B[0m \u001B[38;5;124;03m\"\"\"\u001B[39;00m\n\u001B[1;32m    648\u001B[0m pool \u001B[38;5;241m=\u001B[39m \u001B[38;5;28mcls\u001B[39m(profile, user_agent, max_size, max_age, on_broken)\n\u001B[0;32m--> 649\u001B[0m seeds \u001B[38;5;241m=\u001B[39m [\u001B[43mpool\u001B[49m\u001B[38;5;241;43m.\u001B[39;49m\u001B[43macquire\u001B[49m\u001B[43m(\u001B[49m\u001B[43m)\u001B[49m \u001B[38;5;28;01mfor\u001B[39;00m _ \u001B[38;5;129;01min\u001B[39;00m \u001B[38;5;28mrange\u001B[39m(init_size \u001B[38;5;129;01mor\u001B[39;00m \u001B[38;5;28mcls\u001B[39m\u001B[38;5;241m.\u001B[39mdefault_init_size)]\n\u001B[1;32m    650\u001B[0m \u001B[38;5;28;01mfor\u001B[39;00m seed \u001B[38;5;129;01min\u001B[39;00m seeds:\n\u001B[1;32m    651\u001B[0m     seed\u001B[38;5;241m.\u001B[39mrelease()\n",
      "File \u001B[0;32m~/opt/anaconda3/lib/python3.9/site-packages/py2neo/client/__init__.py:813\u001B[0m, in \u001B[0;36mConnectionPool.acquire\u001B[0;34m(self, force_reset, can_overfill)\u001B[0m\n\u001B[1;32m    807\u001B[0m \u001B[38;5;28;01mexcept\u001B[39;00m \u001B[38;5;167;01mIndexError\u001B[39;00m:\n\u001B[1;32m    808\u001B[0m     \u001B[38;5;28;01mif\u001B[39;00m \u001B[38;5;28mself\u001B[39m\u001B[38;5;241m.\u001B[39m_has_capacity() \u001B[38;5;129;01mor\u001B[39;00m can_overfill:\n\u001B[1;32m    809\u001B[0m         \u001B[38;5;66;03m# Plan B: if the pool isn't full, open\u001B[39;00m\n\u001B[1;32m    810\u001B[0m         \u001B[38;5;66;03m# a new connection. This may raise a\u001B[39;00m\n\u001B[1;32m    811\u001B[0m         \u001B[38;5;66;03m# ConnectionUnavailable exception, which\u001B[39;00m\n\u001B[1;32m    812\u001B[0m         \u001B[38;5;66;03m# should bubble up to the caller.\u001B[39;00m\n\u001B[0;32m--> 813\u001B[0m         cx \u001B[38;5;241m=\u001B[39m \u001B[38;5;28;43mself\u001B[39;49m\u001B[38;5;241;43m.\u001B[39;49m\u001B[43m_connect\u001B[49m\u001B[43m(\u001B[49m\u001B[43m)\u001B[49m\n\u001B[1;32m    814\u001B[0m         \u001B[38;5;28;01mif\u001B[39;00m cx\u001B[38;5;241m.\u001B[39msupports_multi():\n\u001B[1;32m    815\u001B[0m             \u001B[38;5;28mself\u001B[39m\u001B[38;5;241m.\u001B[39m_supports_multi \u001B[38;5;241m=\u001B[39m \u001B[38;5;28;01mTrue\u001B[39;00m\n",
      "File \u001B[0;32m~/opt/anaconda3/lib/python3.9/site-packages/py2neo/client/__init__.py:764\u001B[0m, in \u001B[0;36mConnectionPool._connect\u001B[0;34m(self)\u001B[0m\n\u001B[1;32m    761\u001B[0m \u001B[38;5;28;01mdef\u001B[39;00m \u001B[38;5;21m_connect\u001B[39m(\u001B[38;5;28mself\u001B[39m):\n\u001B[1;32m    762\u001B[0m     \u001B[38;5;124;03m\"\"\" Open and return a new connection.\u001B[39;00m\n\u001B[1;32m    763\u001B[0m \u001B[38;5;124;03m    \"\"\"\u001B[39;00m\n\u001B[0;32m--> 764\u001B[0m     cx \u001B[38;5;241m=\u001B[39m \u001B[43mConnection\u001B[49m\u001B[38;5;241;43m.\u001B[39;49m\u001B[43mopen\u001B[49m\u001B[43m(\u001B[49m\u001B[38;5;28;43mself\u001B[39;49m\u001B[38;5;241;43m.\u001B[39;49m\u001B[43mprofile\u001B[49m\u001B[43m,\u001B[49m\u001B[43m \u001B[49m\u001B[43muser_agent\u001B[49m\u001B[38;5;241;43m=\u001B[39;49m\u001B[38;5;28;43mself\u001B[39;49m\u001B[38;5;241;43m.\u001B[39;49m\u001B[43muser_agent\u001B[49m\u001B[43m,\u001B[49m\n\u001B[1;32m    765\u001B[0m \u001B[43m                         \u001B[49m\u001B[43mon_release\u001B[49m\u001B[38;5;241;43m=\u001B[39;49m\u001B[38;5;28;43;01mlambda\u001B[39;49;00m\u001B[43m \u001B[49m\u001B[43mc\u001B[49m\u001B[43m:\u001B[49m\u001B[43m \u001B[49m\u001B[38;5;28;43mself\u001B[39;49m\u001B[38;5;241;43m.\u001B[39;49m\u001B[43mrelease\u001B[49m\u001B[43m(\u001B[49m\u001B[43mc\u001B[49m\u001B[43m)\u001B[49m\u001B[43m,\u001B[49m\n\u001B[1;32m    766\u001B[0m \u001B[43m                         \u001B[49m\u001B[43mon_broken\u001B[49m\u001B[38;5;241;43m=\u001B[39;49m\u001B[38;5;28;43;01mlambda\u001B[39;49;00m\u001B[43m \u001B[49m\u001B[43mmsg\u001B[49m\u001B[43m:\u001B[49m\u001B[43m \u001B[49m\u001B[38;5;28;43mself\u001B[39;49m\u001B[38;5;241;43m.\u001B[39;49m\u001B[43m__on_broken\u001B[49m\u001B[43m(\u001B[49m\u001B[43mmsg\u001B[49m\u001B[43m)\u001B[49m\u001B[43m)\u001B[49m\n\u001B[1;32m    767\u001B[0m     \u001B[38;5;28mself\u001B[39m\u001B[38;5;241m.\u001B[39m_server_agent \u001B[38;5;241m=\u001B[39m cx\u001B[38;5;241m.\u001B[39mserver_agent\n\u001B[1;32m    768\u001B[0m     \u001B[38;5;28;01mreturn\u001B[39;00m cx\n",
      "File \u001B[0;32m~/opt/anaconda3/lib/python3.9/site-packages/py2neo/client/__init__.py:174\u001B[0m, in \u001B[0;36mConnection.open\u001B[0;34m(cls, profile, user_agent, on_release, on_broken)\u001B[0m\n\u001B[1;32m    172\u001B[0m \u001B[38;5;28;01mif\u001B[39;00m profile\u001B[38;5;241m.\u001B[39mprotocol \u001B[38;5;241m==\u001B[39m \u001B[38;5;124m\"\u001B[39m\u001B[38;5;124mbolt\u001B[39m\u001B[38;5;124m\"\u001B[39m:\n\u001B[1;32m    173\u001B[0m     \u001B[38;5;28;01mfrom\u001B[39;00m \u001B[38;5;21;01mpy2neo\u001B[39;00m\u001B[38;5;21;01m.\u001B[39;00m\u001B[38;5;21;01mclient\u001B[39;00m\u001B[38;5;21;01m.\u001B[39;00m\u001B[38;5;21;01mbolt\u001B[39;00m \u001B[38;5;28;01mimport\u001B[39;00m Bolt\n\u001B[0;32m--> 174\u001B[0m     \u001B[38;5;28;01mreturn\u001B[39;00m \u001B[43mBolt\u001B[49m\u001B[38;5;241;43m.\u001B[39;49m\u001B[43mopen\u001B[49m\u001B[43m(\u001B[49m\u001B[43mprofile\u001B[49m\u001B[43m,\u001B[49m\u001B[43m \u001B[49m\u001B[43muser_agent\u001B[49m\u001B[38;5;241;43m=\u001B[39;49m\u001B[43muser_agent\u001B[49m\u001B[43m,\u001B[49m\n\u001B[1;32m    175\u001B[0m \u001B[43m                     \u001B[49m\u001B[43mon_release\u001B[49m\u001B[38;5;241;43m=\u001B[39;49m\u001B[43mon_release\u001B[49m\u001B[43m,\u001B[49m\u001B[43m \u001B[49m\u001B[43mon_broken\u001B[49m\u001B[38;5;241;43m=\u001B[39;49m\u001B[43mon_broken\u001B[49m\u001B[43m)\u001B[49m\n\u001B[1;32m    176\u001B[0m \u001B[38;5;28;01melif\u001B[39;00m profile\u001B[38;5;241m.\u001B[39mprotocol \u001B[38;5;241m==\u001B[39m \u001B[38;5;124m\"\u001B[39m\u001B[38;5;124mhttp\u001B[39m\u001B[38;5;124m\"\u001B[39m:\n\u001B[1;32m    177\u001B[0m     \u001B[38;5;28;01mfrom\u001B[39;00m \u001B[38;5;21;01mpy2neo\u001B[39;00m\u001B[38;5;21;01m.\u001B[39;00m\u001B[38;5;21;01mclient\u001B[39;00m\u001B[38;5;21;01m.\u001B[39;00m\u001B[38;5;21;01mhttp\u001B[39;00m \u001B[38;5;28;01mimport\u001B[39;00m HTTP\n",
      "File \u001B[0;32m~/opt/anaconda3/lib/python3.9/site-packages/py2neo/client/bolt.py:364\u001B[0m, in \u001B[0;36mBolt.open\u001B[0;34m(cls, profile, user_agent, on_release, on_broken)\u001B[0m\n\u001B[1;32m    362\u001B[0m     \u001B[38;5;28;01mreturn\u001B[39;00m bolt\n\u001B[1;32m    363\u001B[0m \u001B[38;5;28;01mexcept\u001B[39;00m (\u001B[38;5;167;01mTypeError\u001B[39;00m, WireError) \u001B[38;5;28;01mas\u001B[39;00m error:\n\u001B[0;32m--> 364\u001B[0m     \u001B[43mraise_from\u001B[49m\u001B[43m(\u001B[49m\u001B[43mConnectionUnavailable\u001B[49m\u001B[43m(\u001B[49m\u001B[38;5;124;43m\"\u001B[39;49m\u001B[38;5;124;43mCannot open connection to \u001B[39;49m\u001B[38;5;132;43;01m%r\u001B[39;49;00m\u001B[38;5;124;43m\"\u001B[39;49m\u001B[43m \u001B[49m\u001B[38;5;241;43m%\u001B[39;49m\u001B[43m \u001B[49m\u001B[43mprofile\u001B[49m\u001B[43m)\u001B[49m\u001B[43m,\u001B[49m\u001B[43m \u001B[49m\u001B[43merror\u001B[49m\u001B[43m)\u001B[49m\n",
      "File \u001B[0;32m<string>:3\u001B[0m, in \u001B[0;36mraise_from\u001B[0;34m(value, from_value)\u001B[0m\n",
      "\u001B[0;31mConnectionUnavailable\u001B[0m: Cannot open connection to ConnectionProfile('bolt://xplore.graph-x.site.gs.com:7687')"
     ]
    }
   ],
   "source": [
    "#[Environment Configs]\n",
    "client_id = \"d0afa05e7ab642acb0497f018b601b86\"\n",
    "client_secret = \"ikdU3eOtXRmMR9oWlEnP0W0jAVZYNMBF2FUwsuwtHkZ37Oh4IZZkso3tFdsbfdmO\"\n",
    "os.environ[\"HTTP_PROXY\"] = \"http://d161560-001.dc.gs.com:8899\"\n",
    "os.environ[\"HTTPS_PROXY\"] = \"http://d161560-001.dc.gs.com:8899\"\n",
    "\n",
    "#[Credentials]\n",
    "host = \"xplore.graph-x.site.gs.com\"\n",
    "port = \"7687\"\n",
    "username = \"neo4j\"\n",
    "password = \"xplorer\"\n",
    "graph = Graph(host=host, port=port, auth=(username, password))\n",
    "BATCHES = 100"
   ],
   "metadata": {
    "collapsed": false
   }
  },
  {
   "cell_type": "code",
   "execution_count": null,
   "outputs": [],
   "source": [],
   "metadata": {
    "collapsed": false
   }
  },
  {
   "cell_type": "markdown",
   "source": [
    "### Libraries & Shared Code"
   ],
   "attachments": {},
   "metadata": {
    "datalore": {
     "node_id": "lxgfI2RWWI7H1InqIHv6Cv",
     "type": "MD",
     "hide_input_from_viewers": false,
     "hide_output_from_viewers": false,
     "report_properties": {
      "rowId": "iYtoQffu4byePfuluRejOz"
     }
    }
   }
  },
  {
   "cell_type": "code",
   "source": [
    "def get_oauth_tokens(client_id: str, client_secret: str):\n",
    "    _IDFS_URL = \"https://idfs.gs.com/as/token.oauth2\"\n",
    "    response = requests.post(\n",
    "        url=_IDFS_URL,\n",
    "        params={\"access_token_manager_id\": \"JwtSnowflake\"},\n",
    "        # This must be set to JwtSnowflake to generate Snowflake-compatible OAuth Token\n",
    "        data={\"grant_type\": \"client_credentials\", \"scope\": \"SESSION:ROLE-ANY\"},\n",
    "        auth=(client_id, client_secret),\n",
    "    )\n",
    "    response = response.json()\n",
    "    if \"access_token\" not in response.keys():\n",
    "        raise PermissionError(f\"Not authorized to access OAuth Tokens: {response}\")\n",
    "    return response[\"access_token\"]\n",
    "\n",
    "\n",
    "def connect_snowflake(user: str, database: str, token: str) -> snowflake.connector.cursor:\n",
    "    \"\"\"Connect to Snowflake and return an authorized cursor. Below uses Catalyst connections\n",
    "   \n",
    "    :param user: Client ID from OAuth2 Authentication\n",
    "    :param database: Name of database to connect to\n",
    "    :param token: Generated OAuth Token. Please either generate and save to a tmp file in a separate thread OR use subprocess module to call the underlying subsystem and capture the output\n",
    "    :return: Snowflake Cursor\n",
    "    \"\"\"\n",
    "    snow_connector = snowflake.connector.connect(\n",
    "        user=user,\n",
    "        authenticator=\"oauth\",\n",
    "        account=\"sfamdprvtawseast1d01.goldman.us-east-1.aws.privatelink\",\n",
    "        role=\"AMD_CATALYST_DATA_RW\",\n",
    "        warehouse=\"AMD_CATALYST_RW\",\n",
    "        database=database,\n",
    "        ocsp_fail_open=False,\n",
    "        token=token,\n",
    "    )\n",
    "    cursor = snow_connector.cursor()\n",
    "    return cursor\n",
    "\n",
    "\n",
    "def disconnect(cursor: snowflake.connector.cursor) -> None:\n",
    "    try:\n",
    "        cursor.close()\n",
    "    except:\n",
    "        raise Exception(\"Failed to close cursor\")\n",
    "\n",
    "\n",
    "oauth_token = get_oauth_tokens(client_id, client_secret)\n",
    "cursor = connect_snowflake(client_id, \"AMD_CATALYST_DB\", oauth_token)"
   ],
   "execution_count": null,
   "outputs": [],
   "metadata": {
    "datalore": {
     "node_id": "V0ElM5z3Ka2ODXZO3ZeAOY",
     "type": "CODE",
     "hide_input_from_viewers": false,
     "hide_output_from_viewers": false,
     "report_properties": {
      "rowId": "dj2LOIG3Dp9uVMVxLpsUd9"
     }
    }
   }
  },
  {
   "cell_type": "markdown",
   "source": [
    "### SourceScrub Boardmembers"
   ],
   "attachments": {},
   "metadata": {
    "datalore": {
     "node_id": "MkWfH6KYuzUuOiPFCpajoS",
     "type": "MD",
     "hide_input_from_viewers": false,
     "hide_output_from_viewers": false,
     "report_properties": {
      "rowId": "YdGfcDGld9JMjoVkGiGGbC"
     }
    }
   }
  },
  {
   "cell_type": "code",
   "source": [
    "ss_bm_df = cursor.execute(\n",
    "    'SELECT PERSONID, COMPANYID, EMAIL, TITLE, FIRSTNAME, LASTNAME, LINKEDIN, STARTDATE, ENDDATE FROM AMD_CATALYST_DB.L2_NEW.SOURCESCRUB_BOARDMEMBERS WHERE LINKEDIN IS NOT NULL').fetch_pandas_all()\n",
    "display(ss_bm_df.head(5))"
   ],
   "execution_count": null,
   "outputs": [
    {
     "data": {
      "text/html": [
       "<div>\n",
       "<style scoped>\n",
       "    .dataframe tbody tr th:only-of-type {\n",
       "        vertical-align: middle;\n",
       "    }\n",
       "\n",
       "    .dataframe tbody tr th {\n",
       "        vertical-align: top;\n",
       "    }\n",
       "\n",
       "    .dataframe thead th {\n",
       "        text-align: right;\n",
       "    }\n",
       "</style>\n",
       "<table border=\"1\" class=\"dataframe\">\n",
       "  <thead>\n",
       "    <tr style=\"text-align: right;\">\n",
       "      <th></th>\n",
       "      <th>PERSONID</th>\n",
       "      <th>COMPANYID</th>\n",
       "      <th>EMAIL</th>\n",
       "      <th>TITLE</th>\n",
       "      <th>FIRSTNAME</th>\n",
       "      <th>LASTNAME</th>\n",
       "      <th>LINKEDIN</th>\n",
       "      <th>STARTDATE</th>\n",
       "      <th>ENDDATE</th>\n",
       "    </tr>\n",
       "  </thead>\n",
       "  <tbody>\n",
       "    <tr>\n",
       "      <th>0</th>\n",
       "      <td>sourcescrub-1561653</td>\n",
       "      <td>sourcescrub-614878</td>\n",
       "      <td>bblume@spacemakerai.com</td>\n",
       "      <td>Board Member</td>\n",
       "      <td>Ben</td>\n",
       "      <td>Blume</td>\n",
       "      <td>https://www.linkedin.com/in/benblume</td>\n",
       "      <td>2019-06-14</td>\n",
       "      <td>2020-11-14</td>\n",
       "    </tr>\n",
       "    <tr>\n",
       "      <th>1</th>\n",
       "      <td>sourcescrub-1561653</td>\n",
       "      <td>sourcescrub-608844</td>\n",
       "      <td>None</td>\n",
       "      <td>Board Member</td>\n",
       "      <td>Ben</td>\n",
       "      <td>Blume</td>\n",
       "      <td>https://www.linkedin.com/in/benblume</td>\n",
       "      <td>2021-02-14</td>\n",
       "      <td>None</td>\n",
       "    </tr>\n",
       "    <tr>\n",
       "      <th>2</th>\n",
       "      <td>sourcescrub-1561653</td>\n",
       "      <td>sourcescrub-245123</td>\n",
       "      <td>bblume@hingehealth.com</td>\n",
       "      <td>Board Member</td>\n",
       "      <td>Ben</td>\n",
       "      <td>Blume</td>\n",
       "      <td>https://www.linkedin.com/in/benblume</td>\n",
       "      <td>2019-01-14</td>\n",
       "      <td>None</td>\n",
       "    </tr>\n",
       "    <tr>\n",
       "      <th>3</th>\n",
       "      <td>sourcescrub-1561653</td>\n",
       "      <td>sourcescrub-1732426</td>\n",
       "      <td>None</td>\n",
       "      <td>Board Member</td>\n",
       "      <td>Ben</td>\n",
       "      <td>Blume</td>\n",
       "      <td>https://www.linkedin.com/in/benblume</td>\n",
       "      <td>2020-05-14</td>\n",
       "      <td>None</td>\n",
       "    </tr>\n",
       "    <tr>\n",
       "      <th>4</th>\n",
       "      <td>sourcescrub-1561653</td>\n",
       "      <td>sourcescrub-1713390</td>\n",
       "      <td>None</td>\n",
       "      <td>Board Member</td>\n",
       "      <td>Ben</td>\n",
       "      <td>Blume</td>\n",
       "      <td>https://www.linkedin.com/in/benblume</td>\n",
       "      <td>2019-03-01</td>\n",
       "      <td>None</td>\n",
       "    </tr>\n",
       "  </tbody>\n",
       "</table>\n",
       "</div>"
      ]
     },
     "metadata": {},
     "output_type": "display_data"
    },
    {
     "data": {
      "text/plain": [
       "              PERSONID            COMPANYID                    EMAIL  \\\n",
       "0  sourcescrub-1561653   sourcescrub-614878  bblume@spacemakerai.com   \n",
       "1  sourcescrub-1561653   sourcescrub-608844                     None   \n",
       "2  sourcescrub-1561653   sourcescrub-245123   bblume@hingehealth.com   \n",
       "3  sourcescrub-1561653  sourcescrub-1732426                     None   \n",
       "4  sourcescrub-1561653  sourcescrub-1713390                     None   \n",
       "\n",
       "          TITLE FIRSTNAME LASTNAME                              LINKEDIN  \\\n",
       "0  Board Member       Ben    Blume  https://www.linkedin.com/in/benblume   \n",
       "1  Board Member       Ben    Blume  https://www.linkedin.com/in/benblume   \n",
       "2  Board Member       Ben    Blume  https://www.linkedin.com/in/benblume   \n",
       "3  Board Member       Ben    Blume  https://www.linkedin.com/in/benblume   \n",
       "4  Board Member       Ben    Blume  https://www.linkedin.com/in/benblume   \n",
       "\n",
       "    STARTDATE     ENDDATE  \n",
       "0  2019-06-14  2020-11-14  \n",
       "1  2021-02-14        None  \n",
       "2  2019-01-14        None  \n",
       "3  2020-05-14        None  \n",
       "4  2019-03-01        None  "
      ]
     },
     "metadata": {},
     "output_type": "display_data"
    }
   ],
   "metadata": {
    "datalore": {
     "node_id": "90lUXoNZ4LYIvlT9M6ZwJB",
     "type": "CODE",
     "hide_input_from_viewers": false,
     "hide_output_from_viewers": false,
     "report_properties": {
      "rowId": "7guWSnMXN5nJ1FLyo8NHGH"
     }
    }
   }
  },
  {
   "cell_type": "code",
   "source": [
    "ss_bm_df.rename(\n",
    "    columns={'PERSONID': 'PERSON_ID', 'COMPANYID': 'COMPANY_ID', 'FIRSTNAME': 'FIRST_NAME', 'LASTNAME': 'LAST_NAME',\n",
    "             'STARTDATE': 'START_DATE', 'ENDDATE': 'END_DATE'}, inplace=True)\n",
    "ss_bm_df.dtypes"
   ],
   "execution_count": null,
   "outputs": [
    {
     "data": {
      "text/plain": [
       "PERSON_ID     object\n",
       "COMPANY_ID    object\n",
       "EMAIL         object\n",
       "TITLE         object\n",
       "FIRST_NAME    object\n",
       "LAST_NAME     object\n",
       "LINKEDIN      object\n",
       "START_DATE    object\n",
       "END_DATE      object\n",
       "dtype: object"
      ]
     },
     "metadata": {},
     "output_type": "display_data"
    }
   ],
   "metadata": {
    "datalore": {
     "node_id": "P5mr82ioAQosQua4cAgEjf",
     "type": "CODE",
     "hide_input_from_viewers": false,
     "hide_output_from_viewers": false,
     "report_properties": {
      "rowId": "fFzXhP7w429HVNmL8NJKBn"
     }
    }
   }
  },
  {
   "cell_type": "code",
   "source": [
    "ss_bm_df['LINKEDIN'] = ss_bm_df['LINKEDIN'].apply(\n",
    "    lambda x: (str(urlparse(x).netloc or '').lstrip('www.') + str(urlparse(x).path or '')))\n",
    "ss_bm_df.START_DATE = ss_bm_df.START_DATE.fillna(0).astype('str').replace('0',\n",
    "                                                                          np.nan)\n",
    "ss_bm_df.END_DATE = ss_bm_df.END_DATE.fillna(0).astype('str').replace('0', np.nan)\n",
    "ss_bm_df.head(5)"
   ],
   "execution_count": null,
   "outputs": [
    {
     "data": {
      "text/html": [
       "<div>\n",
       "<style scoped>\n",
       "    .dataframe tbody tr th:only-of-type {\n",
       "        vertical-align: middle;\n",
       "    }\n",
       "\n",
       "    .dataframe tbody tr th {\n",
       "        vertical-align: top;\n",
       "    }\n",
       "\n",
       "    .dataframe thead th {\n",
       "        text-align: right;\n",
       "    }\n",
       "</style>\n",
       "<table border=\"1\" class=\"dataframe\">\n",
       "  <thead>\n",
       "    <tr style=\"text-align: right;\">\n",
       "      <th></th>\n",
       "      <th>PERSON_ID</th>\n",
       "      <th>COMPANY_ID</th>\n",
       "      <th>EMAIL</th>\n",
       "      <th>TITLE</th>\n",
       "      <th>FIRST_NAME</th>\n",
       "      <th>LAST_NAME</th>\n",
       "      <th>LINKEDIN</th>\n",
       "      <th>START_DATE</th>\n",
       "      <th>END_DATE</th>\n",
       "    </tr>\n",
       "  </thead>\n",
       "  <tbody>\n",
       "    <tr>\n",
       "      <th>0</th>\n",
       "      <td>sourcescrub-1561653</td>\n",
       "      <td>sourcescrub-614878</td>\n",
       "      <td>bblume@spacemakerai.com</td>\n",
       "      <td>Board Member</td>\n",
       "      <td>Ben</td>\n",
       "      <td>Blume</td>\n",
       "      <td>linkedin.com/in/benblume</td>\n",
       "      <td>2019-06-14</td>\n",
       "      <td>2020-11-14</td>\n",
       "    </tr>\n",
       "    <tr>\n",
       "      <th>1</th>\n",
       "      <td>sourcescrub-1561653</td>\n",
       "      <td>sourcescrub-608844</td>\n",
       "      <td>None</td>\n",
       "      <td>Board Member</td>\n",
       "      <td>Ben</td>\n",
       "      <td>Blume</td>\n",
       "      <td>linkedin.com/in/benblume</td>\n",
       "      <td>2021-02-14</td>\n",
       "      <td>NaN</td>\n",
       "    </tr>\n",
       "    <tr>\n",
       "      <th>2</th>\n",
       "      <td>sourcescrub-1561653</td>\n",
       "      <td>sourcescrub-245123</td>\n",
       "      <td>bblume@hingehealth.com</td>\n",
       "      <td>Board Member</td>\n",
       "      <td>Ben</td>\n",
       "      <td>Blume</td>\n",
       "      <td>linkedin.com/in/benblume</td>\n",
       "      <td>2019-01-14</td>\n",
       "      <td>NaN</td>\n",
       "    </tr>\n",
       "    <tr>\n",
       "      <th>3</th>\n",
       "      <td>sourcescrub-1561653</td>\n",
       "      <td>sourcescrub-1732426</td>\n",
       "      <td>None</td>\n",
       "      <td>Board Member</td>\n",
       "      <td>Ben</td>\n",
       "      <td>Blume</td>\n",
       "      <td>linkedin.com/in/benblume</td>\n",
       "      <td>2020-05-14</td>\n",
       "      <td>NaN</td>\n",
       "    </tr>\n",
       "    <tr>\n",
       "      <th>4</th>\n",
       "      <td>sourcescrub-1561653</td>\n",
       "      <td>sourcescrub-1713390</td>\n",
       "      <td>None</td>\n",
       "      <td>Board Member</td>\n",
       "      <td>Ben</td>\n",
       "      <td>Blume</td>\n",
       "      <td>linkedin.com/in/benblume</td>\n",
       "      <td>2019-03-01</td>\n",
       "      <td>NaN</td>\n",
       "    </tr>\n",
       "  </tbody>\n",
       "</table>\n",
       "</div>"
      ]
     },
     "metadata": {},
     "output_type": "display_data"
    },
    {
     "data": {
      "text/plain": [
       "             PERSON_ID           COMPANY_ID                    EMAIL  \\\n",
       "0  sourcescrub-1561653   sourcescrub-614878  bblume@spacemakerai.com   \n",
       "1  sourcescrub-1561653   sourcescrub-608844                     None   \n",
       "2  sourcescrub-1561653   sourcescrub-245123   bblume@hingehealth.com   \n",
       "3  sourcescrub-1561653  sourcescrub-1732426                     None   \n",
       "4  sourcescrub-1561653  sourcescrub-1713390                     None   \n",
       "\n",
       "          TITLE FIRST_NAME LAST_NAME                  LINKEDIN  START_DATE  \\\n",
       "0  Board Member        Ben     Blume  linkedin.com/in/benblume  2019-06-14   \n",
       "1  Board Member        Ben     Blume  linkedin.com/in/benblume  2021-02-14   \n",
       "2  Board Member        Ben     Blume  linkedin.com/in/benblume  2019-01-14   \n",
       "3  Board Member        Ben     Blume  linkedin.com/in/benblume  2020-05-14   \n",
       "4  Board Member        Ben     Blume  linkedin.com/in/benblume  2019-03-01   \n",
       "\n",
       "     END_DATE  \n",
       "0  2020-11-14  \n",
       "1         NaN  \n",
       "2         NaN  \n",
       "3         NaN  \n",
       "4         NaN  "
      ]
     },
     "metadata": {},
     "output_type": "display_data"
    }
   ],
   "metadata": {
    "datalore": {
     "node_id": "VE8b97tCJofcJsQPHeFI9S",
     "type": "CODE",
     "hide_input_from_viewers": false,
     "hide_output_from_viewers": false,
     "report_properties": {
      "rowId": "SBd4UUHxOyE12qAFxvpQ2I"
     }
    }
   }
  },
  {
   "cell_type": "code",
   "source": [
    "# Creating current board memebers\n",
    "ss_curr_bm_df = ss_bm_df[ss_bm_df['END_DATE'].isna() == True]\n",
    "print(ss_curr_bm_df.shape)\n",
    "\n",
    "# Creating sourcescrub_curr_boardmembers_df board members\n",
    "ss_prev_bm_df = ss_bm_df[ss_bm_df['END_DATE'].isna() == False]\n",
    "print(ss_prev_bm_df.shape)"
   ],
   "execution_count": null,
   "outputs": [
    {
     "name": "stdout",
     "text": [
      "(67526, 9)\n",
      "(21896, 9)\n"
     ],
     "output_type": "stream"
    }
   ],
   "metadata": {
    "datalore": {
     "node_id": "rmoTk7xrLSMDHHz7txeIKp",
     "type": "CODE",
     "hide_input_from_viewers": false,
     "hide_output_from_viewers": false,
     "report_properties": {
      "rowId": "9KEyghWP33PG0Flx6HQ9d2"
     }
    }
   }
  },
  {
   "cell_type": "markdown",
   "source": [
    "### Ingesting Common SourceScrub Identifiers into Graph"
   ],
   "attachments": {},
   "metadata": {
    "datalore": {
     "node_id": "eJEVCuhyFNoyBdQ4NpDifx",
     "type": "MD",
     "hide_input_from_viewers": false,
     "hide_output_from_viewers": false,
     "report_properties": {
      "rowId": "1XGBjzihhR9He5FFP9wfnr"
     }
    }
   }
  },
  {
   "cell_type": "code",
   "source": [
    "\n",
    "ss_curr_bm_df_linkedin = np.array_split(\n",
    "    ss_curr_bm_df[ss_curr_bm_df['LINKEDIN'].isna() == False][['LINKEDIN']].rename(\n",
    "        columns={'LINKEDIN': 'URL'}).to_dict('records'), BATCHES)\n",
    "for chunk_df in ss_curr_bm_df_linkedin:\n",
    "    merge_nodes(\n",
    "        graph.auto(),\n",
    "        chunk_df,\n",
    "        ((\"URLIdentifier\", \"LinkedInURL\"), \"URL\"),\n",
    "    )\n",
    "\n",
    "sourcescrub_prev_boardmembers_df_linkedin = np.array_split(\n",
    "    ss_prev_bm_df[ss_prev_bm_df['LINKEDIN'].isna() == False][['LINKEDIN']].rename(\n",
    "        columns={'LINKEDIN': 'URL'}).to_dict('records'), BATCHES)\n",
    "for chunk_df in sourcescrub_prev_boardmembers_df_linkedin:\n",
    "    merge_nodes(\n",
    "        graph.auto(),\n",
    "        chunk_df,\n",
    "        ((\"URLIdentifier\", \"LinkedInURL\"), \"URL\"),\n",
    "    )"
   ],
   "execution_count": null,
   "outputs": [],
   "metadata": {
    "datalore": {
     "node_id": "xvNSlzErEnbDuPMdeftWuW",
     "type": "CODE",
     "hide_input_from_viewers": false,
     "hide_output_from_viewers": false,
     "report_properties": {
      "rowId": "bMs2Hx4Jgqrlazbf62aLfO"
     }
    }
   }
  },
  {
   "cell_type": "code",
   "source": [
    "sourcescrub_curr_boardmembers_df_email = np.array_split(\n",
    "    ss_curr_bm_df[ss_curr_bm_df['EMAIL'].isna() == False][['EMAIL']].rename(\n",
    "        columns={'LINKEDIN': 'URL'}).to_dict('records'), BATCHES)\n",
    "for chunk_df in ss_curr_bm_df_linkedin:\n",
    "    merge_nodes(\n",
    "        graph.auto(),\n",
    "        chunk_df,\n",
    "        ((\"Identifier\", \"EmailURL\"), \"URL\"),\n",
    "    )\n",
    "\n",
    "sourcescrub_prev_boardmembers_df_email = np.array_split(\n",
    "    ss_prev_bm_df[ss_prev_bm_df['EMAIL'].isna() == False][['EMAIL']].rename(\n",
    "        columns={'LINKEDIN': 'URL'}).to_dict('records'), BATCHES)\n",
    "for chunk_df in sourcescrub_prev_boardmembers_df_linkedin:\n",
    "    merge_nodes(\n",
    "        graph.auto(),\n",
    "        chunk_df,\n",
    "        ((\"URLIdentifier\", \"EmailURL\"), \"URL\"),\n",
    "    )"
   ],
   "execution_count": null,
   "outputs": [],
   "metadata": {
    "datalore": {
     "node_id": "zQWXOIhOGdjV7XbfPsCTwz",
     "type": "CODE",
     "hide_input_from_viewers": false,
     "hide_output_from_viewers": false,
     "report_properties": {
      "rowId": "QyQM7yFN4wqvb330Hza9lh"
     }
    }
   }
  },
  {
   "cell_type": "code",
   "source": [
    "for ss_bm_df in [ss_prev_bm_df, ss_curr_bm_df]:\n",
    "    for identifier in ['LINKEDIN', 'EMAIL']:\n",
    "        ss_identifier_rel = \\\n",
    "        ss_bm_df.loc[ss_bm_df[identifier] != np.nan][['PERSON_ID', identifier]]\n",
    "        ss_identifier_rel.insert(1, 'WEIGHT', [[0.5]] * len(ss_bm_df))\n",
    "        df_list = np.array_split(ss_identifier_rel, BATCHES)\n",
    "        for chunk_df in df_list:\n",
    "            merge_relationships(\n",
    "                graph.auto(),\n",
    "                chunk_df.values.tolist(),\n",
    "                merge_key=\"LINKED_TO\",\n",
    "                start_node_key=(\"PERSON\", \"PERSON_ID\"),\n",
    "                end_node_key=(\"COMPANY\", \"COMPANY_ID\"),\n",
    "                keys=[\"WEIGHT\"],\n",
    "            )"
   ],
   "execution_count": null,
   "outputs": [],
   "metadata": {
    "datalore": {
     "node_id": "neQwoeqhgtfg2J1hFAKEUr",
     "type": "CODE",
     "hide_input_from_viewers": false,
     "hide_output_from_viewers": false,
     "report_properties": {
      "rowId": "YcXssFinqSsotHsZuPLNX9"
     }
    }
   }
  },
  {
   "cell_type": "markdown",
   "source": [
    "#### SourceScrub Executives"
   ],
   "attachments": {},
   "metadata": {
    "datalore": {
     "node_id": "4n6DWzP10m0f3F48he8bTv",
     "type": "MD",
     "hide_input_from_viewers": false,
     "hide_output_from_viewers": false,
     "report_properties": {
      "rowId": "d2DTifpdmyaKpxv4XKdLxG"
     }
    }
   }
  },
  {
   "cell_type": "code",
   "source": [
    "ss_exec_df = cursor.execute(\n",
    "    'SELECT * FROM AMD_CATALYST_DB.L2_NEW.SOURCESCRUB_EXECUTIVES WHERE LINKEDIN IS NOT NULL').fetch_pandas_all()\n",
    "display(ss_exec_df.head(5))"
   ],
   "execution_count": null,
   "outputs": [
    {
     "data": {
      "text/html": [
       "<div>\n",
       "<style scoped>\n",
       "    .dataframe tbody tr th:only-of-type {\n",
       "        vertical-align: middle;\n",
       "    }\n",
       "\n",
       "    .dataframe tbody tr th {\n",
       "        vertical-align: top;\n",
       "    }\n",
       "\n",
       "    .dataframe thead th {\n",
       "        text-align: right;\n",
       "    }\n",
       "</style>\n",
       "<table border=\"1\" class=\"dataframe\">\n",
       "  <thead>\n",
       "    <tr style=\"text-align: right;\">\n",
       "      <th></th>\n",
       "      <th>PERSONID</th>\n",
       "      <th>COMPANYID</th>\n",
       "      <th>EMAIL</th>\n",
       "      <th>TITLE</th>\n",
       "      <th>FIRSTNAME</th>\n",
       "      <th>LASTNAME</th>\n",
       "      <th>LINKEDIN</th>\n",
       "      <th>STARTDATE</th>\n",
       "      <th>ENDDATE</th>\n",
       "    </tr>\n",
       "  </thead>\n",
       "  <tbody>\n",
       "    <tr>\n",
       "      <th>0</th>\n",
       "      <td>sourcescrub-1873836</td>\n",
       "      <td>sourcescrub-1883179</td>\n",
       "      <td>bogdan.yakovenko@serverbee.net</td>\n",
       "      <td>CEO</td>\n",
       "      <td>Bogdan</td>\n",
       "      <td>Yakovenko</td>\n",
       "      <td>https://www.linkedin.com/in/imxotep</td>\n",
       "      <td>2019-01-21</td>\n",
       "      <td>None</td>\n",
       "    </tr>\n",
       "    <tr>\n",
       "      <th>1</th>\n",
       "      <td>sourcescrub-1108552</td>\n",
       "      <td>sourcescrub-217812</td>\n",
       "      <td>smankiewicz@healthvana.com</td>\n",
       "      <td>CTO / VP Engineering</td>\n",
       "      <td>Sam</td>\n",
       "      <td>Mankiewicz</td>\n",
       "      <td>https://www.linkedin.com/in/sammankiewicz</td>\n",
       "      <td>2016-05-01</td>\n",
       "      <td>2018-10-01</td>\n",
       "    </tr>\n",
       "    <tr>\n",
       "      <th>2</th>\n",
       "      <td>sourcescrub-2372025</td>\n",
       "      <td>sourcescrub-2261938</td>\n",
       "      <td>ben@entek.be</td>\n",
       "      <td>Co-Owner</td>\n",
       "      <td>Ben</td>\n",
       "      <td>Van Ham</td>\n",
       "      <td>https://www.linkedin.com/in/benvanham</td>\n",
       "      <td>2012-03-01</td>\n",
       "      <td>None</td>\n",
       "    </tr>\n",
       "    <tr>\n",
       "      <th>3</th>\n",
       "      <td>sourcescrub-2759275</td>\n",
       "      <td>sourcescrub-1533681</td>\n",
       "      <td>gvenugopalan@rakwhitecement.ae</td>\n",
       "      <td>Director</td>\n",
       "      <td>Venugopalan</td>\n",
       "      <td>Ganapathy</td>\n",
       "      <td>https://www.linkedin.com/in/venugopalan-ganapa...</td>\n",
       "      <td>2015-03-01</td>\n",
       "      <td>None</td>\n",
       "    </tr>\n",
       "    <tr>\n",
       "      <th>4</th>\n",
       "      <td>sourcescrub-3879509</td>\n",
       "      <td>sourcescrub-13472744</td>\n",
       "      <td>None</td>\n",
       "      <td>Owner</td>\n",
       "      <td>Alex</td>\n",
       "      <td>Zavarzin</td>\n",
       "      <td>https://www.linkedin.com/in/alex-zavarzin-1879...</td>\n",
       "      <td>1997-01-01</td>\n",
       "      <td>None</td>\n",
       "    </tr>\n",
       "  </tbody>\n",
       "</table>\n",
       "</div>"
      ]
     },
     "metadata": {},
     "output_type": "display_data"
    },
    {
     "data": {
      "text/plain": [
       "              PERSONID             COMPANYID                           EMAIL  \\\n",
       "0  sourcescrub-1873836   sourcescrub-1883179  bogdan.yakovenko@serverbee.net   \n",
       "1  sourcescrub-1108552    sourcescrub-217812      smankiewicz@healthvana.com   \n",
       "2  sourcescrub-2372025   sourcescrub-2261938                    ben@entek.be   \n",
       "3  sourcescrub-2759275   sourcescrub-1533681  gvenugopalan@rakwhitecement.ae   \n",
       "4  sourcescrub-3879509  sourcescrub-13472744                            None   \n",
       "\n",
       "                  TITLE    FIRSTNAME    LASTNAME  \\\n",
       "0                   CEO       Bogdan   Yakovenko   \n",
       "1  CTO / VP Engineering          Sam  Mankiewicz   \n",
       "2              Co-Owner          Ben     Van Ham   \n",
       "3              Director  Venugopalan   Ganapathy   \n",
       "4                 Owner         Alex    Zavarzin   \n",
       "\n",
       "                                            LINKEDIN   STARTDATE     ENDDATE  \n",
       "0                https://www.linkedin.com/in/imxotep  2019-01-21        None  \n",
       "1          https://www.linkedin.com/in/sammankiewicz  2016-05-01  2018-10-01  \n",
       "2              https://www.linkedin.com/in/benvanham  2012-03-01        None  \n",
       "3  https://www.linkedin.com/in/venugopalan-ganapa...  2015-03-01        None  \n",
       "4  https://www.linkedin.com/in/alex-zavarzin-1879...  1997-01-01        None  "
      ]
     },
     "metadata": {},
     "output_type": "display_data"
    }
   ],
   "metadata": {
    "datalore": {
     "node_id": "VvwOKFjNfTOCxKlIJThuCi",
     "type": "CODE",
     "hide_input_from_viewers": false,
     "hide_output_from_viewers": false,
     "report_properties": {
      "rowId": "Ztmt9Y09PFVIpW2UWtP6Sp"
     }
    }
   }
  },
  {
   "cell_type": "code",
   "source": [
    "ss_exec_df.rename(\n",
    "    columns={'PERSONID': 'PERSON_ID', 'COMPANYID': 'COMPANY_ID', 'FIRSTNAME': 'FIRST_NAME', 'LASTNAME': 'LAST_NAME',\n",
    "             'STARTDATE': 'START_DATE', 'ENDDATE': 'END_DATE'}, inplace=True)"
   ],
   "execution_count": null,
   "outputs": [],
   "metadata": {
    "datalore": {
     "node_id": "Sg0iQWDuj53WUY33pssTdZ",
     "type": "CODE",
     "hide_input_from_viewers": false,
     "hide_output_from_viewers": false,
     "report_properties": {
      "rowId": "H4smFYT8jQJdH9MUs150Wa"
     }
    }
   }
  },
  {
   "cell_type": "code",
   "source": [
    "ss_exec_df['LINKEDIN'] = ss_exec_df['LINKEDIN'].apply(\n",
    "    lambda x: (str(urlparse(x).netloc or '').lstrip('www.') + str(urlparse(x).path or '')))\n",
    "ss_exec_df.START_DATE = ss_exec_df.START_DATE.fillna(0).astype('str').replace('0', np.nan)\n",
    "ss_exec_df.END_DATE = ss_exec_df.END_DATE.fillna(0).astype('str').replace('0', np.nan)"
   ],
   "execution_count": null,
   "outputs": [],
   "metadata": {
    "datalore": {
     "node_id": "quzYpQBla4VM1b65KKJUke",
     "type": "CODE",
     "hide_input_from_viewers": false,
     "hide_output_from_viewers": false,
     "report_properties": {
      "rowId": "1oJeTlLK3ULIbdWbPHDdoo"
     }
    }
   }
  },
  {
   "cell_type": "code",
   "source": [
    "ss_exec_df.head(5)"
   ],
   "execution_count": null,
   "outputs": [
    {
     "data": {
      "text/html": [
       "<div>\n",
       "<style scoped>\n",
       "    .dataframe tbody tr th:only-of-type {\n",
       "        vertical-align: middle;\n",
       "    }\n",
       "\n",
       "    .dataframe tbody tr th {\n",
       "        vertical-align: top;\n",
       "    }\n",
       "\n",
       "    .dataframe thead th {\n",
       "        text-align: right;\n",
       "    }\n",
       "</style>\n",
       "<table border=\"1\" class=\"dataframe\">\n",
       "  <thead>\n",
       "    <tr style=\"text-align: right;\">\n",
       "      <th></th>\n",
       "      <th>PERSON_ID</th>\n",
       "      <th>COMPANY_ID</th>\n",
       "      <th>EMAIL</th>\n",
       "      <th>TITLE</th>\n",
       "      <th>FIRST_NAME</th>\n",
       "      <th>LAST_NAME</th>\n",
       "      <th>LINKEDIN</th>\n",
       "      <th>START_DATE</th>\n",
       "      <th>END_DATE</th>\n",
       "    </tr>\n",
       "  </thead>\n",
       "  <tbody>\n",
       "    <tr>\n",
       "      <th>0</th>\n",
       "      <td>sourcescrub-1873836</td>\n",
       "      <td>sourcescrub-1883179</td>\n",
       "      <td>bogdan.yakovenko@serverbee.net</td>\n",
       "      <td>CEO</td>\n",
       "      <td>Bogdan</td>\n",
       "      <td>Yakovenko</td>\n",
       "      <td>linkedin.com/in/imxotep</td>\n",
       "      <td>2019-01-21</td>\n",
       "      <td>NaN</td>\n",
       "    </tr>\n",
       "    <tr>\n",
       "      <th>1</th>\n",
       "      <td>sourcescrub-1108552</td>\n",
       "      <td>sourcescrub-217812</td>\n",
       "      <td>smankiewicz@healthvana.com</td>\n",
       "      <td>CTO / VP Engineering</td>\n",
       "      <td>Sam</td>\n",
       "      <td>Mankiewicz</td>\n",
       "      <td>linkedin.com/in/sammankiewicz</td>\n",
       "      <td>2016-05-01</td>\n",
       "      <td>2018-10-01</td>\n",
       "    </tr>\n",
       "    <tr>\n",
       "      <th>2</th>\n",
       "      <td>sourcescrub-2372025</td>\n",
       "      <td>sourcescrub-2261938</td>\n",
       "      <td>ben@entek.be</td>\n",
       "      <td>Co-Owner</td>\n",
       "      <td>Ben</td>\n",
       "      <td>Van Ham</td>\n",
       "      <td>linkedin.com/in/benvanham</td>\n",
       "      <td>2012-03-01</td>\n",
       "      <td>NaN</td>\n",
       "    </tr>\n",
       "    <tr>\n",
       "      <th>3</th>\n",
       "      <td>sourcescrub-2759275</td>\n",
       "      <td>sourcescrub-1533681</td>\n",
       "      <td>gvenugopalan@rakwhitecement.ae</td>\n",
       "      <td>Director</td>\n",
       "      <td>Venugopalan</td>\n",
       "      <td>Ganapathy</td>\n",
       "      <td>linkedin.com/in/venugopalan-ganapathy-094a7443</td>\n",
       "      <td>2015-03-01</td>\n",
       "      <td>NaN</td>\n",
       "    </tr>\n",
       "    <tr>\n",
       "      <th>4</th>\n",
       "      <td>sourcescrub-3879509</td>\n",
       "      <td>sourcescrub-13472744</td>\n",
       "      <td>None</td>\n",
       "      <td>Owner</td>\n",
       "      <td>Alex</td>\n",
       "      <td>Zavarzin</td>\n",
       "      <td>linkedin.com/in/alex-zavarzin-1879a151</td>\n",
       "      <td>1997-01-01</td>\n",
       "      <td>NaN</td>\n",
       "    </tr>\n",
       "  </tbody>\n",
       "</table>\n",
       "</div>"
      ]
     },
     "metadata": {},
     "output_type": "display_data"
    },
    {
     "data": {
      "text/plain": [
       "             PERSON_ID            COMPANY_ID                           EMAIL  \\\n",
       "0  sourcescrub-1873836   sourcescrub-1883179  bogdan.yakovenko@serverbee.net   \n",
       "1  sourcescrub-1108552    sourcescrub-217812      smankiewicz@healthvana.com   \n",
       "2  sourcescrub-2372025   sourcescrub-2261938                    ben@entek.be   \n",
       "3  sourcescrub-2759275   sourcescrub-1533681  gvenugopalan@rakwhitecement.ae   \n",
       "4  sourcescrub-3879509  sourcescrub-13472744                            None   \n",
       "\n",
       "                  TITLE   FIRST_NAME   LAST_NAME  \\\n",
       "0                   CEO       Bogdan   Yakovenko   \n",
       "1  CTO / VP Engineering          Sam  Mankiewicz   \n",
       "2              Co-Owner          Ben     Van Ham   \n",
       "3              Director  Venugopalan   Ganapathy   \n",
       "4                 Owner         Alex    Zavarzin   \n",
       "\n",
       "                                         LINKEDIN  START_DATE    END_DATE  \n",
       "0                         linkedin.com/in/imxotep  2019-01-21         NaN  \n",
       "1                   linkedin.com/in/sammankiewicz  2016-05-01  2018-10-01  \n",
       "2                       linkedin.com/in/benvanham  2012-03-01         NaN  \n",
       "3  linkedin.com/in/venugopalan-ganapathy-094a7443  2015-03-01         NaN  \n",
       "4          linkedin.com/in/alex-zavarzin-1879a151  1997-01-01         NaN  "
      ]
     },
     "metadata": {},
     "output_type": "display_data"
    }
   ],
   "metadata": {
    "datalore": {
     "node_id": "9RMeXmHeOlCy8qgUqX5GN8",
     "type": "CODE",
     "hide_input_from_viewers": false,
     "hide_output_from_viewers": false,
     "report_properties": {
      "rowId": "1huEUxHyCDUF0jgNOZFtVe"
     }
    }
   }
  },
  {
   "cell_type": "code",
   "source": [
    "# previous executives\n",
    "ss_curr_exec_df = ss_exec_df[ss_exec_df['END_DATE'].isna() == True]\n",
    "print(ss_curr_exec_df.shape)\n",
    "\n",
    "# current executives\n",
    "ss_prev_exec_df = ss_exec_df[ss_exec_df['END_DATE'].isna() == False]\n",
    "print(ss_prev_exec_df.shape)"
   ],
   "execution_count": null,
   "outputs": [
    {
     "name": "stdout",
     "text": [
      "(2250083, 9)\n",
      "(592672, 9)\n"
     ],
     "output_type": "stream"
    }
   ],
   "metadata": {
    "datalore": {
     "node_id": "NslLwe2s1L6V6j3bNFJWPS",
     "type": "CODE",
     "hide_input_from_viewers": false,
     "hide_output_from_viewers": false,
     "report_properties": {
      "rowId": "svZgUfEVxu4VEtC1biCtNh"
     }
    }
   }
  },
  {
   "cell_type": "code",
   "source": [
    " ### Ingesting Common SourceScrub ExectutovesIdentifiers into Graph\n",
    "\n",
    "for ss_exec_df in [ss_curr_exec_df, ss_prev_exec_df]:\n",
    "    ss_exec_df_linkedin = np.array_split(\n",
    "        ss_exec_df[ss_exec_df['LINKEDIN'].isna() == False][['LINKEDIN']].rename(columns={'LINKEDIN': 'URL'}).to_dict(\n",
    "            'records'), BATCHES)\n",
    "    for chunk_df in ss_exec_df_linkedin:\n",
    "        merge_nodes(\n",
    "            graph.auto(),\n",
    "            chunk_df,\n",
    "            ((\"URLIdentifier\", \"LinkedInURL\"), \"URL\"),\n",
    "        )"
   ],
   "execution_count": null,
   "outputs": [],
   "metadata": {
    "datalore": {
     "node_id": "agOV8sylqghPuczb7yqZBC",
     "type": "CODE",
     "hide_input_from_viewers": false,
     "hide_output_from_viewers": false,
     "report_properties": {
      "rowId": "CcQbpfhQU2HmxCKFyaGFqa"
     }
    }
   }
  },
  {
   "cell_type": "code",
   "source": [
    "for ss_exec_df in [ss_prev_exec_df, ss_curr_exec_df]:\n",
    "    for identifier in ['LINKEDIN', 'EMAIL']:\n",
    "        ss_identifier_rel = \\\n",
    "        ss_bm_df.loc[ss_bm_df[identifier] != np.nan][['PERSON_ID', identifier]]\n",
    "        ss_identifier_rel.insert(1, 'WEIGHT', [[0.5]] * len(ss_bm_df))\n",
    "        df_list = np.array_split(ss_identifier_rel, BATCHES)\n",
    "        for chunk_df in df_list:\n",
    "            # merge_relationships(\n",
    "            #     graph.auto(),\n",
    "            #     chunk_df.values.tolist(),\n",
    "            #     merge_key=\"LINKED_TO\",\n",
    "            #     start_node_key=(\"PERSON\", \"PERSON_ID\"),\n",
    "            #     end_node_key=(\"PERSON\", \"PERSON_ID\"),\n",
    "            #     keys=[\"WEIGHT\"]\n",
    "            # ),\n",
    "            merge_relationships(\n",
    "                graph.auto(),\n",
    "                chunk_df.values.tolist(),\n",
    "                merge_key=\"LINKED_TO\",\n",
    "                start_node_key=(\"PERSON\", \"PERSON_ID\"),\n",
    "                end_node_key=(\"COMPANY\", \"COMPANY_ID\"),\n",
    "                keys=[\"WEIGHT\"]\n",
    "            )"
   ],
   "execution_count": null,
   "outputs": [],
   "metadata": {
    "datalore": {
     "node_id": "dgytvubTp9fYZI6EOjD57m",
     "type": "CODE",
     "hide_input_from_viewers": false,
     "hide_output_from_viewers": false,
     "report_properties": {
      "rowId": "6kJnGGB6DDxDRZII51OHu9"
     }
    }
   }
  },
  {
   "cell_type": "markdown",
   "source": [
    "### CrunchBase Jobs\n",
    "#### 1. Current Jobs"
   ],
   "attachments": {},
   "metadata": {
    "datalore": {
     "node_id": "qt9odOLxLksshCKU6AW3FS",
     "type": "MD",
     "hide_input_from_viewers": false,
     "hide_output_from_viewers": false,
     "report_properties": {
      "rowId": "FiLnSZQu4bgvMWCRyoBETU"
     }
    }
   }
  },
  {
   "cell_type": "code",
   "execution_count": null,
   "outputs": [],
   "source": [
    "cb_prevjobs_df = cursor.execute(\n",
    "    'SELECT UUID, \"JOB TYPE\", NAME, \"ORG NAME\", \"ORG UUID\", PERMALINK, \"PERSON NAME\", \"PERSON UUID\"  FROM AMD_CATALYST_DB.L2.GRAPH_CRUNCHBASE_CURRENT_JOBS').fetch_pandas_all()\n"
   ],
   "metadata": {
    "collapsed": false
   }
  },
  {
   "cell_type": "code",
   "source": [
    "cb_currjobs_df = cursor.execute(\n",
    "    'SELECT UUID, \"JOB TYPE\", NAME, \"ORG NAME\", \"ORG UUID\", PERMALINK, \"PERSON NAME\", \"PERSON UUID\"  FROM AMD_CATALYST_DB.L2.GRAPH_CRUNCHBASE_CURRENT_JOBS').fetch_pandas_all()\n"
   ],
   "execution_count": null,
   "outputs": [
    {
     "data": {
      "text/html": [
       "<div>\n",
       "<style scoped>\n",
       "    .dataframe tbody tr th:only-of-type {\n",
       "        vertical-align: middle;\n",
       "    }\n",
       "\n",
       "    .dataframe tbody tr th {\n",
       "        vertical-align: top;\n",
       "    }\n",
       "\n",
       "    .dataframe thead th {\n",
       "        text-align: right;\n",
       "    }\n",
       "</style>\n",
       "<table border=\"1\" class=\"dataframe\">\n",
       "  <thead>\n",
       "    <tr style=\"text-align: right;\">\n",
       "      <th></th>\n",
       "      <th>UUID</th>\n",
       "      <th>JOB TYPE</th>\n",
       "      <th>NAME</th>\n",
       "      <th>ORG NAME</th>\n",
       "      <th>ORG UUID</th>\n",
       "      <th>PERMALINK</th>\n",
       "      <th>PERSON NAME</th>\n",
       "      <th>PERSON UUID</th>\n",
       "    </tr>\n",
       "  </thead>\n",
       "  <tbody>\n",
       "    <tr>\n",
       "      <th>0</th>\n",
       "      <td>271cd67c-29e0-4981-80b9-624ead28de1a</td>\n",
       "      <td>executive</td>\n",
       "      <td>Geoffrey Goldberg Co-Founder &amp; Chief Creative ...</td>\n",
       "      <td>Movers+Shakers</td>\n",
       "      <td>b5564a92-1a03-4e7c-924f-8eee7b7e9241</td>\n",
       "      <td>geoffrey-goldberg-b93b-executive-movers-shaker...</td>\n",
       "      <td>Geoffrey Goldberg</td>\n",
       "      <td>52c1da33-3fcd-4203-aad6-1ade3243b93b</td>\n",
       "    </tr>\n",
       "    <tr>\n",
       "      <th>1</th>\n",
       "      <td>97a9ea53-1d97-40c3-9bfc-3ed960502f41</td>\n",
       "      <td>employee</td>\n",
       "      <td>Anabel Roitz Business and product development ...</td>\n",
       "      <td>Youse Seguros</td>\n",
       "      <td>167c305a-4743-401c-8749-cd80e4e3a844</td>\n",
       "      <td>anabel-roitz-employee-youse-seguros--97a9ea53</td>\n",
       "      <td>Anabel Roitz</td>\n",
       "      <td>bfa09810-c845-494e-aa19-a85f759870f9</td>\n",
       "    </tr>\n",
       "    <tr>\n",
       "      <th>2</th>\n",
       "      <td>12d17236-98f4-4d42-8c84-09470886b3bc</td>\n",
       "      <td>executive</td>\n",
       "      <td>Luc Seraphin CEO @ Rambus</td>\n",
       "      <td>Rambus</td>\n",
       "      <td>b7fb95a3-cc31-1084-7258-b9b0869c0199</td>\n",
       "      <td>luc-seraphin-executive-rambus--12d17236</td>\n",
       "      <td>Luc Seraphin</td>\n",
       "      <td>da736ecc-2bb6-4252-bedc-00abcdc004ae</td>\n",
       "    </tr>\n",
       "    <tr>\n",
       "      <th>3</th>\n",
       "      <td>3adfd278-8a3e-429a-bcfb-7489dbc93e96</td>\n",
       "      <td>executive</td>\n",
       "      <td>Craig Zingerline Co-Founder @ Growth University</td>\n",
       "      <td>Growth University</td>\n",
       "      <td>c69717ab-4878-457c-8f9c-20b682a58226</td>\n",
       "      <td>craig-zingerline-executive-growth-university--...</td>\n",
       "      <td>Craig Zingerline</td>\n",
       "      <td>51abfa96-4415-8523-dfba-81fce13bf9d8</td>\n",
       "    </tr>\n",
       "    <tr>\n",
       "      <th>4</th>\n",
       "      <td>ac67f6fa-efff-7cc8-7e1b-c1a99e6bca61</td>\n",
       "      <td>executive</td>\n",
       "      <td>William Walczak Director @ Hiilite</td>\n",
       "      <td>Hiilite</td>\n",
       "      <td>9d0515a4-6af2-9ac9-da94-a652c4d7bb2f</td>\n",
       "      <td>william-walczak-executive-hiilite-creative-gro...</td>\n",
       "      <td>William Walczak</td>\n",
       "      <td>90ec2aac-0369-1b83-aae0-8bedb8f86fa4</td>\n",
       "    </tr>\n",
       "  </tbody>\n",
       "</table>\n",
       "</div>"
      ]
     },
     "metadata": {},
     "output_type": "display_data"
    },
    {
     "data": {
      "text/plain": [
       "                                   UUID   JOB TYPE  \\\n",
       "0  271cd67c-29e0-4981-80b9-624ead28de1a  executive   \n",
       "1  97a9ea53-1d97-40c3-9bfc-3ed960502f41   employee   \n",
       "2  12d17236-98f4-4d42-8c84-09470886b3bc  executive   \n",
       "3  3adfd278-8a3e-429a-bcfb-7489dbc93e96  executive   \n",
       "4  ac67f6fa-efff-7cc8-7e1b-c1a99e6bca61  executive   \n",
       "\n",
       "                                                NAME           ORG NAME  \\\n",
       "0  Geoffrey Goldberg Co-Founder & Chief Creative ...     Movers+Shakers   \n",
       "1  Anabel Roitz Business and product development ...      Youse Seguros   \n",
       "2                          Luc Seraphin CEO @ Rambus             Rambus   \n",
       "3    Craig Zingerline Co-Founder @ Growth University  Growth University   \n",
       "4                 William Walczak Director @ Hiilite            Hiilite   \n",
       "\n",
       "                               ORG UUID  \\\n",
       "0  b5564a92-1a03-4e7c-924f-8eee7b7e9241   \n",
       "1  167c305a-4743-401c-8749-cd80e4e3a844   \n",
       "2  b7fb95a3-cc31-1084-7258-b9b0869c0199   \n",
       "3  c69717ab-4878-457c-8f9c-20b682a58226   \n",
       "4  9d0515a4-6af2-9ac9-da94-a652c4d7bb2f   \n",
       "\n",
       "                                           PERMALINK        PERSON NAME  \\\n",
       "0  geoffrey-goldberg-b93b-executive-movers-shaker...  Geoffrey Goldberg   \n",
       "1      anabel-roitz-employee-youse-seguros--97a9ea53       Anabel Roitz   \n",
       "2            luc-seraphin-executive-rambus--12d17236       Luc Seraphin   \n",
       "3  craig-zingerline-executive-growth-university--...   Craig Zingerline   \n",
       "4  william-walczak-executive-hiilite-creative-gro...    William Walczak   \n",
       "\n",
       "                            PERSON UUID  \n",
       "0  52c1da33-3fcd-4203-aad6-1ade3243b93b  \n",
       "1  bfa09810-c845-494e-aa19-a85f759870f9  \n",
       "2  da736ecc-2bb6-4252-bedc-00abcdc004ae  \n",
       "3  51abfa96-4415-8523-dfba-81fce13bf9d8  \n",
       "4  90ec2aac-0369-1b83-aae0-8bedb8f86fa4  "
      ]
     },
     "metadata": {},
     "output_type": "display_data"
    }
   ],
   "metadata": {
    "datalore": {
     "node_id": "U7VikJGBgZ64ba7cDlT3n0",
     "type": "CODE",
     "hide_input_from_viewers": false,
     "hide_output_from_viewers": false,
     "report_properties": {
      "rowId": "2sbWcAqrcAYNHxtrHX5erj"
     }
    }
   }
  },
  {
   "cell_type": "code",
   "source": [
    "cb_currjobs_df.rename(columns={\n",
    "    'UUID': 'JOB_ID',\n",
    "    'JOB TYPE': 'JOB_TYPE',\n",
    "    'NAME': 'JOB_NAME',\n",
    "    'ORG NAME': 'ORG_NAME',\n",
    "    'ORG UUID': 'ORG_UUID',\n",
    "    'PERSON NAME': 'PERSON_NAME',\n",
    "    'PERSON UUID': 'PERSON_UUID'\n",
    "}, inplace=True)\n",
    "\n",
    "cb_currjobs_df['JOB_NAME'] = cb_currjobs_df['JOB_NAME'].apply(lambda x: x.split(\"@\")[0])\n",
    "# cb_jobs_df.replace(r'^\\s*$', np.nan, regex=True, inplace=True)\n",
    "# cb_jobs_df.replace({None: ''}, inplace=True)"
   ],
   "execution_count": null,
   "outputs": [],
   "metadata": {
    "datalore": {
     "node_id": "nSU9sUyGErl8bEnYQhcQX5",
     "type": "CODE",
     "hide_input_from_viewers": false,
     "hide_output_from_viewers": false,
     "report_properties": {
      "rowId": "jzuhHBch0Oo9AMj7MuX9t5"
     }
    }
   }
  },
  {
   "cell_type": "code",
   "source": [
    "cb_currjobs_df.head()"
   ],
   "execution_count": 2,
   "outputs": [
    {
     "ename": "NameError",
     "evalue": "name 'cb_jobs_df' is not defined",
     "output_type": "error",
     "traceback": [
      "\u001B[0;31m---------------------------------------------------------------------------\u001B[0m",
      "\u001B[0;31mNameError\u001B[0m                                 Traceback (most recent call last)",
      "Input \u001B[0;32mIn [2]\u001B[0m, in \u001B[0;36m<cell line: 1>\u001B[0;34m()\u001B[0m\n\u001B[0;32m----> 1\u001B[0m \u001B[43mcb_jobs_df\u001B[49m\u001B[38;5;241m.\u001B[39mhead()\n",
      "\u001B[0;31mNameError\u001B[0m: name 'cb_jobs_df' is not defined"
     ]
    }
   ],
   "metadata": {
    "datalore": {
     "node_id": "namcpNuW3EXTm8Zv39S7wm",
     "type": "CODE",
     "hide_input_from_viewers": false,
     "hide_output_from_viewers": false,
     "report_properties": {
      "rowId": "7ZDq4mOWKXwAOhDasKZKgb"
     }
    },
    "ExecuteTime": {
     "end_time": "2023-06-15T06:14:25.054672Z",
     "start_time": "2023-06-15T06:14:25.045003Z"
    }
   }
  },
  {
   "cell_type": "code",
   "source": [
    "cb_jobs_permalink_df = np.array_split(\n",
    "    cb_currjobs_df[cb_currjobs_df['PERMALINK'].isna() == False][['PERMALINK']].rename(columns={'PERMALINK': 'URL'}).to_dict(\n",
    "        'records'), BATCHES)\n",
    "for chunk_df in cb_jobs_permalink_df:\n",
    "    merge_nodes(\n",
    "        graph.auto(),\n",
    "        chunk_df,\n",
    "        ((\"URLIdentifier\", \"PERMALINK\"), \"URL\"),\n",
    "    )"
   ],
   "execution_count": null,
   "outputs": [],
   "metadata": {
    "datalore": {
     "node_id": "7gDBQHbw5KrypUX4Q893iC",
     "type": "CODE",
     "hide_input_from_viewers": false,
     "hide_output_from_viewers": false,
     "report_properties": {
      "rowId": "VqMbRx67Anq6pLGo7WZLlQ"
     }
    }
   }
  },
  {
   "cell_type": "code",
   "source": [
    "cb_jobs_jpn_df = np.array_split(\n",
    "    cb_currjobs_df[cb_currjobs_df['JOB_NAME'].isna() == False][['JOB_NAME']].rename(columns={'JOB_TYPE': 'JOB_NAME'}).to_dict(\n",
    "        'records'), BATCHES)\n",
    "for chunk_df in cb_jobs_permalink_df:\n",
    "    merge_nodes(\n",
    "        graph.auto(),\n",
    "        chunk_df,\n",
    "        (\"JOB_TYPE\", \"JOB_NAME\"),\n",
    "    )"
   ],
   "execution_count": null,
   "outputs": [],
   "metadata": {
    "datalore": {
     "node_id": "9OvLXfUttk7BLv9EADH04d",
     "type": "CODE",
     "hide_input_from_viewers": false,
     "hide_output_from_viewers": false,
     "report_properties": {
      "rowId": "ECKKP0p7JBpSGfk9yyehY7"
     }
    }
   }
  },
  {
   "cell_type": "code",
   "source": [],
   "execution_count": null,
   "outputs": [
    {
     "ename": "ValueError",
     "evalue": "ValueError: The truth value of a DataFrame is ambiguous. Use a.empty, a.bool(), a.item(), a.any() or a.all().",
     "traceback": [
      "\u001B[0;31m---------------------------------------------------------------------------",
      "Traceback (most recent call last)",
      "ValueError: The truth value of a DataFrame is ambiguous. Use a.empty, a.bool(), a.item(), a.any() or a.all()."
     ],
     "output_type": "error"
    }
   ],
   "metadata": {
    "datalore": {
     "node_id": "OVoX1HfozZpfd94gq0x2pM",
     "type": "CODE",
     "hide_input_from_viewers": false,
     "hide_output_from_viewers": false,
     "report_properties": {
      "rowId": "htsh9C3RS2dfkDXg90SoUI"
     }
    }
   }
  },
  {
   "cell_type": "code",
   "source": [
    "cb_jobs_org_df = np.array_split(\n",
    "    cb_currjobs_df[cb_currjobs_df[['JOB_TYPE', 'JOB_NAME']].isna() == False][['JOB_TYPE', 'JOB_NAME']].rename(\n",
    "        columns={'JOB_TYPE': 'JOB_NAME'}).to_dict('records'), BATCHES)\n",
    "\n",
    "for chunk_df in cb_jobs_permalink_df:\n",
    "    merge_nodes(\n",
    "        graph.auto(),\n",
    "        chunk_df,\n",
    "        (\"JOB_TYPE\", \"JOB_NAME\"),\n",
    "    )"
   ],
   "execution_count": null,
   "outputs": [],
   "metadata": {
    "datalore": {
     "node_id": "gXmIUSpB9hCybHWpZiLIqB",
     "type": "CODE",
     "hide_input_from_viewers": false,
     "hide_output_from_viewers": false,
     "report_properties": {
      "rowId": "1BpaN94A838foCnJWUiqzB"
     }
    }
   }
  },
  {
   "cell_type": "code",
   "source": [
    "\n",
    "cb_identifier_relationships = cb_currjobs_df.loc[cb_currjobs_df[identifier] != np.nan][['PERSON_ID', identifier]]\n",
    "cb_identifier_relationships.insert(1, 'WEIGHT', [[0.5]] * len(cb_currjobs_df))\n",
    "df_list = np.array_split(cb_identifier_relationships, BATCHES)\n",
    "for chunk_df in df_list:\n",
    "    merge_relationships(\n",
    "        graph.auto(),\n",
    "        chunk_df.values.tolist(),\n",
    "        merge_key=\"LINKED_TO\",\n",
    "        start_node_key=(\"PERSON\", \"PERSON\"),\n",
    "        end_node_key=(\"\", \"JOB_ID\"),\n",
    "        keys=[\"WEIGHT\"]\n",
    "    ),\n",
    "    merge_relationships(\n",
    "        graph.auto(),\n",
    "        chunk_df.values.tolist(),\n",
    "        merge_key=\"LINKED_TO\",\n",
    "        start_node_key=(\"PERSON\", \"PERSON_ID\"),\n",
    "        end_node_key=(\"COMPANY\", \"COMPANY_ID\"),\n",
    "        keys=[\"WEIGHT\"]\n",
    "    ),\n",
    "    merge_relationships(\n",
    "        graph.auto(),\n",
    "        chunk_df.values.tolist(),\n",
    "        merge_key=\"LINKED_TO\",\n",
    "        start_node_key=(\"PERSON\", \"PERSON_ID\"),\n",
    "        end_node_key=(\"COMPANY\", \"COMPANY_ID\"),\n",
    "        keys=[\"WEIGHT\"]\n",
    "    )"
   ],
   "execution_count": null,
   "outputs": [],
   "metadata": {
    "datalore": {
     "node_id": "OX2927ryhc3AOWVPzorYVY",
     "type": "CODE",
     "hide_input_from_viewers": false,
     "hide_output_from_viewers": false,
     "report_properties": {
      "rowId": "HZahZIPNCojtwPfXKWggf1"
     }
    }
   }
  },
  {
   "cell_type": "code",
   "source": [
    "cb_currjobs_df = cursor.execute(\n",
    "    'SELECT UUID, \"JOB TYPE\", NAME, \"ORG NAME\", \"ORG UUID\", PERMALINK, \"PERSON NAME\", \"PERSON UUID\"  FROM AMD_CATALYST_DB.L2.GRAPH_CRUNCHBASE_CURRENT_JOBS').fetch_pandas_all()\n",
    "display(cb_currjobs_df.head(5))"
   ],
   "execution_count": null,
   "outputs": [],
   "metadata": {
    "datalore": {
     "node_id": "7lG0oGxKUv7R3RbaE1cpNJ",
     "type": "CODE",
     "hide_input_from_viewers": false,
     "hide_output_from_viewers": false,
     "report_properties": {
      "rowId": "rUuoNM2H60XCYyg5VhccRZ"
     }
    }
   }
  },
  {
   "cell_type": "code",
   "source": [],
   "execution_count": null,
   "outputs": [],
   "metadata": {
    "datalore": {
     "node_id": "iXc6lJ8hgHFXc1ekmMI0Uu",
     "type": "CODE",
     "hide_input_from_viewers": false,
     "hide_output_from_viewers": false,
     "report_properties": {
      "rowId": "rUuoNM2H60XCYyg5VhccRZ"
     }
    }
   }
  },
  {
   "cell_type": "code",
   "source": [
    "\n",
    "cb_org_df = np.cb_org_df(cb_org_df[cb_org_df['LINKEDIN'].isna() == False][['LINKEDIN']].rename(columns\n",
    "                                                                                               ={'LINKEDIN': 'URL'}).to_dict('records'), BATCHES)\n",
    "for chunk_df in cb_org_df:\n",
    "    merge_nodes(\n",
    "        graph.auto(),\n",
    "        chunk_df,\n",
    "        ((\"URLIdentifier\", \"LinkedInURL\"), \"URL\"),\n",
    "    )\n",
    "\n",
    "\n",
    "\n",
    "cb_org_df = np.array_split(\n",
    "    cb_org_df[cb_org_df['CRUNCHBASE'].isna() == False][['CRUNCHBASE']].rename(\n",
    "        columns={'CRUNCHBASE': 'URL'}).to_dict('records'), BATCHES)\n",
    "for chunk_df in cb_org_df:\n",
    "    merge_nodes(\n",
    "        graph.auto(),\n",
    "        chunk_df,\n",
    "        ((\"URLIdentifier\", \"CrunchbaseURL\"), \"URL\"),\n",
    "    )"
   ],
   "execution_count": null,
   "outputs": [],
   "metadata": {
    "datalore": {
     "node_id": "UQkiA1lgzuB52qaCeF0hCB",
     "type": "CODE",
     "hide_input_from_viewers": false,
     "hide_output_from_viewers": false,
     "report_properties": {
      "rowId": "Zq5jdaZEgGgKRAqiQdlf3S"
     }
    }
   }
  },
  {
   "cell_type": "code",
   "source": [],
   "execution_count": null,
   "outputs": [],
   "metadata": {
    "datalore": {
     "node_id": "xRVu477Cjqx1k8K9vYIFCn",
     "type": "CODE",
     "hide_input_from_viewers": false,
     "hide_output_from_viewers": false,
     "report_properties": {
      "rowId": "rUuoNM2H60XCYyg5VhccRZ"
     }
    }
   }
  },
  {
   "cell_type": "code",
   "source": [
    "# crunchbase_organizations_df = cursor.execute('SELECT CRUNCHBASE_ORGANIZATION_UUID, ORGANIZATION_CITY, FACEBOOK_URL, DOMAIN, TWITTER_URL, FUNDING_ROUND_TYPE, FOUNDED_ON, EMPLOYEE_COUNT, CRUNCHBASE_GROUPS, ORGANIZATION_STATE_CODE, ORGANIZATION_NAME, LINKEDIN_URL, ORGANIZATION_COUNTRY_CODE, CRUNCHBASE_URL FROM L2_NEW.CRUNCHBASE_ORGANIZATIONS WHERE DOMAIN IS NOT NULL OR TWITTER_URL IS NOT NULL OR FACEBOOK_URL IS NOT NULL OR LINKEDIN_URL IS NOT NULL OR CRUNCHBASE_URL IS NOT NULL').fetch_pandas_all()\n",
    "\n",
    "\n",
    "crunchbase_organizations_df.replace({None: ''}, inplace=True)\n",
    "\n",
    "crunchbase_organizations_df['LINKEDIN'] = crunchbase_organizations_df['LINKEDIN'].apply(lambda x: (\n",
    "            str(urlparse(x.replace('[', '').replace(']', '')).netloc or '') + str(\n",
    "        urlparse(x.replace('[', '').replace(']', '')).path or '')).lstrip('www.'))\n",
    "crunchbase_organizations_df['TWITTER'] = crunchbase_organizations_df['TWITTER'].apply(\n",
    "    lambda x: (str(urlparse(x).netloc or '') + str(urlparse(x).path or '')).lstrip('www.'))\n",
    "crunchbase_organizations_df['FACEBOOK'] = crunchbase_organizations_df['FACEBOOK'].apply(\n",
    "    lambda x: (str(urlparse(x).netloc or '') + str(urlparse(x).path or '')).lstrip('www.'))\n",
    "crunchbase_organizations_df['CRUNCHBASE'] = crunchbase_organizations_df['CRUNCHBASE'].apply(\n",
    "    lambda x: (str(urlparse(x).netloc or '') + str(urlparse(x).path or '')).lstrip('www.'))\n",
    "\n",
    "crunchbase_organizations_df.replace(r'^\\s*$', np.nan, regex=True, inplace=True)\n",
    "display(crunchbase_organizations_df.head())"
   ],
   "execution_count": null,
   "outputs": [],
   "metadata": {
    "datalore": {
     "node_id": "bldXDC5Gq8FpNEw4YFrMlM",
     "type": "CODE",
     "hide_input_from_viewers": false,
     "hide_output_from_viewers": false,
     "report_properties": {
      "rowId": "OQPqYVOaih5WyJ5h0XhP2Y"
     }
    }
   }
  },
  {
   "cell_type": "code",
   "source": [
    "crunchbase_organizations_df_website = np.array_split(\n",
    "    crunchbase_organizations_df[crunchbase_organizations_df['DOMAIN'].isna() == False][['DOMAIN']].rename(\n",
    "        columns={'DOMAIN': 'URL'}).to_dict('records'), BATCHES)\n",
    "for chunk_df in crunchbase_organizations_df_website:\n",
    "    merge_nodes(\n",
    "        graph.auto(),\n",
    "        chunk_df,\n",
    "        ((\"URLIdentifier\", \"DomainURL\"), \"URL\"),\n",
    "    )\n",
    "\n",
    "crunchbase_organizations_df_linkedin = np.array_split(\n",
    "    crunchbase_organizations_df[crunchbase_organizations_df['LINKEDIN'].isna() == False][['LINKEDIN']].rename(\n",
    "        columns={'LINKEDIN': 'URL'}).to_dict('records'), BATCHES)\n",
    "for chunk_df in crunchbase_organizations_df_linkedin:\n",
    "    merge_nodes(\n",
    "        graph.auto(),\n",
    "        chunk_df,\n",
    "        ((\"URLIdentifier\", \"LinkedInURL\"), \"URL\"),\n",
    "    )\n",
    "\n",
    "crunchbase_organizations_df_twitter = np.array_split(\n",
    "    crunchbase_organizations_df[crunchbase_organizations_df['TWITTER'].isna() == False][['TWITTER']].rename(\n",
    "        columns={'TWITTER': 'URL'}).to_dict('records'), BATCHES)\n",
    "for chunk_df in crunchbase_organizations_df_twitter:\n",
    "    merge_nodes(\n",
    "        graph.auto(),\n",
    "        chunk_df,\n",
    "        ((\"URLIdentifier\", \"TwitterURL\"), \"URL\"),\n",
    "    )\n",
    "\n",
    "crunchbase_organizations_df_facebook = np.array_split(\n",
    "    crunchbase_organizations_df[crunchbase_organizations_df['FACEBOOK'].isna() == False][['FACEBOOK']].rename(\n",
    "        columns={'FACEBOOK': 'URL'}).to_dict('records'), BATCHES)\n",
    "for chunk_df in crunchbase_organizations_df_facebook:\n",
    "    merge_nodes(\n",
    "        graph.auto(),\n",
    "        chunk_df,\n",
    "        ((\"URLIdentifier\", \"FacebookURL\"), \"URL\"),\n",
    "    )\n",
    "\n",
    "cb_org_df = np.array_split(\n",
    "    crunchbase_organizations_df[crunchbase_organizations_df['CRUNCHBASE'].isna() == False][['CRUNCHBASE']].rename(\n",
    "        columns={'CRUNCHBASE': 'URL'}).to_dict('records'), BATCHES)\n",
    "for chunk_df in cb_org_df:\n",
    "    merge_nodes(\n",
    "        graph.auto(),\n",
    "        chunk_df,\n",
    "        ((\"URLIdentifier\", \"CrunchbaseURL\"), \"URL\"),\n",
    "    )"
   ],
   "execution_count": null,
   "outputs": [],
   "metadata": {
    "datalore": {
     "node_id": "pjsEE5systatsdm9tRLFLn",
     "type": "CODE",
     "hide_input_from_viewers": false,
     "hide_output_from_viewers": false,
     "report_properties": {
      "rowId": "F3udzYbXNj3FTTGVrksK4M"
     }
    }
   }
  },
  {
   "cell_type": "code",
   "source": [
    "crunchbase_organizations = np.array_split(\n",
    "    [{k: v for k, v in x.items() if v == v} for x in crunchbase_organizations_df.to_dict('records')], BATCHES)\n",
    "for chunk_df in crunchbase_organizations:\n",
    "    merge_nodes(\n",
    "        graph.auto(),\n",
    "        chunk_df,\n",
    "        ((\"Company\", \"CrunchbaseCompany\"), \"SOURCE_ID\"),\n",
    "    )"
   ],
   "execution_count": null,
   "outputs": [],
   "metadata": {
    "datalore": {
     "node_id": "D9UtjHzS2CxehntkN5wE8K",
     "type": "CODE",
     "hide_input_from_viewers": false,
     "hide_output_from_viewers": false,
     "report_properties": {
      "rowId": "FjbQQ3sH93lfPW9PHzzeae"
     }
    }
   }
  },
  {
   "cell_type": "code",
   "source": [
    "for identifier in ['DOMAIN', 'LINKEDIN', 'TWITTER', 'FACEBOOK', 'CRUNCHBASE']:\n",
    "    crunchbase_identifier_relationships = \\\n",
    "    crunchbase_organizations_df.loc[crunchbase_organizations_df[identifier] != np.nan][['SOURCE_ID', identifier]]\n",
    "    crunchbase_identifier_relationships.insert(1, 'WEIGHT', [[0.5]] * len(crunchbase_identifier_relationships))\n",
    "\n",
    "    df_list = np.array_split(crunchbase_identifier_relationships, BATCHES)\n",
    "    for chunk_df in df_list:\n",
    "        merge_relationships(\n",
    "            graph.auto(),\n",
    "            chunk_df.values.tolist(),\n",
    "            merge_key=\"LINKED_TO\",\n",
    "            start_node_key=(\"Company\", \"SOURCE_ID\"),\n",
    "            end_node_key=(\"URLIdentifier\", \"URL\"),\n",
    "            keys=[\"WEIGHT\"],\n",
    "        )"
   ],
   "execution_count": null,
   "outputs": [],
   "metadata": {
    "datalore": {
     "node_id": "tHKSzrr0zthg9WNQ1Ozeuk",
     "type": "CODE",
     "hide_input_from_viewers": false,
     "hide_output_from_viewers": false,
     "report_properties": {
      "rowId": "TP4R0bkgsgEMSRab7wSJk5"
     }
    }
   }
  },
  {
   "cell_type": "markdown",
   "source": [
    "### CrunchBase Degress\n",
    "create or replace view AMD_CATALYST_DB.L2.GRAPH_CRUNCHBASE_DEGREES(\n",
    "\t\"CB URL\",\n",
    "\t\"COMPLETED ON\",\n",
    "\t\"CREATED AT\",\n",
    "\t\"CRUX INGESTION DT\",\n",
    "\t\"CRUX SUPPLIER IMPLIED DT\",\n",
    "\t\"DEGREE TYPE\",\n",
    "\t\"ENTITY DEF ID\",\n",
    "\t\"INSTITUTION NAME\",\n",
    "\t\"INSTITUTION UUID\",\n",
    "\t\"IS COMPLETED\",\n",
    "\tNAME,\n",
    "\tPERMALINK,\n",
    "\t\"PERSON NAME\",\n",
    "\t\"PERSON UUID\",\n",
    "\tRANK,\n",
    "\t\"STARTED ON\",\n",
    "\tSUBJECT,\n",
    "\tTYPE,\n",
    "\t\"UPDATED AT\",\n",
    "\tUUID,\n",
    "\tCATALYST_LAST_UPDATED\n",
    ") as\n",
    "SELECT * FROM L1.CRUNCHBASE_DEGREES\n",
    "QUALIFY\n",
    "    ROW_NUMBER() OVER (PARTITION BY L1.CRUNCHBASE_DEGREES.UUID ORDER BY L1.CRUNCHBASE_DEGREES.\"CRUX INGESTION DT\" DESC)=1;"
   ],
   "attachments": {},
   "metadata": {
    "datalore": {
     "node_id": "Xc9arBrun0orDxPJlFEycP",
     "type": "MD",
     "hide_input_from_viewers": false,
     "hide_output_from_viewers": false,
     "report_properties": {
      "rowId": "rIgkZCRVHgKb3AyHBQKVA6"
     }
    }
   }
  },
  {
   "cell_type": "markdown",
   "source": [
    "### CrunchBase Events\n",
    "create or replace view AMD_CATALYST_DB.L2.GRAPH_CRUNCHBASE_EVENTS(\n",
    "\t\"APPEARANCE TYPE\",\n",
    "\t\"CB URL\",\n",
    "\t\"CREATED AT\",\n",
    "\t\"CRUX INGESTION DT\",\n",
    "\t\"CRUX SUPPLIER IMPLIED DT\",\n",
    "\t\"ENTITY DEF ID\",\n",
    "\t\"EVENT NAME\",\n",
    "\t\"EVENT UUID\",\n",
    "\tNAME,\n",
    "\t\"PARTICIPANT NAME\",\n",
    "\t\"PARTICIPANT TYPE\",\n",
    "\t\"PARTICIPANT UUID\",\n",
    "\tPERMALINK,\n",
    "\tRANK,\n",
    "\t\"SHORT DESCRIPTION\",\n",
    "\tTYPE,\n",
    "\t\"UPDATED AT\",\n",
    "\tUUID,\n",
    "\t\"CATALYST LAST UPDATED\"\n",
    ") as\n",
    "  SELECT * FROM L1.CRUNCHBASE_EVENT_APPEARANCES\n",
    "  QUALIFY\n",
    "      ROW_NUMBER() OVER (PARTITION BY L1.CRUNCHBASE_EVENT_APPEARANCES.UUID ORDER BY L1.CRUNCHBASE_EVENT_APPEARANCES.\"CRUX INGESTION DT\" DESC)=1;"
   ],
   "attachments": {},
   "metadata": {
    "datalore": {
     "node_id": "i4QAL9orzncXqVtqMsamy2",
     "type": "MD",
     "hide_input_from_viewers": false,
     "hide_output_from_viewers": false,
     "report_properties": {
      "rowId": "t7n1ehhTAq9w38Ksxgjy5F"
     }
    }
   }
  },
  {
   "cell_type": "code",
   "execution_count": null,
   "outputs": [],
   "source": [
    "cb_currjobs_df = cursor.execute(\n",
    "    'SELECT UUID, \"JOB TYPE\", NAME, \"ORG NAME\", \"ORG UUID\", PERMALINK, \"PERSON NAME\", \"PERSON UUID\"  FROM AMD_CATALYST_DB.L2.GRAPH_CRUNCHBASE_CURRENT_JOBS').fetch_pandas_all()\n",
    "cb_currjobs_df.rename(columns={\n",
    "    'UUID': 'JOB_ID',\n",
    "    'JOB TYPE': 'JOB_TYPE',\n",
    "    'NAME': 'JOB_NAME',\n",
    "    'ORG NAME': 'ORG_NAME',\n",
    "    'ORG UUID': 'ORG_UUID',\n",
    "    'PERSON NAME': 'PERSON_NAME',\n",
    "    'PERSON UUID': 'PERSON_UUID'\n",
    "}, inplace=True)\n",
    "\n",
    "cb_degrees_df = cursor.execute(\n",
    "    'SELECT DEGREE_ID, DEGREE_TYPE, FIELD_OF_STUDY, INSTITUTION, START_DATE, END_DATE, PERSON_NAME, PERSON_UUID FROM YOUR_DATABASE.DEGREES_TABLE').fetch_pandas_all()\n"
   ],
   "metadata": {
    "collapsed": false
   }
  },
  {
   "cell_type": "code",
   "execution_count": null,
   "outputs": [],
   "source": [
    "# Create Job nodes\n",
    "cb_currjobs_df_records = cb_currjobs_df.to_dict('records')\n",
    "cb_jobs_df_chunks = np.array_split(cb_currjobs_df_records, BATCHES)\n",
    "\n",
    "for chunk_df in cb_jobs_df_chunks:\n",
    "    merge_nodes(\n",
    "        graph.auto(),\n",
    "        chunk_df,\n",
    "        ((\"Job\", \"JobID\"), \"JOB_ID\"),\n",
    "    )\n",
    "\n",
    "# Create Degree nodes\n",
    "cb_degrees_df_records = cb_degrees_df.to_dict('records')\n",
    "cb_degrees_df_chunks = np.array_split(cb_degrees_df_records, BATCHES)\n",
    "\n",
    "for chunk_df in cb_degrees_df_chunks:\n",
    "    merge_nodes(\n",
    "        graph.auto(),\n",
    "        chunk_df,\n",
    "        ((\"Degree\", \"DegreeID\"), \"DEGREE_ID\"),\n",
    "    )\n"
   ],
   "metadata": {
    "collapsed": false
   }
  },
  {
   "cell_type": "markdown",
   "source": [
    "## job"
   ],
   "metadata": {
    "collapsed": false
   }
  },
  {
   "cell_type": "code",
   "execution_count": null,
   "outputs": [],
   "source": [
    "from py2neo import Graph\n",
    "from py2neo.bulk import merge_relationships\n",
    "from urllib.parse import urlparse\n",
    "\n",
    "# Connect to the graph database\n",
    "graph = Graph(\"bolt://localhost:7687\", auth=(\"neo4j\", \"password\"))\n",
    "\n",
    "# Let's assume BATCHES is 10\n",
    "BATCHES = 10\n",
    "\n",
    "# Prepare the data for relationships. Here we use 'PERSON_UUID' and 'JOB_ID' columns\n",
    "relationships_df = cb_currjobs_df[['PERSON_UUID', 'JOB_ID']]\n",
    "\n",
    "# Convert the DataFrame to a list of lists\n",
    "relationships_list = relationships_df.values.tolist()\n",
    "\n",
    "# Split the list into smaller chunks\n",
    "relationships_chunks = np.array_split(relationships_list, BATCHES)\n",
    "\n",
    "# For each chunk, create relationships in the graph database\n",
    "for chunk in relationships_chunks:\n",
    "    merge_relationships(\n",
    "        graph.auto(),\n",
    "        chunk,\n",
    "        merge_key=\"WORKS_AT\",\n",
    "        start_node_key=(\"Person\", \"PERSON_UUID\"),\n",
    "        end_node_key=(\"Job\", \"JOB_ID\"),\n",
    "    )\n"
   ],
   "metadata": {
    "collapsed": false
   }
  },
  {
   "cell_type": "markdown",
   "source": [
    "### DEGREE_ID"
   ],
   "metadata": {
    "collapsed": false
   }
  },
  {
   "cell_type": "code",
   "execution_count": null,
   "outputs": [],
   "source": [
    "from py2neo import Graph\n",
    "from py2neo.bulk import merge_relationships\n",
    "from urllib.parse import urlparse\n",
    "\n",
    "# Connect to the graph database\n",
    "graph = Graph(\"bolt://localhost:7687\", auth=(\"neo4j\", \"password\"))\n",
    "\n",
    "# Let's assume BATCHES is 10\n",
    "BATCHES = 10\n",
    "\n",
    "# Prepare the data for relationships. Here we use 'PERSON_UUID' and 'DEGREE_ID' columns\n",
    "relationships_df = df[['PERSON_UUID', 'DEGREE_ID']]  # replace df with your actual DataFrame\n",
    "\n",
    "# Convert the DataFrame to a list of lists\n",
    "relationships_list = relationships_df.values.tolist()\n",
    "\n",
    "# Split the list into smaller chunks\n",
    "relationships_chunks = np.array_split(relationships_list, BATCHES)\n",
    "\n",
    "# For each chunk, create relationships in the graph database\n",
    "for chunk in relationships_chunks:\n",
    "    merge_relationships(\n",
    "        graph.auto(),\n",
    "        chunk,\n",
    "        merge_key=\"HAS_DEGREE\",\n",
    "        start_node_key=(\"Person\", \"PERSON_UUID\"),\n",
    "        end_node_key=(\"Degree\", \"DEGREE_ID\"),\n",
    "    )"
   ],
   "metadata": {
    "collapsed": false
   }
  },
  {
   "cell_type": "code",
   "execution_count": null,
   "outputs": [],
   "source": [
    "relationships_df = cb_degree_df[['PERSON_UUID', 'UUID']]\n",
    "relationships_list = relationships_df.values.tolist()\n",
    "relationships_chunks = np.array_split(relationships_list, BATCHES)\n",
    "\n",
    "for chunk in relationships_chunks:\n",
    "    merge_relationships(\n",
    "        graph.auto(),\n",
    "        chunk,\n",
    "        merge_key=\"HAS_DEGREE\",\n",
    "        start_node_key=(\"Person\", \"PERSON_UUID\"),\n",
    "        end_node_key=(\"Degree\", \"DegreeID\"),\n",
    "    )"
   ],
   "metadata": {
    "collapsed": false
   }
  },
  {
   "cell_type": "markdown",
   "source": [
    "## event appearances"
   ],
   "metadata": {
    "collapsed": false
   }
  },
  {
   "cell_type": "code",
   "execution_count": null,
   "outputs": [],
   "source": [
    "# Prepare the data for relationships. Here we use 'PERSON_UUID' and 'EVENT_ID' columns\n",
    "relationships_df = df[['PERSON_UUID', 'EVENT_ID']]  # replace df with your actual DataFrame\n",
    "relationships_list = relationships_df.values.tolist()\n",
    "relationships_chunks = np.array_split(relationships_list, BATCHES)\n",
    "\n",
    "for chunk in relationships_chunks:\n",
    "    merge_relationships(\n",
    "        graph.auto(),\n",
    "        chunk,\n",
    "        merge_key=\"APPEARED_IN\",\n",
    "        start_node_key=(\"Person\", \"PERSON_UUID\"),\n",
    "        end_node_key=(\"Event\", \"EVENT_ID\"),\n",
    "    )"
   ],
   "metadata": {
    "collapsed": false
   }
  },
  {
   "cell_type": "code",
   "execution_count": null,
   "outputs": [],
   "source": [
    "# Rename some columns and process the JOB_NAME to remove '@'\n",
    "cb_currjobs_df['JOB_NAME'] = cb_currjobs_df['JOB_NAME'].apply(lambda x: x.split(\"@\")[0])\n",
    "\n",
    "# Prepare the data for Job nodes\n",
    "job_data = cb_currjobs_df[['JOB_ID', 'JOB_TYPE', 'JOB_NAME', 'ORG_NAME', 'ORG_UUID']].to_dict('records')\n",
    "\n",
    "\n",
    "job_chunks = np.array_split(job_data, BATCHES)\n",
    "\n",
    "# For each chunk, create Job nodes in the graph\n",
    "for chunk in job_chunks:\n",
    "    merge_nodes(\n",
    "        graph.auto(),\n",
    "        chunk,\n",
    "        ((\"Job\", \"JobID\"), \"JOB_ID\"),\n",
    "    )\n",
    "\n",
    "# Prepare the data for relationships between Persons and Jobs\n",
    "relationships_df = cb_currjobs_df[['PERSON_UUID', 'JOB_ID']]\n",
    "\n",
    "# Convert the DataFrame to a list of lists\n",
    "relationships_list = relationships_df.values.tolist()\n",
    "\n",
    "# Split the list into smaller chunks\n",
    "relationships_chunks = np.array_split(relationships_list, BATCHES)\n",
    "\n",
    "# For each chunk, create relationships in the graph\n",
    "for chunk in relationships_chunks:\n",
    "    merge_relationships(\n",
    "        graph.auto(),\n",
    "        chunk,\n",
    "        merge_key=\"HAS_JOB\",\n",
    "        start_node_key=(\"Person\", \"PERSON_UUID\"),\n",
    "        end_node_key=(\"Job\", \"JobID\"),\n",
    "    )\n"
   ],
   "metadata": {
    "collapsed": false
   }
  },
  {
   "cell_type": "code",
   "execution_count": null,
   "outputs": [],
   "source": [
    "# Assuming your cb_event_df is something like:\n",
    "# cb_event_df = cursor.execute(\n",
    "#     'SELECT UUID, EVENT_TYPE, EVENT_NAME, ORG_NAME, ORG_UUID, PERSON_NAME, PERSON_UUID FROM ...').fetch_pandas_all()\n",
    "\n",
    "event_data = cb_event_df[['UUID', 'EVENT_TYPE', 'EVENT_NAME', 'ORG_NAME', 'ORG_UUID']].to_dict('records')\n",
    "event_chunks = np.array_split(event_data, BATCHES)\n",
    "\n",
    "for chunk in event_chunks:\n",
    "    merge_nodes(\n",
    "        graph.auto(),\n",
    "        chunk,\n",
    "        ((\"Event\", \"EventID\"), \"UUID\"),\n",
    "    )\n",
    "\n",
    "relationships_df = cb_event_df[['PERSON_UUID', 'UUID']]\n",
    "relationships_list = relationships_df.values.tolist()\n",
    "relationships_chunks = np.array_split(relationships_list, BATCHES)\n",
    "\n",
    "for chunk in relationships_chunks:\n",
    "    merge_relationships(\n",
    "        graph.auto(),\n",
    "        chunk,\n",
    "        merge_key=\"HAS_APPEARED\",\n",
    "        start_node_key=(\"Person\", \"PERSON_UUID\"),\n",
    "        end_node_key=(\"Event\", \"EventID\"),\n",
    "    )\n"
   ],
   "metadata": {
    "collapsed": false
   }
  },
  {
   "cell_type": "code",
   "execution_count": null,
   "outputs": [],
   "source": [
    "# For SourceScrub data\n",
    "sourcescrub_person_data = sourcescrub_person_df.to_dict('records')\n",
    "sourcescrub_person_chunks = np.array_split(sourcescrub_person_data, BATCHES)\n",
    "\n",
    "for chunk in sourcescrub_person_chunks:\n",
    "    merge_nodes(\n",
    "        graph.auto(),\n",
    "        chunk,\n",
    "        ((\"Person\", \"SourceScrubPerson\"), \"PERSON_ID\"),  # assuming PERSON_ID is a unique identifier for each person in the SourceScrub data\n",
    "    )\n",
    "\n",
    "# For Crunchbase data\n",
    "crunchbase_person_data = crunchbase_person_df.to_dict('records')\n",
    "crunchbase_person_chunks = np.array_split(crunchbase_person_data, BATCHES)\n",
    "\n",
    "for chunk in crunchbase_person_chunks:\n",
    "    merge_nodes(\n",
    "        graph.auto(),\n",
    "        chunk,\n",
    "        ((\"Person\", \"CrunchbasePerson\"), \"PERSON_UUID\"),  # assuming PERSON_UUID is a unique identifier for each person in the Crunchbase data\n",
    "    )\n"
   ],
   "metadata": {
    "collapsed": false
   }
  }
 ],
 "metadata": {
  "kernelspec": {
   "name": "python3",
   "language": "python",
   "display_name": "Python 3 (ipykernel)"
  },
  "datalore": {
   "computation_mode": "JUPYTER",
   "package_manager": "pip",
   "base_environment": "default",
   "packages": [],
   "report_row_ids": [
    "wLlTwYiJgF17z57BUTpqDZ",
    "MZ92TkILbJvf5IEGIvngyf",
    "iYtoQffu4byePfuluRejOz",
    "dj2LOIG3Dp9uVMVxLpsUd9",
    "YdGfcDGld9JMjoVkGiGGbC",
    "7guWSnMXN5nJ1FLyo8NHGH",
    "fFzXhP7w429HVNmL8NJKBn",
    "SBd4UUHxOyE12qAFxvpQ2I",
    "YM8hHbJ9e9aJsyHT1SkPqJ",
    "9KEyghWP33PG0Flx6HQ9d2",
    "1XGBjzihhR9He5FFP9wfnr",
    "bMs2Hx4Jgqrlazbf62aLfO",
    "QyQM7yFN4wqvb330Hza9lh",
    "YcXssFinqSsotHsZuPLNX9",
    "d2DTifpdmyaKpxv4XKdLxG",
    "Ztmt9Y09PFVIpW2UWtP6Sp",
    "H4smFYT8jQJdH9MUs150Wa",
    "1oJeTlLK3ULIbdWbPHDdoo",
    "1huEUxHyCDUF0jgNOZFtVe",
    "svZgUfEVxu4VEtC1biCtNh",
    "CcQbpfhQU2HmxCKFyaGFqa",
    "6kJnGGB6DDxDRZII51OHu9",
    "FiLnSZQu4bgvMWCRyoBETU",
    "2sbWcAqrcAYNHxtrHX5erj",
    "jzuhHBch0Oo9AMj7MuX9t5",
    "7ZDq4mOWKXwAOhDasKZKgb",
    "VqMbRx67Anq6pLGo7WZLlQ",
    "ECKKP0p7JBpSGfk9yyehY7",
    "htsh9C3RS2dfkDXg90SoUI",
    "1BpaN94A838foCnJWUiqzB",
    "HZahZIPNCojtwPfXKWggf1",
    "Zq5jdaZEgGgKRAqiQdlf3S",
    "OQPqYVOaih5WyJ5h0XhP2Y",
    "F3udzYbXNj3FTTGVrksK4M",
    "FjbQQ3sH93lfPW9PHzzeae",
    "TP4R0bkgsgEMSRab7wSJk5",
    "rIgkZCRVHgKb3AyHBQKVA6",
    "t7n1ehhTAq9w38Ksxgjy5F"
   ],
   "version": 3
  }
 },
 "nbformat": 4,
 "nbformat_minor": 4
}
