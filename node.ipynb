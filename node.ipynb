{
 "cells": [
  {
   "cell_type": "markdown",
   "source": [
    "## NODES"
   ],
   "metadata": {
    "collapsed": false
   }
  },
  {
   "cell_type": "markdown",
   "source": [
    "## Example 1\n",
    "\n",
    "original code\n",
    "```\n",
    "sourcescrub_persons_df = cursor.execute(\n",
    "    'SELECT ID, FULL_NAME, CITY, STATE, COUNTRY FROM L2.GRAPH_SS_PERSON').fetch_pandas_all()\n",
    "\n",
    "sourcescrub_persons_df.rename(\n",
    "    columns={'ID': 'SOURCE_ID', 'FULL_NAME': 'NAME'},\n",
    "    inplace=True)\n",
    "\n",
    "sourcescrub_persons = np.array_split(\n",
    "    [{k: v for k, v in x.items() if v == v} for x in sourcescrub_persons_df.to_dict('records')], BATCHES)\n",
    "\n",
    "# code to create the person type node\n",
    "for chunk_df in sourcescrub_persons:\n",
    "    merge_nodes(\n",
    "        graph.auto(),\n",
    "        chunk_df,\n",
    "        ((\"Person\", \"SourcescrubPerson\"), \"SOURCE_ID\"),\n",
    "    )\n",
    "```\n",
    "\n",
    "\n",
    "new code to define node:\n",
    "node = {\n",
    "    \"source\": \"graph_ss_person\",\n",
    "    \"labels\": (\"Person\", \"Sourcescrub\"),\n",
    "    \"properties_list\": [\n",
    "        {\n",
    "            \"property\": \"source_id\",\n",
    "            \"field\": \"ID\",\n",
    "            \"type\": \"string\",\n",
    "        },\n",
    "        {\n",
    "            \"property\": \"name\",\n",
    "            \"field\": \"full_name\",\n",
    "            \"type\": \"string\",\n",
    "        },\n",
    "        {\n",
    "            \"property\": \"city\",\n",
    "            \"field\": \"city\",\n",
    "            \"type\": \"string\",\n",
    "        },\n",
    "        {\n",
    "            \"property\": \"state\",\n",
    "            \"field\": \"state\",\n",
    "            \"type\": \"string\",\n",
    "        },\n",
    "        {\n",
    "            \"property\": \"country\",\n",
    "            \"field\": \"country\",\n",
    "            \"type\": \"string\",\n",
    "        },\n",
    "    ],\n",
    "    # based on th statememnt\n",
    "    \"merge_key\": ((\"Person\"), {\"property\": \"source_id\", \"field\": \"ID\"}),\n",
    "    \"batch_size_factor\": 1.0,\n",
    "}\n",
    "NODES.append(node)"
   ],
   "metadata": {
    "collapsed": false
   }
  },
  {
   "cell_type": "markdown",
   "source": [],
   "metadata": {
    "collapsed": false
   }
  },
  {
   "cell_type": "code",
   "execution_count": null,
   "outputs": [],
   "source": [
    "NODES = []\n",
    "\n",
    "\"\"\"\n",
    "Organization nodes\n",
    "\"\"\"\n",
    "\n",
    "node = {\n",
    "    \"source\": \"ss_org\",\n",
    "    \"labels\": (\"Organization\", \"Sourcescrub\"),\n",
    "    \"properties_list\": [\n",
    "        {\n",
    "            \"property\": \"source_id\",\n",
    "            \"field\": \"ID\",\n",
    "            \"type\": \"string\",\n",
    "        },\n",
    "        {\n",
    "            \"property\": \"\",\n",
    "            \"field\": \"\",\n",
    "            \"type\": \"\",\n",
    "        }\n",
    "    ],\n",
    "    \"merge_key\": ((\"Organization\",), {\"property\": \"source_id\", \"field\": \"ID\"}),\n",
    "    \"batch_size_factor\": 1.0,\n",
    "}\n",
    "NODES.append(node)\n",
    "\n",
    "node = {\n",
    "    \"source\": \"cb_org\",\n",
    "    \"labels\": (\"Organization\", \"Crunchbase\"),\n",
    "    \"properties_list\": [\n",
    "        {\n",
    "            \"property\": \"source_id\",\n",
    "            \"field\": \"crunchbase_organization_uuid\",\n",
    "            \"type\": \"string\",\n",
    "        },\n",
    "        {\n",
    "            \"property\": \"\",\n",
    "            \"field\": \"\",\n",
    "            \"type\": \"\",\n",
    "        }\n",
    "    ],\n",
    "    \"merge_key\": ((\"Organization\",), {\"property\": \"source_id\", \"field\": \"crunchbase_organization_uuid\"}),\n",
    "    \"batch_size_factor\": 1.0,\n",
    "}\n",
    "NODES.append(node)\n",
    "\n",
    "node = {\n",
    "    \"source\": \"ss_organizational_investor\",\n",
    "    \"labels\": (\"Organization\", \"Sourcescrub\", \"Investor\"),\n",
    "    \"properties_list\": [\n",
    "        {\n",
    "            \"property\": \"source_id\",\n",
    "            \"field\": \"ID\",\n",
    "            \"type\": \"integer\",\n",
    "        },\n",
    "        {\n",
    "            \"property\": \"\",\n",
    "            \"field\": \"\",\n",
    "            \"type\": \"\",\n",
    "        }\n",
    "    ],\n",
    "    \"merge_key\": ((\"Organization\",), {\"property\": \"source_id\", \"field\": \"ID\"}),\n",
    "    \"batch_size_factor\": 1.0,\n",
    "}\n",
    "NODES.append(node)\n",
    "\n",
    "node = {\n",
    "    \"source\": \"cb_organizational_investor\",\n",
    "    \"labels\": (\"Organization\", \"Crunchbase\", \"Investor\"),\n",
    "    \"properties_list\": [\n",
    "        {\n",
    "            \"property\": \"source_id\",\n",
    "            \"field\": \"crunchbase_organization_uuid\",\n",
    "            \"type\": \"string\",\n",
    "        },\n",
    "        {\n",
    "            \"property\": \"\",\n",
    "            \"field\": \"\",\n",
    "            \"type\": \"\",\n",
    "        }\n",
    "    ],\n",
    "    \"merge_key\": ((\"Organization\",), {\"property\": \"source_id\", \"field\": \"crunchbase_organization_uuid\"}),\n",
    "    \"batch_size_factor\": 1.0,\n",
    "}\n",
    "NODES.append(node)"
   ],
   "metadata": {
    "collapsed": false
   }
  },
  {
   "cell_type": "markdown",
   "source": [
    "## RELATIONSHIPS"
   ],
   "metadata": {
    "collapsed": false
   }
  },
  {
   "cell_type": "code",
   "source": [
    "\n",
    "RELATIONSHIPS = []\n",
    "\n",
    "\"\"\"\n",
    "INVESTED_IN (keep relationship types agnostic to data source)\n",
    "\"\"\"\n",
    "\n",
    "relationship = {\n",
    "    \"source\": \"ss_organizational_investor_to_org\",\n",
    "    \"properties_list\": [],\n",
    "    \"merge_key\": (\"INVESTED_IN\",),\n",
    "    \"start_node_key\": ((\"Organization\",), {\"property\": \"source_id\", \"field\": \"investor_id\"}),\n",
    "    \"end_node_key\": ((\"Organization\",), {\"property\": \"source_id\", \"field\": \"company_id\"}),\n",
    "    \"batch_size_factor\": 1.0,\n",
    "}\n",
    "RELATIONSHIPS.append(relationship)\n",
    "\n",
    "relationship = {\n",
    "    \"source\": \"cb_organizational_investor_to_org\",\n",
    "    \"properties_list\": [],\n",
    "    \"merge_key\": (\"INVESTED_IN\",),\n",
    "    \"start_node_key\": ((\"Organization\",), {\"property\": \"source_id\", \"field\": \"investor_id\"}),\n",
    "    \"end_node_key\": ((\"Organization\",), {\"property\": \"source_id\", \"field\": \"company_id\"}),\n",
    "    \"batch_size_factor\": 1.0,\n",
    "}\n",
    "RELATIONSHIPS.append(relationship)"
   ],
   "execution_count": null,
   "outputs": [],
   "metadata": {
    "datalore": {
     "node_id": "AbpXlOa8c1v8VUUbt38cXL",
     "type": "CODE",
     "hide_input_from_viewers": true,
     "hide_output_from_viewers": true
    }
   }
  },
  {
   "cell_type": "markdown",
   "source": [
    "## CONSTRAINTS"
   ],
   "metadata": {
    "collapsed": false
   }
  },
  {
   "cell_type": "code",
   "source": [
    "\n",
    "# CONSTRAINTS = [\n",
    "#     \"\"\"\n",
    "#     CREATE CONSTRAINT unique_org IF NOT EXISTS\n",
    "#     FOR (c:Organization) REQUIRE c.source_id IS UNIQUE\n",
    "#     \"\"\",\n",
    "#     \"\"\"\n",
    "#     CREATE CONSTRAINT unique_url IF NOT EXISTS\n",
    "#     FOR (u:Url) REQUIRE u.url IS UNIQUE\n",
    "#     \"\"\",\n",
    "#\n",
    "# ]\n",
    "\n",
    "# person be unique\n",
    "CONSTRAINTS = [\n",
    "    \"\"\"\n",
    "    CREATE CONSTRAINT unique_person IF NOT EXISTS \n",
    "    FOR (c:Person) REQUIRE c.source_id IS UNIQUE \n",
    "    \"\"\",\n",
    "    \"\"\"\n",
    "    CREATE CONSTRAINT unique_url IF NOT EXISTS \n",
    "    FOR (u:Url) REQUIRE u.url IS UNIQUE \n",
    "    \"\"\"\n",
    "]"
   ],
   "execution_count": null,
   "outputs": [],
   "metadata": {
    "datalore": {
     "node_id": "z0sMmdFwROaU7SwYiMxc8C",
     "type": "CODE",
     "hide_input_from_viewers": true,
     "hide_output_from_viewers": true
    }
   }
  }
 ],
 "metadata": {
  "kernelspec": {
   "display_name": "Python",
   "language": "python",
   "name": "python"
  },
  "datalore": {
   "computation_mode": "JUPYTER",
   "package_manager": "pip",
   "base_environment": "default",
   "packages": [],
   "report_row_ids": [],
   "version": 3
  }
 },
 "nbformat": 4,
 "nbformat_minor": 4
}
