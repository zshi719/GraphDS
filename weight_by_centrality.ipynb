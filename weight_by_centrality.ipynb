{
 "cells": [
  {
   "cell_type": "code",
   "source": [
    "RELATIONSHIPS_WEIGHT = {\n",
    "    \"HAS_URL\": {\"pagerank_weight\": 0.05,\n",
    "                \"degree_weight\": 0.05,\n",
    "                \"closeness_weight\": 0.05,\n",
    "                \"betweenness_weight\": 0.05,\n",
    "                \"similarity_weight\": 0.05,\n",
    "                \"dijkstra_weight\": 0.1},\n",
    "    \"PARENT_OF\": {\"pagerank_weight\": 0.1,\n",
    "                  \"degree_weight\": 0.3,\n",
    "                  \"closeness_weight\": 0.3,\n",
    "                  \"betweenness_weight\": 0.3,\n",
    "                  \"similarity_weight\": 0.3,\n",
    "                  \"dijkstra_weight\": 0.1},\n",
    "    \"ACQUIRED_BY\": {\"pagerank_weight\": 0.1,\n",
    "                    \"degree_weight\": 0.05,\n",
    "                    \"closeness_weight\": 0.1,\n",
    "                    \"betweenness_weight\": 0.1,\n",
    "                    \"similarity_weight\": 0.05,\n",
    "                    \"dijkstra_weight\": 0.1},\n",
    "    \"INVESTED_IN\": {\"pagerank_weight\": 0.5,\n",
    "                    \"degree_weight\": 0.05,\n",
    "                    \"closeness_weight\": 0.1,\n",
    "                    \"betweenness_weight\": 0.1,\n",
    "                    \"similarity_weight\": 0.05,\n",
    "                    \"dijkstra_weight\": 0.1},\n",
    "    \"LOCATED_IN\": {'pagerank_weight': 0.1,\n",
    "                   'degree_weight': 0.05,\n",
    "                   'closeness_weight': 0.1,\n",
    "                   'betweenness_weight': 0.1,\n",
    "                   'similarity_weight': 0.05,\n",
    "                   'dijkstra_weight': 0.1},\n",
    "    \"FORMED_IN\": {\"pagerank_weight\": 0.1,\n",
    "                  \"degree_weight\": 0.05,\n",
    "                  \"closeness_weight\": 0.1,\n",
    "                  \"betweenness_weight\": 0.1,\n",
    "                  \"similarity_weight\": 0.05,\n",
    "                  \"dijkstra_weight\": 0.1},\n",
    "    \"ACQUIRED_IN\": {\"pagerank_weight\": 0.1,\n",
    "                    \"degree_weight\": 0.05,\n",
    "                    \"closeness_weight\": 0.1,\n",
    "                    \"betweenness_weight\": 0.1,\n",
    "                    \"similarity_weight\": 0.05,\n",
    "                    \"dijkstra_weight\": 0.1},\n",
    "    \"HAS_TITLE\": {\"pagerank_weight\": 0.3,\n",
    "                  \"degree_weight\": 0.05,\n",
    "                  \"closeness_weight\": 0.1,\n",
    "                  \"betweenness_weight\": 0.1,\n",
    "                  \"similarity_weight\": 0.05,\n",
    "                  \"dijkstra_weight\": 0.1},\n",
    "    \"FORMER_TITLE\": {\"pagerank_weight\": 0.3,\n",
    "                     \"degree_weight\": 0.05,\n",
    "                     \"closeness_weight\": 0.1,\n",
    "                     \"betweenness_weight\": 0.1,\n",
    "                     \"similarity_weight\": 0.05,\n",
    "                     \"dijkstra_weight\": 0.1},\n",
    "    \"CURRENT_EMPLOYER_OF\": {\"pagerank_weight\": 0.3,\n",
    "                            \"degree_weight\": 0.05,\n",
    "                            \"closeness_weight\": 0.1,\n",
    "                            \"betweenness_weight\": 0.1,\n",
    "                            \"similarity_weight\": 0.05,\n",
    "                            \"dijkstra_weight\": 0.1},\n",
    "    \"FORMER_EMPLOYER_OF\": {\"pagerank_weight\": 0.2,\n",
    "                           \"degree_weight\": 0.05,\n",
    "                           \"closeness_weight\": 0.1,\n",
    "                           \"betweenness_weight\": 0.1,\n",
    "                           \"similarity_weight\": 0.05,\n",
    "                           \"dijkstra_weight\": 0.1},\n",
    "    \"ATTENDED_BY\": {\"pagerank_weight\": 0.1,\n",
    "                    \"degree_weight\": 0.05,\n",
    "                    \"closeness_weight\": 0.1,\n",
    "                    \"betweenness_weight\": 0.1,\n",
    "                    \"similarity_weight\": 0.05,\n",
    "                    \"dijkstra_weight\": 0.1},\n",
    "    \"ATTENDED_SCHOOL\": {\"pagerank_weight\": 0.05,\n",
    "                        \"degree_weight\": 0.05,\n",
    "                        \"closeness_weight\": 0.1,\n",
    "                        \"betweenness_weight\": 0.1,\n",
    "                        \"similarity_weight\": 0.05,\n",
    "                        \"dijkstra_weight\": 0.1},\n",
    "    \"IN_INDUSTRY\": {\"pagerank_weight\": 0.3,\n",
    "                    \"degree_weight\": 0.2,\n",
    "                    \"closeness_weight\": 0.5,\n",
    "                    \"betweenness_weight\": 0.3,\n",
    "                    \"similarity_weight\": 0.5,\n",
    "                    \"dijkstra_weight\": 0.2},\n",
    "    \"HAS_EMPLOYEE_COUNT\": {\"pagerank_weight\": 0.3,\n",
    "                           \"degree_weight\": 0.3,\n",
    "                           \"closeness_weight\": 0.1,\n",
    "                           \"betweenness_weight\": 0.1,\n",
    "                           \"similarity_weight\": 0.5,\n",
    "                           \"dijkstra_weight\": 0.3}}"
   ],
   "execution_count": 11,
   "outputs": [],
   "metadata": {
    "datalore": {
     "node_id": "AiL2M10PpVcb77a8ySrUGZ",
     "type": "CODE",
     "hide_input_from_viewers": true,
     "hide_output_from_viewers": true
    },
    "ExecuteTime": {
     "end_time": "2023-08-12T05:20:38.582675Z",
     "start_time": "2023-08-12T05:20:38.579178Z"
    }
   }
  },
  {
   "cell_type": "code",
   "execution_count": 7,
   "outputs": [],
   "source": [
    "PAGERANK_WEIGHTS = [relationship['pagerank_weight'] for relationship in RELATIONSHIPS_WEIGHT.values()]\n",
    "DEGREE_WEIGHTS = [relationship['degree_weight'] for relationship in RELATIONSHIPS_WEIGHT.values()]\n",
    "CLOSENESS_WEIGHTS = [relationship['closeness_weight'] for relationship in RELATIONSHIPS_WEIGHT.values()]\n",
    "BETWEENNESS_WEIGHTS = [relationship['betweenness_weight'] for relationship in RELATIONSHIPS_WEIGHT.values()]\n",
    "SIMILARITY_WEIGHTS = [relationship['similarity_weight'] for relationship in RELATIONSHIPS_WEIGHT.values()]\n",
    "DIJKSTRA_WEIGHTS = [relationship['dijkstra_weight'] for relationship in RELATIONSHIPS_WEIGHT.values()]\n"
   ],
   "metadata": {
    "collapsed": false,
    "ExecuteTime": {
     "end_time": "2023-08-12T05:20:02.817422Z",
     "start_time": "2023-08-12T05:20:02.815841Z"
    }
   }
  },
  {
   "cell_type": "code",
   "execution_count": 12,
   "outputs": [
    {
     "data": {
      "text/plain": "[0.05, 0.1, 0.1, 0.5, 0.1, 0.1, 0.1, 0.3, 0.3, 0.3, 0.2, 0.1, 0.05, 0.3, 0.3]"
     },
     "execution_count": 12,
     "metadata": {},
     "output_type": "execute_result"
    }
   ],
   "source": [
    "PAGERANK_WEIGHTS"
   ],
   "metadata": {
    "collapsed": false,
    "ExecuteTime": {
     "end_time": "2023-08-12T05:20:48.447348Z",
     "start_time": "2023-08-12T05:20:48.437989Z"
    }
   }
  },
  {
   "cell_type": "code",
   "execution_count": 15,
   "outputs": [
    {
     "name": "stdout",
     "output_type": "stream",
     "text": [
      "\n",
      "CALL gds.graph.create.cypher(\"subgraph\", \n",
      "\"MATCH (n) WHERE n: Organization OR n:Industry or n: Person OR n:Investor OR n:Event OR n: Job RETURN DISTINCT id(n) as id\", \n",
      "\"MATCH (n)-[r:INVESTED_IN|IN_INDUSTRY|HAS_TITLE|FORMER_EMPLOYER_OF|CURRENT_EMPLOYER_OF|ACQUIRED_BY|PARENT_OF|ATTENDED_SCHOOL|ATTENDED_BY]-(m) RETURN id(n) AS source, id(m) AS target, type(r) AS type, [0.05, 0.1, 0.1, 0.5, 0.1, 0.1, 0.1, 0.3, 0.3, 0.3, 0.2, 0.1, 0.05, 0.3, 0.3] as pagerank_weight\")\n",
      "YIELD graphName AS graph, nodeQuery, nodeCount AS nodes, relationshipQuery, relationshipCount AS rels\n"
     ]
    }
   ],
   "source": [
    "subgraph = \"subgraph\"\n",
    "algo = \"pagerank\"\n",
    "query = f\"\"\"\n",
    "CALL gds.graph.create.cypher(\"{subgraph}\", \n",
    "\"MATCH (n) WHERE n: Organization OR n:Industry or n: Person OR n:Investor OR n:Event OR n: Job RETURN DISTINCT id(n) as id\", \n",
    "\"MATCH (n)-[r:INVESTED_IN|IN_INDUSTRY|HAS_TITLE|FORMER_EMPLOYER_OF|CURRENT_EMPLOYER_OF|ACQUIRED_BY|PARENT_OF|ATTENDED_SCHOOL|ATTENDED_BY]-(m) RETURN id(n) AS source, id(m) AS target, type(r) AS type, {PAGERANK_WEIGHTS} as {algo}_weight\")\n",
    "YIELD graphName AS graph, nodeQuery, nodeCount AS nodes, relationshipQuery, relationshipCount AS rels\n",
    "\"\"\"\n",
    "print(query)"
   ],
   "metadata": {
    "collapsed": false,
    "ExecuteTime": {
     "end_time": "2023-08-12T05:29:46.591354Z",
     "start_time": "2023-08-12T05:29:46.579857Z"
    }
   }
  },
  {
   "cell_type": "code",
   "execution_count": null,
   "outputs": [],
   "source": [],
   "metadata": {
    "collapsed": false
   }
  }
 ],
 "metadata": {
  "kernelspec": {
   "name": "python3",
   "language": "python",
   "display_name": "Python 3 (ipykernel)"
  },
  "datalore": {
   "computation_mode": "JUPYTER",
   "package_manager": "pip",
   "base_environment": "default",
   "packages": [],
   "report_row_ids": [],
   "version": 3
  }
 },
 "nbformat": 4,
 "nbformat_minor": 4
}
