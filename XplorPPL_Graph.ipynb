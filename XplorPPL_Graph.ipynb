{
 "cells":[
  {
   "cell_type":"code",
   "source":[
    "!pip install snowflake-connector-python\n",
    "!pip install tldextract\n",
    "!pip install py2neo"
   ],
   "execution_count":null,
   "outputs":[
    {
     "name":"stdout",
     "text":[
      "Defaulting to user installation because normal site-packages is not writeable\n",
      "Looking in indexes: https:\/\/pypi.site.gs.com\/simple\n",
      "Requirement already satisfied: snowflake-connector-python in \/usr\/local\/lib\/python3.8\/site-packages (3.0.3)\n",
      "Requirement already satisfied: cryptography<41.0.0,>=3.1.0 in \/usr\/local\/lib\/python3.8\/site-packages (from snowflake-connector-python) (3.3.1)\n",
      "Requirement already satisfied: pytz in \/usr\/local\/lib\/python3.8\/site-packages (from snowflake-connector-python) (2022.7.1)\n",
      "Requirement already satisfied: oscrypto<2.0.0 in \/usr\/local\/lib\/python3.8\/site-packages (from snowflake-connector-python) (1.3.0)\n",
      "Requirement already satisfied: packaging in \/usr\/local\/lib\/python3.8\/site-packages (from snowflake-connector-python) (23.0)\n",
      "Requirement already satisfied: cffi<2.0.0,>=1.9 in \/usr\/local\/lib\/python3.8\/site-packages (from snowflake-connector-python) (1.15.1)\n",
      "Requirement already satisfied: pycryptodomex!=3.5.0,<4.0.0,>=3.2 in \/usr\/local\/lib\/python3.8\/site-packages (from snowflake-connector-python) (3.17)\n",
      "Requirement already satisfied: asn1crypto<2.0.0,>0.24.0 in \/usr\/local\/lib\/python3.8\/site-packages (from snowflake-connector-python) (1.5.1)\n",
      "Requirement already satisfied: requests<3.0.0 in \/usr\/local\/lib\/python3.8\/site-packages (from snowflake-connector-python) (2.28.2)\n",
      "Requirement already satisfied: charset-normalizer<3,>=2 in \/usr\/local\/lib\/python3.8\/site-packages (from snowflake-connector-python) (2.1.1)\n",
      "Requirement already satisfied: pyjwt<3.0.0 in \/usr\/local\/lib\/python3.8\/site-packages (from snowflake-connector-python) (2.6.0)\n",
      "Requirement already satisfied: pyOpenSSL<24.0.0,>=16.2.0 in \/usr\/local\/lib\/python3.8\/site-packages (from snowflake-connector-python) (22.0.0)\n",
      "Requirement already satisfied: idna<4,>=2.5 in \/usr\/local\/lib\/python3.8\/site-packages (from snowflake-connector-python) (3.4)\n",
      "Requirement already satisfied: filelock<4,>=3.5 in \/usr\/local\/lib\/python3.8\/site-packages (from snowflake-connector-python) (3.10.7)\n",
      "Requirement already satisfied: certifi>=2017.4.17 in \/usr\/local\/lib\/python3.8\/site-packages (from snowflake-connector-python) (2022.12.7)\n",
      "Requirement already satisfied: urllib3<1.27,>=1.21.1 in \/usr\/local\/lib\/python3.8\/site-packages (from snowflake-connector-python) (1.26.14)\n",
      "Requirement already satisfied: typing-extensions<5,>=4.3 in \/usr\/local\/lib\/python3.8\/site-packages (from snowflake-connector-python) (4.5.0)\n",
      "Requirement already satisfied: six>=1.4.1 in \/usr\/local\/lib\/python3.8\/site-packages (from cryptography<41.0.0,>=3.1.0->snowflake-connector-python) (1.16.0)\n",
      "Requirement already satisfied: pycparser in \/usr\/local\/lib\/python3.8\/site-packages (from cffi<2.0.0,>=1.9->snowflake-connector-python) (2.21)\n",
      "\u001b[33mWARNING: You are using pip version 20.2; however, version 23.1.2 is available.\n",
      "You should consider upgrading via the '\/usr\/local\/bin\/python3.8 -m pip install --upgrade pip' command.\u001b[0m\n",
      "Defaulting to user installation because normal site-packages is not writeable\n",
      "Looking in indexes: https:\/\/pypi.site.gs.com\/simple\n",
      "Requirement already satisfied: tldextract in .\/.local\/lib\/python3.8\/site-packages (3.4.4)\n",
      "Requirement already satisfied: idna in \/usr\/local\/lib\/python3.8\/site-packages (from tldextract) (3.4)\n",
      "Requirement already satisfied: requests-file>=1.4 in .\/.local\/lib\/python3.8\/site-packages (from tldextract) (1.5.1)\n",
      "Requirement already satisfied: filelock>=3.0.8 in \/usr\/local\/lib\/python3.8\/site-packages (from tldextract) (3.10.7)\n",
      "Requirement already satisfied: requests>=2.1.0 in \/usr\/local\/lib\/python3.8\/site-packages (from tldextract) (2.28.2)\n",
      "Requirement already satisfied: six in \/usr\/local\/lib\/python3.8\/site-packages (from requests-file>=1.4->tldextract) (1.16.0)\n",
      "Requirement already satisfied: charset-normalizer<4,>=2 in \/usr\/local\/lib\/python3.8\/site-packages (from requests>=2.1.0->tldextract) (2.1.1)\n",
      "Requirement already satisfied: certifi>=2017.4.17 in \/usr\/local\/lib\/python3.8\/site-packages (from requests>=2.1.0->tldextract) (2022.12.7)\n",
      "Requirement already satisfied: urllib3<1.27,>=1.21.1 in \/usr\/local\/lib\/python3.8\/site-packages (from requests>=2.1.0->tldextract) (1.26.14)\n",
      "\u001b[33mWARNING: You are using pip version 20.2; however, version 23.1.2 is available.\n",
      "You should consider upgrading via the '\/usr\/local\/bin\/python3.8 -m pip install --upgrade pip' command.\u001b[0m\n",
      "Defaulting to user installation because normal site-packages is not writeable\n",
      "Looking in indexes: https:\/\/pypi.site.gs.com\/simple\n",
      "Requirement already satisfied: py2neo in .\/.local\/lib\/python3.8\/site-packages (2021.2.3)\n",
      "Requirement already satisfied: packaging in \/usr\/local\/lib\/python3.8\/site-packages (from py2neo) (23.0)\n",
      "Requirement already satisfied: pygments>=2.0.0 in \/usr\/local\/lib\/python3.8\/site-packages (from py2neo) (2.14.0)\n",
      "Requirement already satisfied: monotonic in .\/.local\/lib\/python3.8\/site-packages (from py2neo) (1.6)\n",
      "Requirement already satisfied: pansi>=2020.7.3 in .\/.local\/lib\/python3.8\/site-packages (from py2neo) (2020.7.3)\n",
      "Requirement already satisfied: certifi in \/usr\/local\/lib\/python3.8\/site-packages (from py2neo) (2022.12.7)\n",
      "Requirement already satisfied: six>=1.15.0 in \/usr\/local\/lib\/python3.8\/site-packages (from py2neo) (1.16.0)\n",
      "Requirement already satisfied: urllib3 in \/usr\/local\/lib\/python3.8\/site-packages (from py2neo) (1.26.14)\n",
      "Requirement already satisfied: interchange~=2021.0.4 in .\/.local\/lib\/python3.8\/site-packages (from py2neo) (2021.0.4)\n",
      "Requirement already satisfied: pytz in \/usr\/local\/lib\/python3.8\/site-packages (from interchange~=2021.0.4->py2neo) (2022.7.1)\n",
      "\u001b[33mWARNING: You are using pip version 20.2; however, version 23.1.2 is available.\n",
      "You should consider upgrading via the '\/usr\/local\/bin\/python3.8 -m pip install --upgrade pip' command.\u001b[0m\n"
     ],
     "output_type":"stream"
    }
   ],
   "metadata":{
    "datalore":{
     "node_id":"rP2ManorGMNR5raExMeT5H",
     "type":"CODE",
     "hide_input_from_viewers":false,
     "hide_output_from_viewers":false,
     "report_properties":{
      "rowId":"wLlTwYiJgF17z57BUTpqDZ"
     }
    }
   }
  },
  {
   "cell_type":"code",
   "source":[
    "import requests\n",
    "import pandas as pd\n",
    "import numpy as np\n",
    "import snowflake.connector\n",
    "import os\n",
    "from py2neo import Graph\n",
    "from py2neo.bulk import merge_nodes, create_relationships, merge_relationships\n",
    "from urllib.parse import urlparse\n",
    "\n",
    "#[Environment Configs]\n",
    "client_id = \"d0afa05e7ab642acb0497f018b601b86\"\n",
    "client_secret = \"ikdU3eOtXRmMR9oWlEnP0W0jAVZYNMBF2FUwsuwtHkZ37Oh4IZZkso3tFdsbfdmO\"  \n",
    "os.environ[\"HTTP_PROXY\"] = \"http:\/\/d161560-001.dc.gs.com:8899\"\n",
    "os.environ[\"HTTPS_PROXY\"] = \"http:\/\/d161560-001.dc.gs.com:8899\"\n",
    "\n",
    "#[Credentials]\n",
    "host = \"xplore.graph-x.site.gs.com\"\n",
    "port = \"7687\"\n",
    "username = \"neo4j\"\n",
    "password = \"xplorer\"\n",
    "graph = Graph(host=host, port=port, auth=(username, password))\n",
    "BATCHES = 100"
   ],
   "execution_count":null,
   "outputs":[
    
   ],
   "metadata":{
    "datalore":{
     "node_id":"pLfUnSLKcRtFUDAPDuyr84",
     "type":"CODE",
     "hide_input_from_viewers":false,
     "hide_output_from_viewers":false,
     "report_properties":{
      "rowId":"MZ92TkILbJvf5IEGIvngyf"
     }
    }
   }
  },
  {
   "cell_type":"markdown",
   "source":[
    "### Libraries & Shared Code"
   ],
   "attachments":{
    
   },
   "metadata":{
    "datalore":{
     "node_id":"lxgfI2RWWI7H1InqIHv6Cv",
     "type":"MD",
     "hide_input_from_viewers":false,
     "hide_output_from_viewers":false,
     "report_properties":{
      "rowId":"iYtoQffu4byePfuluRejOz"
     }
    }
   }
  },
  {
   "cell_type":"code",
   "source":[
    "def get_oauth_tokens(client_id: str, client_secret: str):\n",
    "    _IDFS_URL = \"https:\/\/idfs.gs.com\/as\/token.oauth2\"\n",
    "    response = requests.post(\n",
    "        url = _IDFS_URL,\n",
    "        params = {\"access_token_manager_id\": \"JwtSnowflake\"},  # This must be set to JwtSnowflake to generate Snowflake-compatible OAuth Token\n",
    "        data = {\"grant_type\": \"client_credentials\", \"scope\": \"SESSION:ROLE-ANY\"},\n",
    "        auth = (client_id, client_secret),\n",
    "    )\n",
    "    response = response.json()\n",
    "    if \"access_token\" not in response.keys():\n",
    "        raise PermissionError(f\"Not authorized to access OAuth Tokens: {response}\")\n",
    "    return response[\"access_token\"]\n",
    "  \n",
    "def connect_snowflake(user: str, database: str, token: str) -> snowflake.connector.cursor:\n",
    "    \"\"\"Connect to Snowflake and return an authorized cursor. Below uses Catalyst connections\n",
    "   \n",
    "    :param user: Client ID from OAuth2 Authentication\n",
    "    :param database: Name of database to connect to\n",
    "    :param token: Generated OAuth Token. Please either generate and save to a tmp file in a separate thread OR use subprocess module to call the underlying subsystem and capture the output\n",
    "    :return: Snowflake Cursor\n",
    "    \"\"\"\n",
    "    snow_connector = snowflake.connector.connect(\n",
    "        user=user,\n",
    "        authenticator=\"oauth\",\n",
    "        account=\"sfamdprvtawseast1d01.goldman.us-east-1.aws.privatelink\",\n",
    "        role=\"AMD_CATALYST_DATA_RW\",\n",
    "        warehouse=\"AMD_CATALYST_RW\",\n",
    "        database=database,\n",
    "        ocsp_fail_open=False,\n",
    "        token=token,\n",
    "    )\n",
    "    cursor = snow_connector.cursor()\n",
    "    return cursor\n",
    " \n",
    "def disconnect(cursor: snowflake.connector.cursor) -> None:\n",
    "    try:\n",
    "        cursor.close()\n",
    "    except:\n",
    "        raise Exception(\"Failed to close cursor\")   \n",
    "        \n",
    "oauth_token = get_oauth_tokens(client_id, client_secret)\n",
    "cursor = connect_snowflake(client_id, \"AMD_CATALYST_DB\", oauth_token)"
   ],
   "execution_count":null,
   "outputs":[
    
   ],
   "metadata":{
    "datalore":{
     "node_id":"V0ElM5z3Ka2ODXZO3ZeAOY",
     "type":"CODE",
     "hide_input_from_viewers":false,
     "hide_output_from_viewers":false,
     "report_properties":{
      "rowId":"dj2LOIG3Dp9uVMVxLpsUd9"
     }
    }
   }
  },
  {
   "cell_type":"markdown",
   "source":[
    "### SourceScrub Boardmembers"
   ],
   "attachments":{
    
   },
   "metadata":{
    "datalore":{
     "node_id":"MkWfH6KYuzUuOiPFCpajoS",
     "type":"MD",
     "hide_input_from_viewers":false,
     "hide_output_from_viewers":false,
     "report_properties":{
      "rowId":"YdGfcDGld9JMjoVkGiGGbC"
     }
    }
   }
  },
  {
   "cell_type":"code",
   "source":[
    "sourcescrub_boardmembers_df = cursor.execute('SELECT PERSONID, COMPANYID, EMAIL, TITLE, FIRSTNAME, LASTNAME, LINKEDIN, STARTDATE, ENDDATE FROM AMD_CATALYST_DB.L2_NEW.SOURCESCRUB_BOARDMEMBERS WHERE LINKEDIN IS NOT NULL').fetch_pandas_all()\n",
    "display(sourcescrub_boardmembers_df.head(5))"
   ],
   "execution_count":null,
   "outputs":[
    {
     "data":{
      "text\/html":[
       "<div>\n",
       "<style scoped>\n",
       "    .dataframe tbody tr th:only-of-type {\n",
       "        vertical-align: middle;\n",
       "    }\n",
       "\n",
       "    .dataframe tbody tr th {\n",
       "        vertical-align: top;\n",
       "    }\n",
       "\n",
       "    .dataframe thead th {\n",
       "        text-align: right;\n",
       "    }\n",
       "<\/style>\n",
       "<table border=\"1\" class=\"dataframe\">\n",
       "  <thead>\n",
       "    <tr style=\"text-align: right;\">\n",
       "      <th><\/th>\n",
       "      <th>PERSONID<\/th>\n",
       "      <th>COMPANYID<\/th>\n",
       "      <th>EMAIL<\/th>\n",
       "      <th>TITLE<\/th>\n",
       "      <th>FIRSTNAME<\/th>\n",
       "      <th>LASTNAME<\/th>\n",
       "      <th>LINKEDIN<\/th>\n",
       "      <th>STARTDATE<\/th>\n",
       "      <th>ENDDATE<\/th>\n",
       "    <\/tr>\n",
       "  <\/thead>\n",
       "  <tbody>\n",
       "    <tr>\n",
       "      <th>0<\/th>\n",
       "      <td>sourcescrub-1561653<\/td>\n",
       "      <td>sourcescrub-614878<\/td>\n",
       "      <td>bblume@spacemakerai.com<\/td>\n",
       "      <td>Board Member<\/td>\n",
       "      <td>Ben<\/td>\n",
       "      <td>Blume<\/td>\n",
       "      <td>https:\/\/www.linkedin.com\/in\/benblume<\/td>\n",
       "      <td>2019-06-14<\/td>\n",
       "      <td>2020-11-14<\/td>\n",
       "    <\/tr>\n",
       "    <tr>\n",
       "      <th>1<\/th>\n",
       "      <td>sourcescrub-1561653<\/td>\n",
       "      <td>sourcescrub-608844<\/td>\n",
       "      <td>None<\/td>\n",
       "      <td>Board Member<\/td>\n",
       "      <td>Ben<\/td>\n",
       "      <td>Blume<\/td>\n",
       "      <td>https:\/\/www.linkedin.com\/in\/benblume<\/td>\n",
       "      <td>2021-02-14<\/td>\n",
       "      <td>None<\/td>\n",
       "    <\/tr>\n",
       "    <tr>\n",
       "      <th>2<\/th>\n",
       "      <td>sourcescrub-1561653<\/td>\n",
       "      <td>sourcescrub-245123<\/td>\n",
       "      <td>bblume@hingehealth.com<\/td>\n",
       "      <td>Board Member<\/td>\n",
       "      <td>Ben<\/td>\n",
       "      <td>Blume<\/td>\n",
       "      <td>https:\/\/www.linkedin.com\/in\/benblume<\/td>\n",
       "      <td>2019-01-14<\/td>\n",
       "      <td>None<\/td>\n",
       "    <\/tr>\n",
       "    <tr>\n",
       "      <th>3<\/th>\n",
       "      <td>sourcescrub-1561653<\/td>\n",
       "      <td>sourcescrub-1732426<\/td>\n",
       "      <td>None<\/td>\n",
       "      <td>Board Member<\/td>\n",
       "      <td>Ben<\/td>\n",
       "      <td>Blume<\/td>\n",
       "      <td>https:\/\/www.linkedin.com\/in\/benblume<\/td>\n",
       "      <td>2020-05-14<\/td>\n",
       "      <td>None<\/td>\n",
       "    <\/tr>\n",
       "    <tr>\n",
       "      <th>4<\/th>\n",
       "      <td>sourcescrub-1561653<\/td>\n",
       "      <td>sourcescrub-1713390<\/td>\n",
       "      <td>None<\/td>\n",
       "      <td>Board Member<\/td>\n",
       "      <td>Ben<\/td>\n",
       "      <td>Blume<\/td>\n",
       "      <td>https:\/\/www.linkedin.com\/in\/benblume<\/td>\n",
       "      <td>2019-03-01<\/td>\n",
       "      <td>None<\/td>\n",
       "    <\/tr>\n",
       "  <\/tbody>\n",
       "<\/table>\n",
       "<\/div>"
      ]
     },
     "metadata":{
      
     },
     "output_type":"display_data"
    },
    {
     "data":{
      "text\/plain":[
       "              PERSONID            COMPANYID                    EMAIL  \\\n",
       "0  sourcescrub-1561653   sourcescrub-614878  bblume@spacemakerai.com   \n",
       "1  sourcescrub-1561653   sourcescrub-608844                     None   \n",
       "2  sourcescrub-1561653   sourcescrub-245123   bblume@hingehealth.com   \n",
       "3  sourcescrub-1561653  sourcescrub-1732426                     None   \n",
       "4  sourcescrub-1561653  sourcescrub-1713390                     None   \n",
       "\n",
       "          TITLE FIRSTNAME LASTNAME                              LINKEDIN  \\\n",
       "0  Board Member       Ben    Blume  https:\/\/www.linkedin.com\/in\/benblume   \n",
       "1  Board Member       Ben    Blume  https:\/\/www.linkedin.com\/in\/benblume   \n",
       "2  Board Member       Ben    Blume  https:\/\/www.linkedin.com\/in\/benblume   \n",
       "3  Board Member       Ben    Blume  https:\/\/www.linkedin.com\/in\/benblume   \n",
       "4  Board Member       Ben    Blume  https:\/\/www.linkedin.com\/in\/benblume   \n",
       "\n",
       "    STARTDATE     ENDDATE  \n",
       "0  2019-06-14  2020-11-14  \n",
       "1  2021-02-14        None  \n",
       "2  2019-01-14        None  \n",
       "3  2020-05-14        None  \n",
       "4  2019-03-01        None  "
      ]
     },
     "metadata":{
      
     },
     "output_type":"display_data"
    }
   ],
   "metadata":{
    "datalore":{
     "node_id":"90lUXoNZ4LYIvlT9M6ZwJB",
     "type":"CODE",
     "hide_input_from_viewers":false,
     "hide_output_from_viewers":false,
     "report_properties":{
      "rowId":"7guWSnMXN5nJ1FLyo8NHGH"
     }
    }
   }
  },
  {
   "cell_type":"code",
   "source":[
    "sourcescrub_boardmembers_df.rename(columns={'PERSONID': 'PERSON_ID', 'COMPANYID': 'COMPANY_ID', 'FIRSTNAME': 'FIRST_NAME',  'LASTNAME': 'LAST_NAME',  'STARTDATE': 'START_DATE', 'ENDDATE': 'END_DATE'}, inplace=True)\n",
    "sourcescrub_boardmembers_df.dtypes"
   ],
   "execution_count":null,
   "outputs":[
    {
     "data":{
      "text\/plain":[
       "PERSON_ID     object\n",
       "COMPANY_ID    object\n",
       "EMAIL         object\n",
       "TITLE         object\n",
       "FIRST_NAME    object\n",
       "LAST_NAME     object\n",
       "LINKEDIN      object\n",
       "START_DATE    object\n",
       "END_DATE      object\n",
       "dtype: object"
      ]
     },
     "metadata":{
      
     },
     "output_type":"display_data"
    }
   ],
   "metadata":{
    "datalore":{
     "node_id":"P5mr82ioAQosQua4cAgEjf",
     "type":"CODE",
     "hide_input_from_viewers":false,
     "hide_output_from_viewers":false,
     "report_properties":{
      "rowId":"fFzXhP7w429HVNmL8NJKBn"
     }
    }
   }
  },
  {
   "cell_type":"code",
   "source":[
    "sourcescrub_boardmembers_df['LINKEDIN'] = sourcescrub_boardmembers_df['LINKEDIN'].apply(lambda x: (str(urlparse(x).netloc or '').lstrip('www.') + str(urlparse(x).path or '')))\n",
    "sourcescrub_boardmembers_df.START_DATE = sourcescrub_boardmembers_df.START_DATE.fillna(0).astype('str').replace('0', np.nan)\n",
    "sourcescrub_boardmembers_df.END_DATE = sourcescrub_boardmembers_df.END_DATE.fillna(0).astype('str').replace('0', np.nan)\n",
    "sourcescrub_boardmembers_df.head(5)"
   ],
   "execution_count":null,
   "outputs":[
    {
     "data":{
      "text\/html":[
       "<div>\n",
       "<style scoped>\n",
       "    .dataframe tbody tr th:only-of-type {\n",
       "        vertical-align: middle;\n",
       "    }\n",
       "\n",
       "    .dataframe tbody tr th {\n",
       "        vertical-align: top;\n",
       "    }\n",
       "\n",
       "    .dataframe thead th {\n",
       "        text-align: right;\n",
       "    }\n",
       "<\/style>\n",
       "<table border=\"1\" class=\"dataframe\">\n",
       "  <thead>\n",
       "    <tr style=\"text-align: right;\">\n",
       "      <th><\/th>\n",
       "      <th>PERSON_ID<\/th>\n",
       "      <th>COMPANY_ID<\/th>\n",
       "      <th>EMAIL<\/th>\n",
       "      <th>TITLE<\/th>\n",
       "      <th>FIRST_NAME<\/th>\n",
       "      <th>LAST_NAME<\/th>\n",
       "      <th>LINKEDIN<\/th>\n",
       "      <th>START_DATE<\/th>\n",
       "      <th>END_DATE<\/th>\n",
       "    <\/tr>\n",
       "  <\/thead>\n",
       "  <tbody>\n",
       "    <tr>\n",
       "      <th>0<\/th>\n",
       "      <td>sourcescrub-1561653<\/td>\n",
       "      <td>sourcescrub-614878<\/td>\n",
       "      <td>bblume@spacemakerai.com<\/td>\n",
       "      <td>Board Member<\/td>\n",
       "      <td>Ben<\/td>\n",
       "      <td>Blume<\/td>\n",
       "      <td>linkedin.com\/in\/benblume<\/td>\n",
       "      <td>2019-06-14<\/td>\n",
       "      <td>2020-11-14<\/td>\n",
       "    <\/tr>\n",
       "    <tr>\n",
       "      <th>1<\/th>\n",
       "      <td>sourcescrub-1561653<\/td>\n",
       "      <td>sourcescrub-608844<\/td>\n",
       "      <td>None<\/td>\n",
       "      <td>Board Member<\/td>\n",
       "      <td>Ben<\/td>\n",
       "      <td>Blume<\/td>\n",
       "      <td>linkedin.com\/in\/benblume<\/td>\n",
       "      <td>2021-02-14<\/td>\n",
       "      <td>NaN<\/td>\n",
       "    <\/tr>\n",
       "    <tr>\n",
       "      <th>2<\/th>\n",
       "      <td>sourcescrub-1561653<\/td>\n",
       "      <td>sourcescrub-245123<\/td>\n",
       "      <td>bblume@hingehealth.com<\/td>\n",
       "      <td>Board Member<\/td>\n",
       "      <td>Ben<\/td>\n",
       "      <td>Blume<\/td>\n",
       "      <td>linkedin.com\/in\/benblume<\/td>\n",
       "      <td>2019-01-14<\/td>\n",
       "      <td>NaN<\/td>\n",
       "    <\/tr>\n",
       "    <tr>\n",
       "      <th>3<\/th>\n",
       "      <td>sourcescrub-1561653<\/td>\n",
       "      <td>sourcescrub-1732426<\/td>\n",
       "      <td>None<\/td>\n",
       "      <td>Board Member<\/td>\n",
       "      <td>Ben<\/td>\n",
       "      <td>Blume<\/td>\n",
       "      <td>linkedin.com\/in\/benblume<\/td>\n",
       "      <td>2020-05-14<\/td>\n",
       "      <td>NaN<\/td>\n",
       "    <\/tr>\n",
       "    <tr>\n",
       "      <th>4<\/th>\n",
       "      <td>sourcescrub-1561653<\/td>\n",
       "      <td>sourcescrub-1713390<\/td>\n",
       "      <td>None<\/td>\n",
       "      <td>Board Member<\/td>\n",
       "      <td>Ben<\/td>\n",
       "      <td>Blume<\/td>\n",
       "      <td>linkedin.com\/in\/benblume<\/td>\n",
       "      <td>2019-03-01<\/td>\n",
       "      <td>NaN<\/td>\n",
       "    <\/tr>\n",
       "  <\/tbody>\n",
       "<\/table>\n",
       "<\/div>"
      ]
     },
     "metadata":{
      
     },
     "output_type":"display_data"
    },
    {
     "data":{
      "text\/plain":[
       "             PERSON_ID           COMPANY_ID                    EMAIL  \\\n",
       "0  sourcescrub-1561653   sourcescrub-614878  bblume@spacemakerai.com   \n",
       "1  sourcescrub-1561653   sourcescrub-608844                     None   \n",
       "2  sourcescrub-1561653   sourcescrub-245123   bblume@hingehealth.com   \n",
       "3  sourcescrub-1561653  sourcescrub-1732426                     None   \n",
       "4  sourcescrub-1561653  sourcescrub-1713390                     None   \n",
       "\n",
       "          TITLE FIRST_NAME LAST_NAME                  LINKEDIN  START_DATE  \\\n",
       "0  Board Member        Ben     Blume  linkedin.com\/in\/benblume  2019-06-14   \n",
       "1  Board Member        Ben     Blume  linkedin.com\/in\/benblume  2021-02-14   \n",
       "2  Board Member        Ben     Blume  linkedin.com\/in\/benblume  2019-01-14   \n",
       "3  Board Member        Ben     Blume  linkedin.com\/in\/benblume  2020-05-14   \n",
       "4  Board Member        Ben     Blume  linkedin.com\/in\/benblume  2019-03-01   \n",
       "\n",
       "     END_DATE  \n",
       "0  2020-11-14  \n",
       "1         NaN  \n",
       "2         NaN  \n",
       "3         NaN  \n",
       "4         NaN  "
      ]
     },
     "metadata":{
      
     },
     "output_type":"display_data"
    }
   ],
   "metadata":{
    "datalore":{
     "node_id":"VE8b97tCJofcJsQPHeFI9S",
     "type":"CODE",
     "hide_input_from_viewers":false,
     "hide_output_from_viewers":false,
     "report_properties":{
      "rowId":"SBd4UUHxOyE12qAFxvpQ2I"
     }
    }
   }
  },
  {
   "cell_type":"code",
   "source":[
    "sourcescrub_boardmembers_df['END_DATE']"
   ],
   "execution_count":null,
   "outputs":[
    {
     "data":{
      "text\/plain":[
       "0        2020-11-14\n",
       "1               NaN\n",
       "2               NaN\n",
       "3               NaN\n",
       "4               NaN\n",
       "            ...    \n",
       "89417           NaN\n",
       "89418           NaN\n",
       "89419           NaN\n",
       "89420           NaN\n",
       "89421           NaN\n",
       "Name: END_DATE, Length: 89422, dtype: object"
      ]
     },
     "metadata":{
      
     },
     "output_type":"display_data"
    }
   ],
   "metadata":{
    "datalore":{
     "node_id":"USQB3DxVkb1Xq6IifNU5rX",
     "type":"CODE",
     "hide_input_from_viewers":false,
     "hide_output_from_viewers":false,
     "report_properties":{
      "rowId":"YM8hHbJ9e9aJsyHT1SkPqJ"
     }
    }
   }
  },
  {
   "cell_type":"code",
   "source":[
    "# Creating current board memebers\n",
    "sourcescrub_curr_boardmembers_df = sourcescrub_boardmembers_df[sourcescrub_boardmembers_df['END_DATE'] .isna() == True]\n",
    "print(sourcescrub_curr_boardmembers_df.shape)\n",
    "\n",
    "# Creating sourcescrub_curr_boardmembers_df board members\n",
    "sourcescrub_prev_boardmembers_df = sourcescrub_boardmembers_df[sourcescrub_boardmembers_df['END_DATE'].isna() == False]\n",
    "print(sourcescrub_prev_boardmembers_df.shape)"
   ],
   "execution_count":null,
   "outputs":[
    {
     "name":"stdout",
     "text":[
      "(67526, 9)\n",
      "(21896, 9)\n"
     ],
     "output_type":"stream"
    }
   ],
   "metadata":{
    "datalore":{
     "node_id":"rmoTk7xrLSMDHHz7txeIKp",
     "type":"CODE",
     "hide_input_from_viewers":false,
     "hide_output_from_viewers":false,
     "report_properties":{
      "rowId":"9KEyghWP33PG0Flx6HQ9d2"
     }
    }
   }
  },
  {
   "cell_type":"markdown",
   "source":[
    "### Ingesting Common SourceScrub Identifiers into Graph"
   ],
   "attachments":{
    
   },
   "metadata":{
    "datalore":{
     "node_id":"eJEVCuhyFNoyBdQ4NpDifx",
     "type":"MD",
     "hide_input_from_viewers":false,
     "hide_output_from_viewers":false,
     "report_properties":{
      "rowId":"1XGBjzihhR9He5FFP9wfnr"
     }
    }
   }
  },
  {
   "cell_type":"code",
   "source":[
    " ### Ingesting Common SourceScrub Identifiers into Graph\n",
    "sourcescrub_curr_boardmembers_df_linkedin = np.array_split(sourcescrub_curr_boardmembers_df[sourcescrub_curr_boardmembers_df['LINKEDIN'].isna() == False][['LINKEDIN']].rename(columns={'LINKEDIN': 'URL'}).to_dict('records'), BATCHES)\n",
    "for chunk_df in sourcescrub_curr_boardmembers_df_linkedin:\n",
    "    merge_nodes(\n",
    "        graph.auto(),\n",
    "        chunk_df,\n",
    "        ((\"URLIdentifier\", \"LinkedInURL\"), \"URL\"),\n",
    "    )\n",
    "\n",
    "sourcescrub_prev_boardmembers_df_linkedin = np.array_split(sourcescrub_prev_boardmembers_df[sourcescrub_prev_boardmembers_df['LINKEDIN'].isna() == False][['LINKEDIN']].rename(columns={'LINKEDIN': 'URL'}).to_dict('records'), BATCHES)\n",
    "for chunk_df in sourcescrub_prev_boardmembers_df_linkedin:\n",
    "    merge_nodes(\n",
    "        graph.auto(),\n",
    "        chunk_df,\n",
    "        ((\"URLIdentifier\", \"LinkedInURL\"), \"URL\"),\n",
    "    )"
   ],
   "execution_count":null,
   "outputs":[
    
   ],
   "metadata":{
    "datalore":{
     "node_id":"xvNSlzErEnbDuPMdeftWuW",
     "type":"CODE",
     "hide_input_from_viewers":false,
     "hide_output_from_viewers":false,
     "report_properties":{
      "rowId":"bMs2Hx4Jgqrlazbf62aLfO"
     }
    }
   }
  },
  {
   "cell_type":"code",
   "source":[
    "sourcescrub_curr_boardmembers_df_email = np.array_split(sourcescrub_curr_boardmembers_df[sourcescrub_curr_boardmembers_df['EMAIL'].isna() == False][['EMAIL']].rename(columns={'LINKEDIN': 'URL'}).to_dict('records'), BATCHES)\n",
    "for chunk_df in sourcescrub_curr_boardmembers_df_linkedin:\n",
    "    merge_nodes(\n",
    "        graph.auto(),\n",
    "        chunk_df,\n",
    "        ((\"Identifier\", \"EmailURL\"), \"URL\"),\n",
    "    )\n",
    "\n",
    "sourcescrub_prev_boardmembers_df_email = np.array_split(sourcescrub_prev_boardmembers_df[sourcescrub_prev_boardmembers_df['EMAIL'].isna() == False][['EMAIL']].rename(columns={'LINKEDIN': 'URL'}).to_dict('records'), BATCHES)\n",
    "for chunk_df in sourcescrub_prev_boardmembers_df_linkedin:\n",
    "    merge_nodes(\n",
    "        graph.auto(),\n",
    "        chunk_df,\n",
    "        ((\"URLIdentifier\", \"EmailURL\"), \"URL\"),\n",
    "    )"
   ],
   "execution_count":null,
   "outputs":[
    
   ],
   "metadata":{
    "datalore":{
     "node_id":"zQWXOIhOGdjV7XbfPsCTwz",
     "type":"CODE",
     "hide_input_from_viewers":false,
     "hide_output_from_viewers":false,
     "report_properties":{
      "rowId":"QyQM7yFN4wqvb330Hza9lh"
     }
    }
   }
  },
  {
   "cell_type":"code",
   "source":[
    "for sourcescrub_boardmembers_df in [sourcescrub_prev_boardmembers_df, sourcescrub_curr_boardmembers_df]:\n",
    "    for identifier in ['LINKEDIN', 'EMAIL']:\n",
    "        sourcescrub_identifier_relationships = sourcescrub_boardmembers_df.loc[sourcescrub_boardmembers_df[identifier] != np.nan][['PERSON_ID', identifier]]\n",
    "        sourcescrub_identifier_relationships.insert(1, 'WEIGHT', [[0.5]] * len(sourcescrub_boardmembers_df))\n",
    "        df_list = np.array_split(sourcescrub_identifier_relationships, BATCHES)\n",
    "        for chunk_df in df_list:\n",
    "            merge_relationships(\n",
    "                graph.auto(),\n",
    "                chunk_df.values.tolist(),\n",
    "                merge_key=\"LINKED_TO\",\n",
    "                start_node_key=(\"PERSON\", \"PERSON_ID\"),\n",
    "                end_node_key=(\"URLIdentifier\", \"URL\"),\n",
    "                keys=[\"WEIGHT\"],\n",
    "            )"
   ],
   "execution_count":null,
   "outputs":[
    
   ],
   "metadata":{
    "datalore":{
     "node_id":"neQwoeqhgtfg2J1hFAKEUr",
     "type":"CODE",
     "hide_input_from_viewers":false,
     "hide_output_from_viewers":false,
     "report_properties":{
      "rowId":"YcXssFinqSsotHsZuPLNX9"
     }
    }
   }
  },
  {
   "cell_type":"markdown",
   "source":[
    "#### SourceScrub Executives"
   ],
   "attachments":{
    
   },
   "metadata":{
    "datalore":{
     "node_id":"4n6DWzP10m0f3F48he8bTv",
     "type":"MD",
     "hide_input_from_viewers":false,
     "hide_output_from_viewers":false,
     "report_properties":{
      "rowId":"d2DTifpdmyaKpxv4XKdLxG"
     }
    }
   }
  },
  {
   "cell_type":"code",
   "source":[
    "ss_exec_df = cursor.execute('SELECT * FROM AMD_CATALYST_DB.L2_NEW.SOURCESCRUB_EXECUTIVES WHERE LINKEDIN IS NOT NULL').fetch_pandas_all()\n",
    "display(ss_exec_df.head(5))"
   ],
   "execution_count":null,
   "outputs":[
    {
     "data":{
      "text\/html":[
       "<div>\n",
       "<style scoped>\n",
       "    .dataframe tbody tr th:only-of-type {\n",
       "        vertical-align: middle;\n",
       "    }\n",
       "\n",
       "    .dataframe tbody tr th {\n",
       "        vertical-align: top;\n",
       "    }\n",
       "\n",
       "    .dataframe thead th {\n",
       "        text-align: right;\n",
       "    }\n",
       "<\/style>\n",
       "<table border=\"1\" class=\"dataframe\">\n",
       "  <thead>\n",
       "    <tr style=\"text-align: right;\">\n",
       "      <th><\/th>\n",
       "      <th>PERSONID<\/th>\n",
       "      <th>COMPANYID<\/th>\n",
       "      <th>EMAIL<\/th>\n",
       "      <th>TITLE<\/th>\n",
       "      <th>FIRSTNAME<\/th>\n",
       "      <th>LASTNAME<\/th>\n",
       "      <th>LINKEDIN<\/th>\n",
       "      <th>STARTDATE<\/th>\n",
       "      <th>ENDDATE<\/th>\n",
       "    <\/tr>\n",
       "  <\/thead>\n",
       "  <tbody>\n",
       "    <tr>\n",
       "      <th>0<\/th>\n",
       "      <td>sourcescrub-1873836<\/td>\n",
       "      <td>sourcescrub-1883179<\/td>\n",
       "      <td>bogdan.yakovenko@serverbee.net<\/td>\n",
       "      <td>CEO<\/td>\n",
       "      <td>Bogdan<\/td>\n",
       "      <td>Yakovenko<\/td>\n",
       "      <td>https:\/\/www.linkedin.com\/in\/imxotep<\/td>\n",
       "      <td>2019-01-21<\/td>\n",
       "      <td>None<\/td>\n",
       "    <\/tr>\n",
       "    <tr>\n",
       "      <th>1<\/th>\n",
       "      <td>sourcescrub-1108552<\/td>\n",
       "      <td>sourcescrub-217812<\/td>\n",
       "      <td>smankiewicz@healthvana.com<\/td>\n",
       "      <td>CTO \/ VP Engineering<\/td>\n",
       "      <td>Sam<\/td>\n",
       "      <td>Mankiewicz<\/td>\n",
       "      <td>https:\/\/www.linkedin.com\/in\/sammankiewicz<\/td>\n",
       "      <td>2016-05-01<\/td>\n",
       "      <td>2018-10-01<\/td>\n",
       "    <\/tr>\n",
       "    <tr>\n",
       "      <th>2<\/th>\n",
       "      <td>sourcescrub-2372025<\/td>\n",
       "      <td>sourcescrub-2261938<\/td>\n",
       "      <td>ben@entek.be<\/td>\n",
       "      <td>Co-Owner<\/td>\n",
       "      <td>Ben<\/td>\n",
       "      <td>Van Ham<\/td>\n",
       "      <td>https:\/\/www.linkedin.com\/in\/benvanham<\/td>\n",
       "      <td>2012-03-01<\/td>\n",
       "      <td>None<\/td>\n",
       "    <\/tr>\n",
       "    <tr>\n",
       "      <th>3<\/th>\n",
       "      <td>sourcescrub-2759275<\/td>\n",
       "      <td>sourcescrub-1533681<\/td>\n",
       "      <td>gvenugopalan@rakwhitecement.ae<\/td>\n",
       "      <td>Director<\/td>\n",
       "      <td>Venugopalan<\/td>\n",
       "      <td>Ganapathy<\/td>\n",
       "      <td>https:\/\/www.linkedin.com\/in\/venugopalan-ganapa...<\/td>\n",
       "      <td>2015-03-01<\/td>\n",
       "      <td>None<\/td>\n",
       "    <\/tr>\n",
       "    <tr>\n",
       "      <th>4<\/th>\n",
       "      <td>sourcescrub-3879509<\/td>\n",
       "      <td>sourcescrub-13472744<\/td>\n",
       "      <td>None<\/td>\n",
       "      <td>Owner<\/td>\n",
       "      <td>Alex<\/td>\n",
       "      <td>Zavarzin<\/td>\n",
       "      <td>https:\/\/www.linkedin.com\/in\/alex-zavarzin-1879...<\/td>\n",
       "      <td>1997-01-01<\/td>\n",
       "      <td>None<\/td>\n",
       "    <\/tr>\n",
       "  <\/tbody>\n",
       "<\/table>\n",
       "<\/div>"
      ]
     },
     "metadata":{
      
     },
     "output_type":"display_data"
    },
    {
     "data":{
      "text\/plain":[
       "              PERSONID             COMPANYID                           EMAIL  \\\n",
       "0  sourcescrub-1873836   sourcescrub-1883179  bogdan.yakovenko@serverbee.net   \n",
       "1  sourcescrub-1108552    sourcescrub-217812      smankiewicz@healthvana.com   \n",
       "2  sourcescrub-2372025   sourcescrub-2261938                    ben@entek.be   \n",
       "3  sourcescrub-2759275   sourcescrub-1533681  gvenugopalan@rakwhitecement.ae   \n",
       "4  sourcescrub-3879509  sourcescrub-13472744                            None   \n",
       "\n",
       "                  TITLE    FIRSTNAME    LASTNAME  \\\n",
       "0                   CEO       Bogdan   Yakovenko   \n",
       "1  CTO \/ VP Engineering          Sam  Mankiewicz   \n",
       "2              Co-Owner          Ben     Van Ham   \n",
       "3              Director  Venugopalan   Ganapathy   \n",
       "4                 Owner         Alex    Zavarzin   \n",
       "\n",
       "                                            LINKEDIN   STARTDATE     ENDDATE  \n",
       "0                https:\/\/www.linkedin.com\/in\/imxotep  2019-01-21        None  \n",
       "1          https:\/\/www.linkedin.com\/in\/sammankiewicz  2016-05-01  2018-10-01  \n",
       "2              https:\/\/www.linkedin.com\/in\/benvanham  2012-03-01        None  \n",
       "3  https:\/\/www.linkedin.com\/in\/venugopalan-ganapa...  2015-03-01        None  \n",
       "4  https:\/\/www.linkedin.com\/in\/alex-zavarzin-1879...  1997-01-01        None  "
      ]
     },
     "metadata":{
      
     },
     "output_type":"display_data"
    }
   ],
   "metadata":{
    "datalore":{
     "node_id":"VvwOKFjNfTOCxKlIJThuCi",
     "type":"CODE",
     "hide_input_from_viewers":false,
     "hide_output_from_viewers":false,
     "report_properties":{
      "rowId":"Ztmt9Y09PFVIpW2UWtP6Sp"
     }
    }
   }
  },
  {
   "cell_type":"code",
   "source":[
    "ss_exec_df.rename(columns={'PERSONID': 'PERSON_ID', 'COMPANYID': 'COMPANY_ID', 'FIRSTNAME': 'FIRST_NAME',  'LASTNAME': 'LAST_NAME',  'STARTDATE': 'START_DATE', 'ENDDATE': 'END_DATE'}, inplace=True)"
   ],
   "execution_count":null,
   "outputs":[
    
   ],
   "metadata":{
    "datalore":{
     "node_id":"Sg0iQWDuj53WUY33pssTdZ",
     "type":"CODE",
     "hide_input_from_viewers":false,
     "hide_output_from_viewers":false,
     "report_properties":{
      "rowId":"H4smFYT8jQJdH9MUs150Wa"
     }
    }
   }
  },
  {
   "cell_type":"code",
   "source":[
    "ss_exec_df['LINKEDIN'] = ss_exec_df['LINKEDIN'].apply(lambda x: (str(urlparse(x).netloc or '').lstrip('www.') + str(urlparse(x).path or '')))\n",
    "ss_exec_df.START_DATE = ss_exec_df.START_DATE.fillna(0).astype('str').replace('0', np.nan)\n",
    "ss_exec_df.END_DATE = ss_exec_df.END_DATE.fillna(0).astype('str').replace('0', np.nan)"
   ],
   "execution_count":null,
   "outputs":[
    
   ],
   "metadata":{
    "datalore":{
     "node_id":"quzYpQBla4VM1b65KKJUke",
     "type":"CODE",
     "hide_input_from_viewers":false,
     "hide_output_from_viewers":false,
     "report_properties":{
      "rowId":"1oJeTlLK3ULIbdWbPHDdoo"
     }
    }
   }
  },
  {
   "cell_type":"code",
   "source":[
    "ss_exec_df.head(5)"
   ],
   "execution_count":null,
   "outputs":[
    {
     "data":{
      "text\/html":[
       "<div>\n",
       "<style scoped>\n",
       "    .dataframe tbody tr th:only-of-type {\n",
       "        vertical-align: middle;\n",
       "    }\n",
       "\n",
       "    .dataframe tbody tr th {\n",
       "        vertical-align: top;\n",
       "    }\n",
       "\n",
       "    .dataframe thead th {\n",
       "        text-align: right;\n",
       "    }\n",
       "<\/style>\n",
       "<table border=\"1\" class=\"dataframe\">\n",
       "  <thead>\n",
       "    <tr style=\"text-align: right;\">\n",
       "      <th><\/th>\n",
       "      <th>PERSON_ID<\/th>\n",
       "      <th>COMPANY_ID<\/th>\n",
       "      <th>EMAIL<\/th>\n",
       "      <th>TITLE<\/th>\n",
       "      <th>FIRST_NAME<\/th>\n",
       "      <th>LAST_NAME<\/th>\n",
       "      <th>LINKEDIN<\/th>\n",
       "      <th>START_DATE<\/th>\n",
       "      <th>END_DATE<\/th>\n",
       "    <\/tr>\n",
       "  <\/thead>\n",
       "  <tbody>\n",
       "    <tr>\n",
       "      <th>0<\/th>\n",
       "      <td>sourcescrub-1873836<\/td>\n",
       "      <td>sourcescrub-1883179<\/td>\n",
       "      <td>bogdan.yakovenko@serverbee.net<\/td>\n",
       "      <td>CEO<\/td>\n",
       "      <td>Bogdan<\/td>\n",
       "      <td>Yakovenko<\/td>\n",
       "      <td>linkedin.com\/in\/imxotep<\/td>\n",
       "      <td>2019-01-21<\/td>\n",
       "      <td>NaN<\/td>\n",
       "    <\/tr>\n",
       "    <tr>\n",
       "      <th>1<\/th>\n",
       "      <td>sourcescrub-1108552<\/td>\n",
       "      <td>sourcescrub-217812<\/td>\n",
       "      <td>smankiewicz@healthvana.com<\/td>\n",
       "      <td>CTO \/ VP Engineering<\/td>\n",
       "      <td>Sam<\/td>\n",
       "      <td>Mankiewicz<\/td>\n",
       "      <td>linkedin.com\/in\/sammankiewicz<\/td>\n",
       "      <td>2016-05-01<\/td>\n",
       "      <td>2018-10-01<\/td>\n",
       "    <\/tr>\n",
       "    <tr>\n",
       "      <th>2<\/th>\n",
       "      <td>sourcescrub-2372025<\/td>\n",
       "      <td>sourcescrub-2261938<\/td>\n",
       "      <td>ben@entek.be<\/td>\n",
       "      <td>Co-Owner<\/td>\n",
       "      <td>Ben<\/td>\n",
       "      <td>Van Ham<\/td>\n",
       "      <td>linkedin.com\/in\/benvanham<\/td>\n",
       "      <td>2012-03-01<\/td>\n",
       "      <td>NaN<\/td>\n",
       "    <\/tr>\n",
       "    <tr>\n",
       "      <th>3<\/th>\n",
       "      <td>sourcescrub-2759275<\/td>\n",
       "      <td>sourcescrub-1533681<\/td>\n",
       "      <td>gvenugopalan@rakwhitecement.ae<\/td>\n",
       "      <td>Director<\/td>\n",
       "      <td>Venugopalan<\/td>\n",
       "      <td>Ganapathy<\/td>\n",
       "      <td>linkedin.com\/in\/venugopalan-ganapathy-094a7443<\/td>\n",
       "      <td>2015-03-01<\/td>\n",
       "      <td>NaN<\/td>\n",
       "    <\/tr>\n",
       "    <tr>\n",
       "      <th>4<\/th>\n",
       "      <td>sourcescrub-3879509<\/td>\n",
       "      <td>sourcescrub-13472744<\/td>\n",
       "      <td>None<\/td>\n",
       "      <td>Owner<\/td>\n",
       "      <td>Alex<\/td>\n",
       "      <td>Zavarzin<\/td>\n",
       "      <td>linkedin.com\/in\/alex-zavarzin-1879a151<\/td>\n",
       "      <td>1997-01-01<\/td>\n",
       "      <td>NaN<\/td>\n",
       "    <\/tr>\n",
       "  <\/tbody>\n",
       "<\/table>\n",
       "<\/div>"
      ]
     },
     "metadata":{
      
     },
     "output_type":"display_data"
    },
    {
     "data":{
      "text\/plain":[
       "             PERSON_ID            COMPANY_ID                           EMAIL  \\\n",
       "0  sourcescrub-1873836   sourcescrub-1883179  bogdan.yakovenko@serverbee.net   \n",
       "1  sourcescrub-1108552    sourcescrub-217812      smankiewicz@healthvana.com   \n",
       "2  sourcescrub-2372025   sourcescrub-2261938                    ben@entek.be   \n",
       "3  sourcescrub-2759275   sourcescrub-1533681  gvenugopalan@rakwhitecement.ae   \n",
       "4  sourcescrub-3879509  sourcescrub-13472744                            None   \n",
       "\n",
       "                  TITLE   FIRST_NAME   LAST_NAME  \\\n",
       "0                   CEO       Bogdan   Yakovenko   \n",
       "1  CTO \/ VP Engineering          Sam  Mankiewicz   \n",
       "2              Co-Owner          Ben     Van Ham   \n",
       "3              Director  Venugopalan   Ganapathy   \n",
       "4                 Owner         Alex    Zavarzin   \n",
       "\n",
       "                                         LINKEDIN  START_DATE    END_DATE  \n",
       "0                         linkedin.com\/in\/imxotep  2019-01-21         NaN  \n",
       "1                   linkedin.com\/in\/sammankiewicz  2016-05-01  2018-10-01  \n",
       "2                       linkedin.com\/in\/benvanham  2012-03-01         NaN  \n",
       "3  linkedin.com\/in\/venugopalan-ganapathy-094a7443  2015-03-01         NaN  \n",
       "4          linkedin.com\/in\/alex-zavarzin-1879a151  1997-01-01         NaN  "
      ]
     },
     "metadata":{
      
     },
     "output_type":"display_data"
    }
   ],
   "metadata":{
    "datalore":{
     "node_id":"9RMeXmHeOlCy8qgUqX5GN8",
     "type":"CODE",
     "hide_input_from_viewers":false,
     "hide_output_from_viewers":false,
     "report_properties":{
      "rowId":"1huEUxHyCDUF0jgNOZFtVe"
     }
    }
   }
  },
  {
   "cell_type":"code",
   "source":[
    "# previous executives\n",
    "ss_curr_exec_df = ss_exec_df[ss_exec_df['END_DATE'].isna() == True]\n",
    "print(ss_curr_exec_df.shape)\n",
    "\n",
    "# current executives\n",
    "ss_prev_exec_df = ss_exec_df[ss_exec_df['END_DATE'].isna() == False]\n",
    "print(ss_prev_exec_df.shape)"
   ],
   "execution_count":null,
   "outputs":[
    {
     "name":"stdout",
     "text":[
      "(2250083, 9)\n",
      "(592672, 9)\n"
     ],
     "output_type":"stream"
    }
   ],
   "metadata":{
    "datalore":{
     "node_id":"NslLwe2s1L6V6j3bNFJWPS",
     "type":"CODE",
     "hide_input_from_viewers":false,
     "hide_output_from_viewers":false,
     "report_properties":{
      "rowId":"svZgUfEVxu4VEtC1biCtNh"
     }
    }
   }
  },
  {
   "cell_type":"code",
   "source":[
    " ### Ingesting Common SourceScrub ExectutovesIdentifiers into Graph\n",
    "\n",
    "for ss_exec_df in [ss_curr_exec_df, ss_prev_exec_df]:\n",
    "    ss_exec_df_df_linkedin = np.array_split(ss_exec_df[ss_exec_df['LINKEDIN'].isna() == False][['LINKEDIN']].rename(columns={'LINKEDIN': 'URL'}).to_dict('records'), BATCHES)\n",
    "    for chunk_df in sourcescrub_curr_boardmembers_df_linkedin:\n",
    "        merge_nodes(\n",
    "            graph.auto(),\n",
    "            chunk_df,\n",
    "            ((\"URLIdentifier\", \"LinkedInURL\"), \"URL\"),\n",
    "        )"
   ],
   "execution_count":null,
   "outputs":[
    
   ],
   "metadata":{
    "datalore":{
     "node_id":"agOV8sylqghPuczb7yqZBC",
     "type":"CODE",
     "hide_input_from_viewers":false,
     "hide_output_from_viewers":false,
     "report_properties":{
      "rowId":"CcQbpfhQU2HmxCKFyaGFqa"
     }
    }
   }
  },
  {
   "cell_type":"code",
   "source":[
    "for ss_exec_df in [ss_prev_exec_df, ss_curr_exec_df]:\n",
    "    for identifier in ['LINKEDIN', 'EMAIL']:\n",
    "        sourcescrub_identifier_relationships = sourcescrub_boardmembers_df.loc[sourcescrub_boardmembers_df[identifier] != np.nan][['PERSON_ID', identifier]]\n",
    "        sourcescrub_identifier_relationships.insert(1, 'WEIGHT', [[0.5]] * len(sourcescrub_boardmembers_df))\n",
    "        df_list = np.array_split(sourcescrub_identifier_relationships, BATCHES)\n",
    "        for chunk_df in df_list:\n",
    "            merge_relationships(\n",
    "                graph.auto(),\n",
    "                chunk_df.values.tolist(),\n",
    "                merge_key=\"LINKED_TO\",\n",
    "                start_node_key=(\"PERSON\", \"PERSON_ID\"),\n",
    "                end_node_key=(\"PERSON\", \"PERSON_ID\"),\n",
    "                keys=[\"WEIGHT\"]\n",
    "            ),\n",
    "            merge_relationships(\n",
    "                graph.auto(),\n",
    "                chunk_df.values.tolist(),\n",
    "                merge_key=\"LINKED_TO\",\n",
    "                start_node_key=(\"PERSON\", \"PERSON_ID\"),\n",
    "                end_node_key=(\"COMPANY\", \"COMPANY_ID\"),\n",
    "                keys=[\"WEIGHT\"]\n",
    "            )"
   ],
   "execution_count":null,
   "outputs":[
    
   ],
   "metadata":{
    "datalore":{
     "node_id":"dgytvubTp9fYZI6EOjD57m",
     "type":"CODE",
     "hide_input_from_viewers":false,
     "hide_output_from_viewers":false,
     "report_properties":{
      "rowId":"6kJnGGB6DDxDRZII51OHu9"
     }
    }
   }
  },
  {
   "cell_type":"markdown",
   "source":[
    "### CrunchBase Jobs\n",
    "#### 1. Current Jobs"
   ],
   "attachments":{
    
   },
   "metadata":{
    "datalore":{
     "node_id":"qt9odOLxLksshCKU6AW3FS",
     "type":"MD",
     "hide_input_from_viewers":false,
     "hide_output_from_viewers":false,
     "report_properties":{
      "rowId":"FiLnSZQu4bgvMWCRyoBETU"
     }
    }
   }
  },
  {
   "cell_type":"code",
   "source":[
    "cb_jobs_df = cursor.execute('SELECT UUID, \"JOB TYPE\", NAME, \"ORG NAME\", \"ORG UUID\", PERMALINK, \"PERSON NAME\", \"PERSON UUID\"  FROM AMD_CATALYST_DB.L2.GRAPH_CRUNCHBASE_CURRENT_JOBS').fetch_pandas_all()\n",
    "display(cb_jobs_df.head(5))"
   ],
   "execution_count":null,
   "outputs":[
    {
     "data":{
      "text\/html":[
       "<div>\n",
       "<style scoped>\n",
       "    .dataframe tbody tr th:only-of-type {\n",
       "        vertical-align: middle;\n",
       "    }\n",
       "\n",
       "    .dataframe tbody tr th {\n",
       "        vertical-align: top;\n",
       "    }\n",
       "\n",
       "    .dataframe thead th {\n",
       "        text-align: right;\n",
       "    }\n",
       "<\/style>\n",
       "<table border=\"1\" class=\"dataframe\">\n",
       "  <thead>\n",
       "    <tr style=\"text-align: right;\">\n",
       "      <th><\/th>\n",
       "      <th>UUID<\/th>\n",
       "      <th>JOB TYPE<\/th>\n",
       "      <th>NAME<\/th>\n",
       "      <th>ORG NAME<\/th>\n",
       "      <th>ORG UUID<\/th>\n",
       "      <th>PERMALINK<\/th>\n",
       "      <th>PERSON NAME<\/th>\n",
       "      <th>PERSON UUID<\/th>\n",
       "    <\/tr>\n",
       "  <\/thead>\n",
       "  <tbody>\n",
       "    <tr>\n",
       "      <th>0<\/th>\n",
       "      <td>271cd67c-29e0-4981-80b9-624ead28de1a<\/td>\n",
       "      <td>executive<\/td>\n",
       "      <td>Geoffrey Goldberg Co-Founder &amp; Chief Creative ...<\/td>\n",
       "      <td>Movers+Shakers<\/td>\n",
       "      <td>b5564a92-1a03-4e7c-924f-8eee7b7e9241<\/td>\n",
       "      <td>geoffrey-goldberg-b93b-executive-movers-shaker...<\/td>\n",
       "      <td>Geoffrey Goldberg<\/td>\n",
       "      <td>52c1da33-3fcd-4203-aad6-1ade3243b93b<\/td>\n",
       "    <\/tr>\n",
       "    <tr>\n",
       "      <th>1<\/th>\n",
       "      <td>97a9ea53-1d97-40c3-9bfc-3ed960502f41<\/td>\n",
       "      <td>employee<\/td>\n",
       "      <td>Anabel Roitz Business and product development ...<\/td>\n",
       "      <td>Youse Seguros<\/td>\n",
       "      <td>167c305a-4743-401c-8749-cd80e4e3a844<\/td>\n",
       "      <td>anabel-roitz-employee-youse-seguros--97a9ea53<\/td>\n",
       "      <td>Anabel Roitz<\/td>\n",
       "      <td>bfa09810-c845-494e-aa19-a85f759870f9<\/td>\n",
       "    <\/tr>\n",
       "    <tr>\n",
       "      <th>2<\/th>\n",
       "      <td>12d17236-98f4-4d42-8c84-09470886b3bc<\/td>\n",
       "      <td>executive<\/td>\n",
       "      <td>Luc Seraphin CEO @ Rambus<\/td>\n",
       "      <td>Rambus<\/td>\n",
       "      <td>b7fb95a3-cc31-1084-7258-b9b0869c0199<\/td>\n",
       "      <td>luc-seraphin-executive-rambus--12d17236<\/td>\n",
       "      <td>Luc Seraphin<\/td>\n",
       "      <td>da736ecc-2bb6-4252-bedc-00abcdc004ae<\/td>\n",
       "    <\/tr>\n",
       "    <tr>\n",
       "      <th>3<\/th>\n",
       "      <td>3adfd278-8a3e-429a-bcfb-7489dbc93e96<\/td>\n",
       "      <td>executive<\/td>\n",
       "      <td>Craig Zingerline Co-Founder @ Growth University<\/td>\n",
       "      <td>Growth University<\/td>\n",
       "      <td>c69717ab-4878-457c-8f9c-20b682a58226<\/td>\n",
       "      <td>craig-zingerline-executive-growth-university--...<\/td>\n",
       "      <td>Craig Zingerline<\/td>\n",
       "      <td>51abfa96-4415-8523-dfba-81fce13bf9d8<\/td>\n",
       "    <\/tr>\n",
       "    <tr>\n",
       "      <th>4<\/th>\n",
       "      <td>ac67f6fa-efff-7cc8-7e1b-c1a99e6bca61<\/td>\n",
       "      <td>executive<\/td>\n",
       "      <td>William Walczak Director @ Hiilite<\/td>\n",
       "      <td>Hiilite<\/td>\n",
       "      <td>9d0515a4-6af2-9ac9-da94-a652c4d7bb2f<\/td>\n",
       "      <td>william-walczak-executive-hiilite-creative-gro...<\/td>\n",
       "      <td>William Walczak<\/td>\n",
       "      <td>90ec2aac-0369-1b83-aae0-8bedb8f86fa4<\/td>\n",
       "    <\/tr>\n",
       "  <\/tbody>\n",
       "<\/table>\n",
       "<\/div>"
      ]
     },
     "metadata":{
      
     },
     "output_type":"display_data"
    },
    {
     "data":{
      "text\/plain":[
       "                                   UUID   JOB TYPE  \\\n",
       "0  271cd67c-29e0-4981-80b9-624ead28de1a  executive   \n",
       "1  97a9ea53-1d97-40c3-9bfc-3ed960502f41   employee   \n",
       "2  12d17236-98f4-4d42-8c84-09470886b3bc  executive   \n",
       "3  3adfd278-8a3e-429a-bcfb-7489dbc93e96  executive   \n",
       "4  ac67f6fa-efff-7cc8-7e1b-c1a99e6bca61  executive   \n",
       "\n",
       "                                                NAME           ORG NAME  \\\n",
       "0  Geoffrey Goldberg Co-Founder & Chief Creative ...     Movers+Shakers   \n",
       "1  Anabel Roitz Business and product development ...      Youse Seguros   \n",
       "2                          Luc Seraphin CEO @ Rambus             Rambus   \n",
       "3    Craig Zingerline Co-Founder @ Growth University  Growth University   \n",
       "4                 William Walczak Director @ Hiilite            Hiilite   \n",
       "\n",
       "                               ORG UUID  \\\n",
       "0  b5564a92-1a03-4e7c-924f-8eee7b7e9241   \n",
       "1  167c305a-4743-401c-8749-cd80e4e3a844   \n",
       "2  b7fb95a3-cc31-1084-7258-b9b0869c0199   \n",
       "3  c69717ab-4878-457c-8f9c-20b682a58226   \n",
       "4  9d0515a4-6af2-9ac9-da94-a652c4d7bb2f   \n",
       "\n",
       "                                           PERMALINK        PERSON NAME  \\\n",
       "0  geoffrey-goldberg-b93b-executive-movers-shaker...  Geoffrey Goldberg   \n",
       "1      anabel-roitz-employee-youse-seguros--97a9ea53       Anabel Roitz   \n",
       "2            luc-seraphin-executive-rambus--12d17236       Luc Seraphin   \n",
       "3  craig-zingerline-executive-growth-university--...   Craig Zingerline   \n",
       "4  william-walczak-executive-hiilite-creative-gro...    William Walczak   \n",
       "\n",
       "                            PERSON UUID  \n",
       "0  52c1da33-3fcd-4203-aad6-1ade3243b93b  \n",
       "1  bfa09810-c845-494e-aa19-a85f759870f9  \n",
       "2  da736ecc-2bb6-4252-bedc-00abcdc004ae  \n",
       "3  51abfa96-4415-8523-dfba-81fce13bf9d8  \n",
       "4  90ec2aac-0369-1b83-aae0-8bedb8f86fa4  "
      ]
     },
     "metadata":{
      
     },
     "output_type":"display_data"
    }
   ],
   "metadata":{
    "datalore":{
     "node_id":"U7VikJGBgZ64ba7cDlT3n0",
     "type":"CODE",
     "hide_input_from_viewers":false,
     "hide_output_from_viewers":false,
     "report_properties":{
      "rowId":"2sbWcAqrcAYNHxtrHX5erj"
     }
    }
   }
  },
  {
   "cell_type":"code",
   "source":[
    "cb_jobs_df.rename(columns={\n",
    "    'UUID': 'JOB_ID', \n",
    "    'JOB TYPE': 'JOB_TYPE', \n",
    "    'NAME': 'JOB_NAME',\n",
    "    'ORG NAME': 'ORG_NAME',\n",
    "    'ORG UUID': 'ORG_UUID', \n",
    "    'PERSON NAME': 'PERSON_NAME',\n",
    "    'PERSON UUID': 'PERSON_UUID'\n",
    "}, inplace=True)\n",
    "\n",
    "cb_jobs_df['JOB_NAME'] =cb_jobs_df['JOB_NAME'].apply(lambda x: x.split(\"@\")[0])\n",
    "# cb_jobs_df.replace(r'^\\s*$', np.nan, regex=True, inplace=True)\n",
    "# cb_jobs_df.replace({None: ''}, inplace=True)"
   ],
   "execution_count":null,
   "outputs":[
    
   ],
   "metadata":{
    "datalore":{
     "node_id":"nSU9sUyGErl8bEnYQhcQX5",
     "type":"CODE",
     "hide_input_from_viewers":false,
     "hide_output_from_viewers":false,
     "report_properties":{
      "rowId":"jzuhHBch0Oo9AMj7MuX9t5"
     }
    }
   }
  },
  {
   "cell_type":"code",
   "source":[
    "cb_jobs_df.head()"
   ],
   "execution_count":null,
   "outputs":[
    {
     "data":{
      "text\/html":[
       "<div>\n",
       "<style scoped>\n",
       "    .dataframe tbody tr th:only-of-type {\n",
       "        vertical-align: middle;\n",
       "    }\n",
       "\n",
       "    .dataframe tbody tr th {\n",
       "        vertical-align: top;\n",
       "    }\n",
       "\n",
       "    .dataframe thead th {\n",
       "        text-align: right;\n",
       "    }\n",
       "<\/style>\n",
       "<table border=\"1\" class=\"dataframe\">\n",
       "  <thead>\n",
       "    <tr style=\"text-align: right;\">\n",
       "      <th><\/th>\n",
       "      <th>JOB_ID<\/th>\n",
       "      <th>JOB_TYPE<\/th>\n",
       "      <th>JOB_NAME<\/th>\n",
       "      <th>ORG_NAME<\/th>\n",
       "      <th>ORG_UUID<\/th>\n",
       "      <th>PERMALINK<\/th>\n",
       "      <th>PERSON_NAME<\/th>\n",
       "      <th>PERSON_UUID<\/th>\n",
       "    <\/tr>\n",
       "  <\/thead>\n",
       "  <tbody>\n",
       "    <tr>\n",
       "      <th>0<\/th>\n",
       "      <td>271cd67c-29e0-4981-80b9-624ead28de1a<\/td>\n",
       "      <td>executive<\/td>\n",
       "      <td>Geoffrey Goldberg Co-Founder &amp; Chief Creative ...<\/td>\n",
       "      <td>Movers+Shakers<\/td>\n",
       "      <td>b5564a92-1a03-4e7c-924f-8eee7b7e9241<\/td>\n",
       "      <td>geoffrey-goldberg-b93b-executive-movers-shaker...<\/td>\n",
       "      <td>Geoffrey Goldberg<\/td>\n",
       "      <td>52c1da33-3fcd-4203-aad6-1ade3243b93b<\/td>\n",
       "    <\/tr>\n",
       "    <tr>\n",
       "      <th>1<\/th>\n",
       "      <td>97a9ea53-1d97-40c3-9bfc-3ed960502f41<\/td>\n",
       "      <td>employee<\/td>\n",
       "      <td>Anabel Roitz Business and product development ...<\/td>\n",
       "      <td>Youse Seguros<\/td>\n",
       "      <td>167c305a-4743-401c-8749-cd80e4e3a844<\/td>\n",
       "      <td>anabel-roitz-employee-youse-seguros--97a9ea53<\/td>\n",
       "      <td>Anabel Roitz<\/td>\n",
       "      <td>bfa09810-c845-494e-aa19-a85f759870f9<\/td>\n",
       "    <\/tr>\n",
       "    <tr>\n",
       "      <th>2<\/th>\n",
       "      <td>12d17236-98f4-4d42-8c84-09470886b3bc<\/td>\n",
       "      <td>executive<\/td>\n",
       "      <td>Luc Seraphin CEO @ Rambus<\/td>\n",
       "      <td>Rambus<\/td>\n",
       "      <td>b7fb95a3-cc31-1084-7258-b9b0869c0199<\/td>\n",
       "      <td>luc-seraphin-executive-rambus--12d17236<\/td>\n",
       "      <td>Luc Seraphin<\/td>\n",
       "      <td>da736ecc-2bb6-4252-bedc-00abcdc004ae<\/td>\n",
       "    <\/tr>\n",
       "    <tr>\n",
       "      <th>3<\/th>\n",
       "      <td>3adfd278-8a3e-429a-bcfb-7489dbc93e96<\/td>\n",
       "      <td>executive<\/td>\n",
       "      <td>Craig Zingerline Co-Founder @ Growth University<\/td>\n",
       "      <td>Growth University<\/td>\n",
       "      <td>c69717ab-4878-457c-8f9c-20b682a58226<\/td>\n",
       "      <td>craig-zingerline-executive-growth-university--...<\/td>\n",
       "      <td>Craig Zingerline<\/td>\n",
       "      <td>51abfa96-4415-8523-dfba-81fce13bf9d8<\/td>\n",
       "    <\/tr>\n",
       "    <tr>\n",
       "      <th>4<\/th>\n",
       "      <td>ac67f6fa-efff-7cc8-7e1b-c1a99e6bca61<\/td>\n",
       "      <td>executive<\/td>\n",
       "      <td>William Walczak Director @ Hiilite<\/td>\n",
       "      <td>Hiilite<\/td>\n",
       "      <td>9d0515a4-6af2-9ac9-da94-a652c4d7bb2f<\/td>\n",
       "      <td>william-walczak-executive-hiilite-creative-gro...<\/td>\n",
       "      <td>William Walczak<\/td>\n",
       "      <td>90ec2aac-0369-1b83-aae0-8bedb8f86fa4<\/td>\n",
       "    <\/tr>\n",
       "  <\/tbody>\n",
       "<\/table>\n",
       "<\/div>"
      ]
     },
     "metadata":{
      
     },
     "output_type":"display_data"
    },
    {
     "data":{
      "text\/plain":[
       "                                 JOB_ID   JOB_TYPE  \\\n",
       "0  271cd67c-29e0-4981-80b9-624ead28de1a  executive   \n",
       "1  97a9ea53-1d97-40c3-9bfc-3ed960502f41   employee   \n",
       "2  12d17236-98f4-4d42-8c84-09470886b3bc  executive   \n",
       "3  3adfd278-8a3e-429a-bcfb-7489dbc93e96  executive   \n",
       "4  ac67f6fa-efff-7cc8-7e1b-c1a99e6bca61  executive   \n",
       "\n",
       "                                            JOB_NAME           ORG_NAME  \\\n",
       "0  Geoffrey Goldberg Co-Founder & Chief Creative ...     Movers+Shakers   \n",
       "1  Anabel Roitz Business and product development ...      Youse Seguros   \n",
       "2                          Luc Seraphin CEO @ Rambus             Rambus   \n",
       "3    Craig Zingerline Co-Founder @ Growth University  Growth University   \n",
       "4                 William Walczak Director @ Hiilite            Hiilite   \n",
       "\n",
       "                               ORG_UUID  \\\n",
       "0  b5564a92-1a03-4e7c-924f-8eee7b7e9241   \n",
       "1  167c305a-4743-401c-8749-cd80e4e3a844   \n",
       "2  b7fb95a3-cc31-1084-7258-b9b0869c0199   \n",
       "3  c69717ab-4878-457c-8f9c-20b682a58226   \n",
       "4  9d0515a4-6af2-9ac9-da94-a652c4d7bb2f   \n",
       "\n",
       "                                           PERMALINK        PERSON_NAME  \\\n",
       "0  geoffrey-goldberg-b93b-executive-movers-shaker...  Geoffrey Goldberg   \n",
       "1      anabel-roitz-employee-youse-seguros--97a9ea53       Anabel Roitz   \n",
       "2            luc-seraphin-executive-rambus--12d17236       Luc Seraphin   \n",
       "3  craig-zingerline-executive-growth-university--...   Craig Zingerline   \n",
       "4  william-walczak-executive-hiilite-creative-gro...    William Walczak   \n",
       "\n",
       "                            PERSON_UUID  \n",
       "0  52c1da33-3fcd-4203-aad6-1ade3243b93b  \n",
       "1  bfa09810-c845-494e-aa19-a85f759870f9  \n",
       "2  da736ecc-2bb6-4252-bedc-00abcdc004ae  \n",
       "3  51abfa96-4415-8523-dfba-81fce13bf9d8  \n",
       "4  90ec2aac-0369-1b83-aae0-8bedb8f86fa4  "
      ]
     },
     "metadata":{
      
     },
     "output_type":"display_data"
    }
   ],
   "metadata":{
    "datalore":{
     "node_id":"namcpNuW3EXTm8Zv39S7wm",
     "type":"CODE",
     "hide_input_from_viewers":false,
     "hide_output_from_viewers":false,
     "report_properties":{
      "rowId":"7ZDq4mOWKXwAOhDasKZKgb"
     }
    }
   }
  },
  {
   "cell_type":"code",
   "source":[
    "cb_jobs_permalink_df = np.array_split(cb_jobs_df[cb_jobs_df['PERMALINK'].isna() == False][['PERMALINK']].rename(columns={'PERMALINK': 'URL'}).to_dict('records'), BATCHES)\n",
    "for chunk_df in cb_jobs_permalink_df:\n",
    "    merge_nodes(\n",
    "        graph.auto(),\n",
    "        chunk_df,\n",
    "        ((\"URLIdentifier\", \"PERMALINK\"), \"URL\"),\n",
    "    )"
   ],
   "execution_count":null,
   "outputs":[
    
   ],
   "metadata":{
    "datalore":{
     "node_id":"7gDBQHbw5KrypUX4Q893iC",
     "type":"CODE",
     "hide_input_from_viewers":false,
     "hide_output_from_viewers":false,
     "report_properties":{
      "rowId":"VqMbRx67Anq6pLGo7WZLlQ"
     }
    }
   }
  },
  {
   "cell_type":"code",
   "source":[
    "cb_jobs_jpn_df = np.array_split(cb_jobs_df[cb_jobs_df['JOB_NAME'].isna() == False][['JOB_NAME']].rename(columns={'JOB_TYPE': 'JOB_NAME'}).to_dict('records'), BATCHES)\n",
    "for chunk_df in cb_jobs_permalink_df:\n",
    "    merge_nodes(\n",
    "        graph.auto(),\n",
    "        chunk_df,\n",
    "        (\"JOB_TYPE\", \"JOB_NAME\"),\n",
    "    )"
   ],
   "execution_count":null,
   "outputs":[
    
   ],
   "metadata":{
    "datalore":{
     "node_id":"9OvLXfUttk7BLv9EADH04d",
     "type":"CODE",
     "hide_input_from_viewers":false,
     "hide_output_from_viewers":false,
     "report_properties":{
      "rowId":"ECKKP0p7JBpSGfk9yyehY7"
     }
    }
   }
  },
  {
   "cell_type":"code",
   "source":[
    
   ],
   "execution_count":null,
   "outputs":[
    {
     "ename":"ValueError",
     "evalue":"ValueError: The truth value of a DataFrame is ambiguous. Use a.empty, a.bool(), a.item(), a.any() or a.all().",
     "traceback":[
      "\u001b[0;31m---------------------------------------------------------------------------",
      "Traceback (most recent call last)",
      "ValueError: The truth value of a DataFrame is ambiguous. Use a.empty, a.bool(), a.item(), a.any() or a.all()."
     ],
     "output_type":"error"
    }
   ],
   "metadata":{
    "datalore":{
     "node_id":"OVoX1HfozZpfd94gq0x2pM",
     "type":"CODE",
     "hide_input_from_viewers":false,
     "hide_output_from_viewers":false,
     "report_properties":{
      "rowId":"htsh9C3RS2dfkDXg90SoUI"
     }
    }
   }
  },
  {
   "cell_type":"code",
   "source":[
    "cb_jobs_org_df = np.array_split(cb_jobs_df[cb_jobs_df[['JOB_TYPE', 'JOB_NAME']].isna() == False][['JOB_TYPE', 'JOB_NAME']].rename(columns={'JOB_TYPE': 'JOB_NAME'}).to_dict('records'), BATCHES)\n",
    "for chunk_df in cb_jobs_permalink_df:\n",
    "    merge_nodes(\n",
    "        graph.auto(),\n",
    "        chunk_df,\n",
    "        (\"JOB_TYPE\", \"JOB_NAME\"),\n",
    "    )"
   ],
   "execution_count":null,
   "outputs":[
    
   ],
   "metadata":{
    "datalore":{
     "node_id":"gXmIUSpB9hCybHWpZiLIqB",
     "type":"CODE",
     "hide_input_from_viewers":false,
     "hide_output_from_viewers":false,
     "report_properties":{
      "rowId":"1BpaN94A838foCnJWUiqzB"
     }
    }
   }
  },
  {
   "cell_type":"code",
   "source":[
    "\n",
    "        cb_identifier_relationships = cb_jobs_df.loc[cb_jobs_df[identifier] != np.nan][['PERSON_ID', identifier]]\n",
    "        cb_identifier_relationships.insert(1, 'WEIGHT', [[0.5]] * len(cb_jobs_df))\n",
    "        df_list = np.array_split(cb_identifier_relationships, BATCHES)\n",
    "        for chunk_df in df_list:\n",
    "            merge_relationships(\n",
    "                graph.auto(),\n",
    "                chunk_df.values.tolist(),\n",
    "                merge_key=\"LINKED_TO\",\n",
    "                start_node_key=(\"PERSON\", \"PERSON\"),\n",
    "                end_node_key=(\"\", \"JOB_ID\"),\n",
    "                keys=[\"WEIGHT\"]\n",
    "            ),\n",
    "            merge_relationships(\n",
    "                graph.auto(),\n",
    "                chunk_df.values.tolist(),\n",
    "                merge_key=\"LINKED_TO\",\n",
    "                start_node_key=(\"PERSON\", \"PERSON_ID\"),\n",
    "                end_node_key=(\"COMPANY\", \"COMPANY_ID\"),\n",
    "                keys=[\"WEIGHT\"]\n",
    "            ),\n",
    "            merge_relationships(\n",
    "                graph.auto(),\n",
    "                chunk_df.values.tolist(),\n",
    "                merge_key=\"LINKED_TO\",\n",
    "                start_node_key=(\"PERSON\", \"PERSON_ID\"),\n",
    "                end_node_key=(\"COMPANY\", \"COMPANY_ID\"),\n",
    "                keys=[\"WEIGHT\"]\n",
    "            )"
   ],
   "execution_count":null,
   "outputs":[
    
   ],
   "metadata":{
    "datalore":{
     "node_id":"OX2927ryhc3AOWVPzorYVY",
     "type":"CODE",
     "hide_input_from_viewers":false,
     "hide_output_from_viewers":false,
     "report_properties":{
      "rowId":"HZahZIPNCojtwPfXKWggf1"
     }
    }
   }
  },
  {
   "cell_type":"code",
   "source":[
    
   ],
   "execution_count":null,
   "outputs":[
    
   ],
   "metadata":{
    "datalore":{
     "node_id":"7lG0oGxKUv7R3RbaE1cpNJ",
     "type":"CODE",
     "hide_input_from_viewers":false,
     "hide_output_from_viewers":false,
     "report_properties":{
      "rowId":"rUuoNM2H60XCYyg5VhccRZ"
     }
    }
   }
  },
  {
   "cell_type":"code",
   "source":[
    
   ],
   "execution_count":null,
   "outputs":[
    
   ],
   "metadata":{
    "datalore":{
     "node_id":"iXc6lJ8hgHFXc1ekmMI0Uu",
     "type":"CODE",
     "hide_input_from_viewers":false,
     "hide_output_from_viewers":false,
     "report_properties":{
      "rowId":"rUuoNM2H60XCYyg5VhccRZ"
     }
    }
   }
  },
  {
   "cell_type":"code",
   "source":[
    "cb_jobs_df = np.array_split(crunchbase_organizations_df[cb_jobs_df['JOB_ID'].isna() == False][['JOB_ID']].rename(columns={'JOB': 'URL'}).to_dict('records'), BATCHES)\n",
    "for chunk_df in crunchbase_organizations_df_website:\n",
    "    merge_nodes(\n",
    "        graph.auto(),\n",
    "        chunk_df,\n",
    "        ((\"URLIdentifier\", \"DomainURL\"), \"URL\"),\n",
    "    )\n",
    "\n",
    "crunchbase_organizations_df_linkedin = np.array_split(crunchbase_organizations_df[crunchbase_organizations_df['LINKEDIN'].isna() == False][['LINKEDIN']].rename(columns={'LINKEDIN': 'URL'}).to_dict('records'), BATCHES)\n",
    "for chunk_df in crunchbase_organizations_df_linkedin:\n",
    "    merge_nodes(\n",
    "        graph.auto(),\n",
    "        chunk_df,\n",
    "        ((\"URLIdentifier\", \"LinkedInURL\"), \"URL\"),\n",
    "    )\n",
    "    \n",
    "crunchbase_organizations_df_twitter = np.array_split(crunchbase_organizations_df[crunchbase_organizations_df['TWITTER'].isna() == False][['TWITTER']].rename(columns={'TWITTER': 'URL'}).to_dict('records'), BATCHES)\n",
    "for chunk_df in crunchbase_organizations_df_twitter:\n",
    "    merge_nodes(\n",
    "        graph.auto(),\n",
    "        chunk_df,\n",
    "        ((\"URLIdentifier\", \"TwitterURL\"), \"URL\"),\n",
    "    )\n",
    "\n",
    "crunchbase_organizations_df_facebook =  np.array_split(crunchbase_organizations_df[crunchbase_organizations_df['FACEBOOK'].isna() == False][['FACEBOOK']].rename(columns={'FACEBOOK': 'URL'}).to_dict('records'), BATCHES)\n",
    "for chunk_df in crunchbase_organizations_df_facebook:\n",
    "    merge_nodes(\n",
    "        graph.auto(),\n",
    "        chunk_df,\n",
    "        ((\"URLIdentifier\", \"FacebookURL\"), \"URL\"),\n",
    "    )\n",
    "\n",
    "crunchbase_organizations_df_crunchbase =  np.array_split(crunchbase_organizations_df[crunchbase_organizations_df['CRUNCHBASE'].isna() == False][['CRUNCHBASE']].rename(columns={'CRUNCHBASE': 'URL'}).to_dict('records'), BATCHES)\n",
    "for chunk_df in crunchbase_organizations_df_crunchbase:\n",
    "    merge_nodes(\n",
    "        graph.auto(),\n",
    "        chunk_df,\n",
    "        ((\"URLIdentifier\", \"CrunchbaseURL\"), \"URL\"),\n",
    "    )"
   ],
   "execution_count":null,
   "outputs":[
    
   ],
   "metadata":{
    "datalore":{
     "node_id":"UQkiA1lgzuB52qaCeF0hCB",
     "type":"CODE",
     "hide_input_from_viewers":false,
     "hide_output_from_viewers":false,
     "report_properties":{
      "rowId":"Zq5jdaZEgGgKRAqiQdlf3S"
     }
    }
   }
  },
  {
   "cell_type":"code",
   "source":[
    
   ],
   "execution_count":null,
   "outputs":[
    
   ],
   "metadata":{
    "datalore":{
     "node_id":"xRVu477Cjqx1k8K9vYIFCn",
     "type":"CODE",
     "hide_input_from_viewers":false,
     "hide_output_from_viewers":false,
     "report_properties":{
      "rowId":"rUuoNM2H60XCYyg5VhccRZ"
     }
    }
   }
  },
  {
   "cell_type":"code",
   "source":[
    "# crunchbase_organizations_df = cursor.execute('SELECT CRUNCHBASE_ORGANIZATION_UUID, ORGANIZATION_CITY, FACEBOOK_URL, DOMAIN, TWITTER_URL, FUNDING_ROUND_TYPE, FOUNDED_ON, EMPLOYEE_COUNT, CRUNCHBASE_GROUPS, ORGANIZATION_STATE_CODE, ORGANIZATION_NAME, LINKEDIN_URL, ORGANIZATION_COUNTRY_CODE, CRUNCHBASE_URL FROM L2_NEW.CRUNCHBASE_ORGANIZATIONS WHERE DOMAIN IS NOT NULL OR TWITTER_URL IS NOT NULL OR FACEBOOK_URL IS NOT NULL OR LINKEDIN_URL IS NOT NULL OR CRUNCHBASE_URL IS NOT NULL').fetch_pandas_all()\n",
    "\n",
    "\n",
    "crunchbase_organizations_df.replace({None: ''}, inplace=True)\n",
    "\n",
    "crunchbase_organizations_df['LINKEDIN'] = crunchbase_organizations_df['LINKEDIN'].apply(lambda x: (str(urlparse(x.replace('[', '').replace(']', '')).netloc or '') + str(urlparse(x.replace('[', '').replace(']', '')).path or '')).lstrip('www.'))\n",
    "crunchbase_organizations_df['TWITTER'] = crunchbase_organizations_df['TWITTER'].apply(lambda x: (str(urlparse(x).netloc or '') + str(urlparse(x).path or '')).lstrip('www.'))\n",
    "crunchbase_organizations_df['FACEBOOK'] = crunchbase_organizations_df['FACEBOOK'].apply(lambda x: (str(urlparse(x).netloc or '') + str(urlparse(x).path or '')).lstrip('www.'))\n",
    "crunchbase_organizations_df['CRUNCHBASE'] = crunchbase_organizations_df['CRUNCHBASE'].apply(lambda x: (str(urlparse(x).netloc or '') + str(urlparse(x).path or '')).lstrip('www.'))\n",
    "\n",
    "crunchbase_organizations_df.replace(r'^\\s*$', np.nan, regex=True, inplace=True)\n",
    "display(crunchbase_organizations_df.head())"
   ],
   "execution_count":null,
   "outputs":[
    
   ],
   "metadata":{
    "datalore":{
     "node_id":"bldXDC5Gq8FpNEw4YFrMlM",
     "type":"CODE",
     "hide_input_from_viewers":false,
     "hide_output_from_viewers":false,
     "report_properties":{
      "rowId":"OQPqYVOaih5WyJ5h0XhP2Y"
     }
    }
   }
  },
  {
   "cell_type":"code",
   "source":[
    "crunchbase_organizations_df_website = np.array_split(crunchbase_organizations_df[crunchbase_organizations_df['DOMAIN'].isna() == False][['DOMAIN']].rename(columns={'DOMAIN': 'URL'}).to_dict('records'), BATCHES)\n",
    "for chunk_df in crunchbase_organizations_df_website:\n",
    "    merge_nodes(\n",
    "        graph.auto(),\n",
    "        chunk_df,\n",
    "        ((\"URLIdentifier\", \"DomainURL\"), \"URL\"),\n",
    "    )\n",
    "\n",
    "crunchbase_organizations_df_linkedin = np.array_split(crunchbase_organizations_df[crunchbase_organizations_df['LINKEDIN'].isna() == False][['LINKEDIN']].rename(columns={'LINKEDIN': 'URL'}).to_dict('records'), BATCHES)\n",
    "for chunk_df in crunchbase_organizations_df_linkedin:\n",
    "    merge_nodes(\n",
    "        graph.auto(),\n",
    "        chunk_df,\n",
    "        ((\"URLIdentifier\", \"LinkedInURL\"), \"URL\"),\n",
    "    )\n",
    "    \n",
    "crunchbase_organizations_df_twitter = np.array_split(crunchbase_organizations_df[crunchbase_organizations_df['TWITTER'].isna() == False][['TWITTER']].rename(columns={'TWITTER': 'URL'}).to_dict('records'), BATCHES)\n",
    "for chunk_df in crunchbase_organizations_df_twitter:\n",
    "    merge_nodes(\n",
    "        graph.auto(),\n",
    "        chunk_df,\n",
    "        ((\"URLIdentifier\", \"TwitterURL\"), \"URL\"),\n",
    "    )\n",
    "\n",
    "crunchbase_organizations_df_facebook =  np.array_split(crunchbase_organizations_df[crunchbase_organizations_df['FACEBOOK'].isna() == False][['FACEBOOK']].rename(columns={'FACEBOOK': 'URL'}).to_dict('records'), BATCHES)\n",
    "for chunk_df in crunchbase_organizations_df_facebook:\n",
    "    merge_nodes(\n",
    "        graph.auto(),\n",
    "        chunk_df,\n",
    "        ((\"URLIdentifier\", \"FacebookURL\"), \"URL\"),\n",
    "    )\n",
    "\n",
    "crunchbase_organizations_df_crunchbase =  np.array_split(crunchbase_organizations_df[crunchbase_organizations_df['CRUNCHBASE'].isna() == False][['CRUNCHBASE']].rename(columns={'CRUNCHBASE': 'URL'}).to_dict('records'), BATCHES)\n",
    "for chunk_df in crunchbase_organizations_df_crunchbase:\n",
    "    merge_nodes(\n",
    "        graph.auto(),\n",
    "        chunk_df,\n",
    "        ((\"URLIdentifier\", \"CrunchbaseURL\"), \"URL\"),\n",
    "    )"
   ],
   "execution_count":null,
   "outputs":[
    
   ],
   "metadata":{
    "datalore":{
     "node_id":"pjsEE5systatsdm9tRLFLn",
     "type":"CODE",
     "hide_input_from_viewers":false,
     "hide_output_from_viewers":false,
     "report_properties":{
      "rowId":"F3udzYbXNj3FTTGVrksK4M"
     }
    }
   }
  },
  {
   "cell_type":"code",
   "source":[
    "crunchbase_organizations = np.array_split([{k:v for k, v in x.items() if v == v} for x in crunchbase_organizations_df.to_dict('records')], BATCHES)\n",
    "for chunk_df in crunchbase_organizations:\n",
    "    merge_nodes(\n",
    "        graph.auto(),\n",
    "        chunk_df,\n",
    "        ((\"Company\", \"CrunchbaseCompany\"), \"SOURCE_ID\"),\n",
    "    )"
   ],
   "execution_count":null,
   "outputs":[
    
   ],
   "metadata":{
    "datalore":{
     "node_id":"D9UtjHzS2CxehntkN5wE8K",
     "type":"CODE",
     "hide_input_from_viewers":false,
     "hide_output_from_viewers":false,
     "report_properties":{
      "rowId":"FjbQQ3sH93lfPW9PHzzeae"
     }
    }
   }
  },
  {
   "cell_type":"code",
   "source":[
    "for identifier in ['DOMAIN', 'LINKEDIN', 'TWITTER', 'FACEBOOK', 'CRUNCHBASE']:\n",
    "    crunchbase_identifier_relationships = crunchbase_organizations_df.loc[crunchbase_organizations_df[identifier] != np.nan][['SOURCE_ID', identifier]]\n",
    "    crunchbase_identifier_relationships.insert(1, 'WEIGHT', [[0.5]] * len(crunchbase_identifier_relationships))\n",
    "\n",
    "    df_list = np.array_split(crunchbase_identifier_relationships, BATCHES)\n",
    "    for chunk_df in df_list:\n",
    "        merge_relationships(\n",
    "            graph.auto(),\n",
    "            chunk_df.values.tolist(),\n",
    "            merge_key=\"LINKED_TO\",\n",
    "            start_node_key=(\"Company\", \"SOURCE_ID\"),\n",
    "            end_node_key=(\"URLIdentifier\", \"URL\"),\n",
    "            keys=[\"WEIGHT\"],\n",
    "        )"
   ],
   "execution_count":null,
   "outputs":[
    
   ],
   "metadata":{
    "datalore":{
     "node_id":"tHKSzrr0zthg9WNQ1Ozeuk",
     "type":"CODE",
     "hide_input_from_viewers":false,
     "hide_output_from_viewers":false,
     "report_properties":{
      "rowId":"TP4R0bkgsgEMSRab7wSJk5"
     }
    }
   }
  },
  {
   "cell_type":"markdown",
   "source":[
    "### CrunchBase Degress\n",
    "create or replace view AMD_CATALYST_DB.L2.GRAPH_CRUNCHBASE_DEGREES(\n",
    "\t\"CB URL\",\n",
    "\t\"COMPLETED ON\",\n",
    "\t\"CREATED AT\",\n",
    "\t\"CRUX INGESTION DT\",\n",
    "\t\"CRUX SUPPLIER IMPLIED DT\",\n",
    "\t\"DEGREE TYPE\",\n",
    "\t\"ENTITY DEF ID\",\n",
    "\t\"INSTITUTION NAME\",\n",
    "\t\"INSTITUTION UUID\",\n",
    "\t\"IS COMPLETED\",\n",
    "\tNAME,\n",
    "\tPERMALINK,\n",
    "\t\"PERSON NAME\",\n",
    "\t\"PERSON UUID\",\n",
    "\tRANK,\n",
    "\t\"STARTED ON\",\n",
    "\tSUBJECT,\n",
    "\tTYPE,\n",
    "\t\"UPDATED AT\",\n",
    "\tUUID,\n",
    "\tCATALYST_LAST_UPDATED\n",
    ") as\n",
    "SELECT * FROM L1.CRUNCHBASE_DEGREES\n",
    "QUALIFY\n",
    "    ROW_NUMBER() OVER (PARTITION BY L1.CRUNCHBASE_DEGREES.UUID ORDER BY L1.CRUNCHBASE_DEGREES.\"CRUX INGESTION DT\" DESC)=1;"
   ],
   "attachments":{
    
   },
   "metadata":{
    "datalore":{
     "node_id":"Xc9arBrun0orDxPJlFEycP",
     "type":"MD",
     "hide_input_from_viewers":false,
     "hide_output_from_viewers":false,
     "report_properties":{
      "rowId":"rIgkZCRVHgKb3AyHBQKVA6"
     }
    }
   }
  },
  {
   "cell_type":"markdown",
   "source":[
    "### CrunchBase Events\n",
    "create or replace view AMD_CATALYST_DB.L2.GRAPH_CRUNCHBASE_EVENTS(\n",
    "\t\"APPEARANCE TYPE\",\n",
    "\t\"CB URL\",\n",
    "\t\"CREATED AT\",\n",
    "\t\"CRUX INGESTION DT\",\n",
    "\t\"CRUX SUPPLIER IMPLIED DT\",\n",
    "\t\"ENTITY DEF ID\",\n",
    "\t\"EVENT NAME\",\n",
    "\t\"EVENT UUID\",\n",
    "\tNAME,\n",
    "\t\"PARTICIPANT NAME\",\n",
    "\t\"PARTICIPANT TYPE\",\n",
    "\t\"PARTICIPANT UUID\",\n",
    "\tPERMALINK,\n",
    "\tRANK,\n",
    "\t\"SHORT DESCRIPTION\",\n",
    "\tTYPE,\n",
    "\t\"UPDATED AT\",\n",
    "\tUUID,\n",
    "\t\"CATALYST LAST UPDATED\"\n",
    ") as\n",
    "  SELECT * FROM L1.CRUNCHBASE_EVENT_APPEARANCES\n",
    "  QUALIFY\n",
    "      ROW_NUMBER() OVER (PARTITION BY L1.CRUNCHBASE_EVENT_APPEARANCES.UUID ORDER BY L1.CRUNCHBASE_EVENT_APPEARANCES.\"CRUX INGESTION DT\" DESC)=1;"
   ],
   "attachments":{
    
   },
   "metadata":{
    "datalore":{
     "node_id":"i4QAL9orzncXqVtqMsamy2",
     "type":"MD",
     "hide_input_from_viewers":false,
     "hide_output_from_viewers":false,
     "report_properties":{
      "rowId":"t7n1ehhTAq9w38Ksxgjy5F"
     }
    }
   }
  }
 ],
 "metadata":{
  "kernelspec":{
   "display_name":"Python",
   "language":"python",
   "name":"python"
  },
  "datalore":{
   "computation_mode":"JUPYTER",
   "package_manager":"pip",
   "base_environment":"default",
   "packages":[
    
   ],
   "report_row_ids":[
    "wLlTwYiJgF17z57BUTpqDZ",
    "MZ92TkILbJvf5IEGIvngyf",
    "iYtoQffu4byePfuluRejOz",
    "dj2LOIG3Dp9uVMVxLpsUd9",
    "YdGfcDGld9JMjoVkGiGGbC",
    "7guWSnMXN5nJ1FLyo8NHGH",
    "fFzXhP7w429HVNmL8NJKBn",
    "SBd4UUHxOyE12qAFxvpQ2I",
    "YM8hHbJ9e9aJsyHT1SkPqJ",
    "9KEyghWP33PG0Flx6HQ9d2",
    "1XGBjzihhR9He5FFP9wfnr",
    "bMs2Hx4Jgqrlazbf62aLfO",
    "QyQM7yFN4wqvb330Hza9lh",
    "YcXssFinqSsotHsZuPLNX9",
    "d2DTifpdmyaKpxv4XKdLxG",
    "Ztmt9Y09PFVIpW2UWtP6Sp",
    "H4smFYT8jQJdH9MUs150Wa",
    "1oJeTlLK3ULIbdWbPHDdoo",
    "1huEUxHyCDUF0jgNOZFtVe",
    "svZgUfEVxu4VEtC1biCtNh",
    "CcQbpfhQU2HmxCKFyaGFqa",
    "6kJnGGB6DDxDRZII51OHu9",
    "FiLnSZQu4bgvMWCRyoBETU",
    "2sbWcAqrcAYNHxtrHX5erj",
    "jzuhHBch0Oo9AMj7MuX9t5",
    "7ZDq4mOWKXwAOhDasKZKgb",
    "VqMbRx67Anq6pLGo7WZLlQ",
    "ECKKP0p7JBpSGfk9yyehY7",
    "htsh9C3RS2dfkDXg90SoUI",
    "1BpaN94A838foCnJWUiqzB",
    "HZahZIPNCojtwPfXKWggf1",
    "Zq5jdaZEgGgKRAqiQdlf3S",
    "OQPqYVOaih5WyJ5h0XhP2Y",
    "F3udzYbXNj3FTTGVrksK4M",
    "FjbQQ3sH93lfPW9PHzzeae",
    "TP4R0bkgsgEMSRab7wSJk5",
    "rIgkZCRVHgKb3AyHBQKVA6",
    "t7n1ehhTAq9w38Ksxgjy5F"
   ],
   "version":3
  }
 },
 "nbformat":4,
 "nbformat_minor":4
}