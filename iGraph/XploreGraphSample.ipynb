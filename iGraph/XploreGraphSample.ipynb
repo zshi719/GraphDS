{
 "cells":[
  {
   "cell_type":"code",
   "source":[
    "!pip install snowflake-connector-python\n",
    "!pip install tldextract\n",
    "!pip install py2neo"
   ],
   "execution_count":1,
   "outputs":[
    {
     "name":"stdout",
     "text":[
      "Collecting snowflake-connector-python\r\n",
      "  Downloading snowflake_connector_python-3.0.4-cp38-cp38-manylinux_2_17_x86_64.manylinux2014_x86_64.whl (24.6 MB)\r\n",
      "\u001b[?25l     \u001b[90m━━━━━━━━━━━━━━━━━━━━━━━━━━━━━━━━━━━━━━━━\u001b[0m \u001b[32m0.0\/24.6 MB\u001b[0m \u001b[31m?\u001b[0m eta \u001b[36m-:--:--\u001b[0m\r\u001b[2K     \u001b[91m━\u001b[0m\u001b[91m╸\u001b[0m\u001b[90m━━━━━━━━━━━━━━━━━━━━━━━━━━━━━━━━━━━━━━\u001b[0m \u001b[32m1.0\/24.6 MB\u001b[0m \u001b[31m31.2 MB\/s\u001b[0m eta \u001b[36m0:00:01\u001b[0m\r\u001b[2K     \u001b[91m━━━\u001b[0m\u001b[90m╺\u001b[0m\u001b[90m━━━━━━━━━━━━━━━━━━━━━━━━━━━━━━━━━━━━\u001b[0m \u001b[32m2.0\/24.6 MB\u001b[0m \u001b[31m29.3 MB\/s\u001b[0m eta \u001b[36m0:00:01\u001b[0m\r\u001b[2K     \u001b[91m━━━━\u001b[0m\u001b[91m╸\u001b[0m\u001b[90m━━━━━━━━━━━━━━━━━━━━━━━━━━━━━━━━━━━\u001b[0m \u001b[32m2.9\/24.6 MB\u001b[0m \u001b[31m26.8 MB\/s\u001b[0m eta \u001b[36m0:00:01\u001b[0m\r\u001b[2K     \u001b[91m━━━━━━\u001b[0m\u001b[91m╸\u001b[0m\u001b[90m━━━━━━━━━━━━━━━━━━━━━━━━━━━━━━━━━\u001b[0m \u001b[32m4.1\/24.6 MB\u001b[0m \u001b[31m27.9 MB\/s\u001b[0m eta \u001b[36m0:00:01\u001b[0m\r\u001b[2K     \u001b[91m━━━━━━━━\u001b[0m\u001b[91m╸\u001b[0m\u001b[90m━━━━━━━━━━━━━━━━━━━━━━━━━━━━━━━\u001b[0m \u001b[32m5.4\/24.6 MB\u001b[0m \u001b[31m28.5 MB\/s\u001b[0m eta \u001b[36m0:00:01\u001b[0m\r\u001b[2K     \u001b[91m━━━━━━━━━━\u001b[0m\u001b[90m╺\u001b[0m\u001b[90m━━━━━━━━━━━━━━━━━━━━━━━━━━━━━\u001b[0m \u001b[32m6.2\/24.6 MB\u001b[0m \u001b[31m28.3 MB\/s\u001b[0m eta \u001b[36m0:00:01\u001b[0m\r\u001b[2K     \u001b[91m━━━━━━━━━━━━\u001b[0m\u001b[90m╺\u001b[0m\u001b[90m━━━━━━━━━━━━━━━━━━━━━━━━━━━\u001b[0m \u001b[32m7.4\/24.6 MB\u001b[0m \u001b[31m28.4 MB\/s\u001b[0m eta \u001b[36m0:00:01\u001b[0m\r\u001b[2K     \u001b[91m━━━━━━━━━━━━━━\u001b[0m\u001b[91m╸\u001b[0m\u001b[90m━━━━━━━━━━━━━━━━━━━━━━━━━\u001b[0m \u001b[32m9.1\/24.6 MB\u001b[0m \u001b[31m30.6 MB\/s\u001b[0m eta \u001b[36m0:00:01\u001b[0m\r\u001b[2K     \u001b[91m━━━━━━━━━━━━━━━━━━\u001b[0m\u001b[90m╺\u001b[0m\u001b[90m━━━━━━━━━━━━━━━━━━━━━\u001b[0m \u001b[32m11.1\/24.6 MB\u001b[0m \u001b[31m33.7 MB\/s\u001b[0m eta \u001b[36m0:00:01\u001b[0m\r\u001b[2K     \u001b[91m━━━━━━━━━━━━━━━━━━━━\u001b[0m\u001b[90m╺\u001b[0m\u001b[90m━━━━━━━━━━━━━━━━━━━\u001b[0m \u001b[32m12.4\/24.6 MB\u001b[0m \u001b[31m35.3 MB\/s\u001b[0m eta \u001b[36m0:00:01\u001b[0m\r\u001b[2K     \u001b[91m━━━━━━━━━━━━━━━━━━━━━━━\u001b[0m\u001b[91m╸\u001b[0m\u001b[90m━━━━━━━━━━━━━━━━\u001b[0m \u001b[32m14.5\/24.6 MB\u001b[0m \u001b[31m41.2 MB\/s\u001b[0m eta \u001b[36m0:00:01\u001b[0m\r\u001b[2K     \u001b[91m━━━━━━━━━━━━━━━━━━━━━━━━━━\u001b[0m\u001b[90m╺\u001b[0m\u001b[90m━━━━━━━━━━━━━\u001b[0m \u001b[32m16.3\/24.6 MB\u001b[0m \u001b[31m43.3 MB\/s\u001b[0m eta \u001b[36m0:00:01\u001b[0m\r\u001b[2K     \u001b[91m━━━━━━━━━━━━━━━━━━━━━━━━━━━━━\u001b[0m\u001b[91m╸\u001b[0m\u001b[90m━━━━━━━━━━\u001b[0m \u001b[32m18.4\/24.6 MB\u001b[0m \u001b[31m51.5 MB\/s\u001b[0m eta \u001b[36m0:00:01\u001b[0m\r\u001b[2K     \u001b[91m━━━━━━━━━━━━━━━━━━━━━━━━━━━━━━━━━\u001b[0m\u001b[90m╺\u001b[0m\u001b[90m━━━━━━\u001b[0m \u001b[32m20.5\/24.6 MB\u001b[0m \u001b[31m50.2 MB\/s\u001b[0m eta \u001b[36m0:00:01\u001b[0m\r\u001b[2K     \u001b[91m━━━━━━━━━━━━━━━━━━━━━━━━━━━━━━━━━━━━━\u001b[0m\u001b[90m╺\u001b[0m\u001b[90m━━\u001b[0m \u001b[32m22.9\/24.6 MB\u001b[0m \u001b[31m58.0 MB\/s\u001b[0m eta \u001b[36m0:00:01\u001b[0m\r\u001b[2K     \u001b[91m━━━━━━━━━━━━━━━━━━━━━━━━━━━━━━━━━━━━━━━\u001b[0m\u001b[91m╸\u001b[0m \u001b[32m24.6\/24.6 MB\u001b[0m \u001b[31m57.7 MB\/s\u001b[0m eta \u001b[36m0:00:01\u001b[0m\r\u001b[2K     \u001b[91m━━━━━━━━━━━━━━━━━━━━━━━━━━━━━━━━━━━━━━━\u001b[0m\u001b[91m╸\u001b[0m \u001b[32m24.6\/24.6 MB\u001b[0m \u001b[31m57.7 MB\/s\u001b[0m eta \u001b[36m0:00:01\u001b[0m\r\u001b[2K     \u001b[91m━━━━━━━━━━━━━━━━━━━━━━━━━━━━━━━━━━━━━━━\u001b[0m\u001b[91m╸\u001b[0m \u001b[32m24.6\/24.6 MB\u001b[0m \u001b[31m57.7 MB\/s\u001b[0m eta \u001b[36m0:00:01\u001b[0m\r\u001b[2K     \u001b[91m━━━━━━━━━━━━━━━━━━━━━━━━━━━━━━━━━━━━━━━\u001b[0m\u001b[91m╸\u001b[0m \u001b[32m24.6\/24.6 MB\u001b[0m \u001b[31m57.7 MB\/s\u001b[0m eta \u001b[36m0:00:01\u001b[0m\r\u001b[2K     \u001b[90m━━━━━━━━━━━━━━━━━━━━━━━━━━━━━━━━━━━━━━━━\u001b[0m \u001b[32m24.6\/24.6 MB\u001b[0m \u001b[31m30.0 MB\/s\u001b[0m eta \u001b[36m0:00:00\u001b[0m\r\n",
      "\u001b[?25hCollecting asn1crypto<2.0.0,>0.24.0 (from snowflake-connector-python)\r\n",
      "  Downloading asn1crypto-1.5.1-py2.py3-none-any.whl (105 kB)\r\n",
      "\u001b[?25l     \u001b[90m━━━━━━━━━━━━━━━━━━━━━━━━━━━━━━━━━━━━━━━━\u001b[0m \u001b[32m0.0\/105.0 kB\u001b[0m \u001b[31m?\u001b[0m eta \u001b[36m-:--:--\u001b[0m\r\u001b[2K     \u001b[90m━━━━━━━━━━━━━━━━━━━━━━━━━━━━━━━━━━━━━━\u001b[0m \u001b[32m105.0\/105.0 kB\u001b[0m \u001b[31m12.0 MB\/s\u001b[0m eta \u001b[36m0:00:00\u001b[0m\r\n",
      "\u001b[?25hRequirement already satisfied: cffi<2.0.0,>=1.9 in \/opt\/python\/envs\/default\/lib\/python3.8\/site-packages (from snowflake-connector-python) (1.15.1)\r\n",
      "Collecting cryptography<41.0.0,>=3.1.0 (from snowflake-connector-python)\r\n",
      "  Downloading cryptography-40.0.2-cp36-abi3-manylinux_2_28_x86_64.whl (3.7 MB)\r\n",
      "\u001b[?25l     \u001b[90m━━━━━━━━━━━━━━━━━━━━━━━━━━━━━━━━━━━━━━━━\u001b[0m \u001b[32m0.0\/3.7 MB\u001b[0m \u001b[31m?\u001b[0m eta \u001b[36m-:--:--\u001b[0m\r\u001b[2K     \u001b[91m━━━━━━━━━━━━━━━━━━━━━━━━━━━━━━━━━━━━━━━\u001b[0m\u001b[91m╸\u001b[0m \u001b[32m3.7\/3.7 MB\u001b[0m \u001b[31m86.9 MB\/s\u001b[0m eta \u001b[36m0:00:01\u001b[0m\r\u001b[2K     \u001b[90m━━━━━━━━━━━━━━━━━━━━━━━━━━━━━━━━━━━━━━━━\u001b[0m \u001b[32m3.7\/3.7 MB\u001b[0m \u001b[31m47.2 MB\/s\u001b[0m eta \u001b[36m0:00:00\u001b[0m\r\n",
      "\u001b[?25hCollecting oscrypto<2.0.0 (from snowflake-connector-python)\r\n",
      "  Downloading oscrypto-1.3.0-py2.py3-none-any.whl (194 kB)\r\n",
      "\u001b[?25l     \u001b[90m━━━━━━━━━━━━━━━━━━━━━━━━━━━━━━━━━━━━━━━━\u001b[0m \u001b[32m0.0\/194.6 kB\u001b[0m \u001b[31m?\u001b[0m eta \u001b[36m-:--:--\u001b[0m\r\u001b[2K     \u001b[90m━━━━━━━━━━━━━━━━━━━━━━━━━━━━━━━━━━━━━━\u001b[0m \u001b[32m194.6\/194.6 kB\u001b[0m \u001b[31m17.9 MB\/s\u001b[0m eta \u001b[36m0:00:00\u001b[0m\r\n",
      "\u001b[?25hCollecting pyOpenSSL<24.0.0,>=16.2.0 (from snowflake-connector-python)\r\n",
      "  Downloading pyOpenSSL-23.2.0-py3-none-any.whl (59 kB)\r\n",
      "\u001b[?25l     \u001b[90m━━━━━━━━━━━━━━━━━━━━━━━━━━━━━━━━━━━━━━━━\u001b[0m \u001b[32m0.0\/59.0 kB\u001b[0m \u001b[31m?\u001b[0m eta \u001b[36m-:--:--\u001b[0m\r\u001b[2K     \u001b[90m━━━━━━━━━━━━━━━━━━━━━━━━━━━━━━━━━━━━━━━━\u001b[0m \u001b[32m59.0\/59.0 kB\u001b[0m \u001b[31m8.0 MB\/s\u001b[0m eta \u001b[36m0:00:00\u001b[0m\r\n",
      "\u001b[?25hCollecting pycryptodomex!=3.5.0,<4.0.0,>=3.2 (from snowflake-connector-python)\r\n",
      "  Downloading pycryptodomex-3.18.0-cp35-abi3-manylinux_2_17_x86_64.manylinux2014_x86_64.whl (2.1 MB)\r\n",
      "\u001b[?25l     \u001b[90m━━━━━━━━━━━━━━━━━━━━━━━━━━━━━━━━━━━━━━━━\u001b[0m \u001b[32m0.0\/2.1 MB\u001b[0m \u001b[31m?\u001b[0m eta \u001b[36m-:--:--\u001b[0m\r\u001b[2K     \u001b[91m━━━━━━━━━━━━━━━━━━━━━━━━━━━━━━━━━━━━━━━\u001b[0m\u001b[91m╸\u001b[0m \u001b[32m2.1\/2.1 MB\u001b[0m \u001b[31m73.1 MB\/s\u001b[0m eta \u001b[36m0:00:01\u001b[0m\r\u001b[2K     \u001b[90m━━━━━━━━━━━━━━━━━━━━━━━━━━━━━━━━━━━━━━━━\u001b[0m \u001b[32m2.1\/2.1 MB\u001b[0m \u001b[31m44.9 MB\/s\u001b[0m eta \u001b[36m0:00:00\u001b[0m\r\n",
      "\u001b[?25hCollecting pyjwt<3.0.0 (from snowflake-connector-python)\r\n",
      "  Downloading PyJWT-2.7.0-py3-none-any.whl (22 kB)\r\n",
      "Requirement already satisfied: pytz in \/opt\/python\/envs\/default\/lib\/python3.8\/site-packages (from snowflake-connector-python) (2023.3)\r\n",
      "Requirement already satisfied: requests<3.0.0 in \/opt\/python\/envs\/default\/lib\/python3.8\/site-packages (from snowflake-connector-python) (2.30.0)\r\n",
      "Requirement already satisfied: packaging in \/opt\/python\/envs\/default\/lib\/python3.8\/site-packages (from snowflake-connector-python) (23.1)\r\n",
      "Requirement already satisfied: charset-normalizer<4,>=2 in \/opt\/python\/envs\/default\/lib\/python3.8\/site-packages (from snowflake-connector-python) (3.1.0)\r\n",
      "Requirement already satisfied: idna<4,>=2.5 in \/opt\/python\/envs\/default\/lib\/python3.8\/site-packages (from snowflake-connector-python) (3.4)\r\n",
      "Requirement already satisfied: urllib3<1.27,>=1.21.1 in \/opt\/python\/envs\/default\/lib\/python3.8\/site-packages (from snowflake-connector-python) (1.26.16)\r\n",
      "Requirement already satisfied: certifi>=2017.4.17 in \/opt\/python\/envs\/default\/lib\/python3.8\/site-packages (from snowflake-connector-python) (2023.5.7)\r\n",
      "Requirement already satisfied: typing-extensions<5,>=4.3 in \/opt\/python\/envs\/default\/lib\/python3.8\/site-packages (from snowflake-connector-python) (4.6.3)\r\n",
      "Requirement already satisfied: filelock<4,>=3.5 in \/opt\/python\/envs\/default\/lib\/python3.8\/site-packages (from snowflake-connector-python) (3.12.0)\r\n",
      "Collecting sortedcontainers>=2.4.0 (from snowflake-connector-python)\r\n",
      "  Downloading sortedcontainers-2.4.0-py2.py3-none-any.whl (29 kB)\r\n",
      "Requirement already satisfied: pycparser in \/opt\/python\/envs\/default\/lib\/python3.8\/site-packages (from cffi<2.0.0,>=1.9->snowflake-connector-python) (2.21)\r\n",
      "Installing collected packages: sortedcontainers, asn1crypto, pyjwt, pycryptodomex, oscrypto, cryptography, pyOpenSSL, snowflake-connector-python\r\n",
      "Successfully installed asn1crypto-1.5.1 cryptography-40.0.2 oscrypto-1.3.0 pyOpenSSL-23.2.0 pycryptodomex-3.18.0 pyjwt-2.7.0 snowflake-connector-python-3.0.4 sortedcontainers-2.4.0\r\n",
      "Collecting tldextract\r\n",
      "  Downloading tldextract-3.4.4-py3-none-any.whl (93 kB)\r\n",
      "\u001b[?25l     \u001b[90m━━━━━━━━━━━━━━━━━━━━━━━━━━━━━━━━━━━━━━━━\u001b[0m \u001b[32m0.0\/93.3 kB\u001b[0m \u001b[31m?\u001b[0m eta \u001b[36m-:--:--\u001b[0m\r\u001b[2K     \u001b[90m━━━━━━━━━━━━━━━━━━━━━━━━━━━━━━━━━━━━━━━━\u001b[0m \u001b[32m93.3\/93.3 kB\u001b[0m \u001b[31m11.4 MB\/s\u001b[0m eta \u001b[36m0:00:00\u001b[0m\r\n",
      "\u001b[?25hRequirement already satisfied: idna in \/opt\/python\/envs\/default\/lib\/python3.8\/site-packages (from tldextract) (3.4)\r\n",
      "Requirement already satisfied: requests>=2.1.0 in \/opt\/python\/envs\/default\/lib\/python3.8\/site-packages (from tldextract) (2.30.0)\r\n",
      "Collecting requests-file>=1.4 (from tldextract)\r\n",
      "  Downloading requests_file-1.5.1-py2.py3-none-any.whl (3.7 kB)\r\n",
      "Requirement already satisfied: filelock>=3.0.8 in \/opt\/python\/envs\/default\/lib\/python3.8\/site-packages (from tldextract) (3.12.0)\r\n",
      "Requirement already satisfied: charset-normalizer<4,>=2 in \/opt\/python\/envs\/default\/lib\/python3.8\/site-packages (from requests>=2.1.0->tldextract) (3.1.0)\r\n",
      "Requirement already satisfied: urllib3<3,>=1.21.1 in \/opt\/python\/envs\/default\/lib\/python3.8\/site-packages (from requests>=2.1.0->tldextract) (1.26.16)\r\n",
      "Requirement already satisfied: certifi>=2017.4.17 in \/opt\/python\/envs\/default\/lib\/python3.8\/site-packages (from requests>=2.1.0->tldextract) (2023.5.7)\r\n",
      "Requirement already satisfied: six in \/opt\/python\/envs\/default\/lib\/python3.8\/site-packages (from requests-file>=1.4->tldextract) (1.16.0)\r\n",
      "Installing collected packages: requests-file, tldextract\r\n",
      "Successfully installed requests-file-1.5.1 tldextract-3.4.4\r\n",
      "Collecting py2neo\r\n",
      "  Downloading py2neo-2021.2.3-py2.py3-none-any.whl (177 kB)\r\n",
      "\u001b[?25l     \u001b[90m━━━━━━━━━━━━━━━━━━━━━━━━━━━━━━━━━━━━━━━━\u001b[0m \u001b[32m0.0\/177.0 kB\u001b[0m \u001b[31m?\u001b[0m eta \u001b[36m-:--:--\u001b[0m\r\u001b[2K     \u001b[90m━━━━━━━━━━━━━━━━━━━━━━━━━━━━━━━━━━━━━━\u001b[0m \u001b[32m177.0\/177.0 kB\u001b[0m \u001b[31m12.4 MB\/s\u001b[0m eta \u001b[36m0:00:00\u001b[0m\r\n",
      "\u001b[?25hRequirement already satisfied: certifi in \/opt\/python\/envs\/default\/lib\/python3.8\/site-packages (from py2neo) (2023.5.7)\r\n",
      "Collecting interchange~=2021.0.4 (from py2neo)\r\n",
      "  Downloading interchange-2021.0.4-py2.py3-none-any.whl (28 kB)\r\n",
      "Collecting monotonic (from py2neo)\r\n",
      "  Downloading monotonic-1.6-py2.py3-none-any.whl (8.2 kB)\r\n",
      "Requirement already satisfied: packaging in \/opt\/python\/envs\/default\/lib\/python3.8\/site-packages (from py2neo) (23.1)\r\n",
      "Collecting pansi>=2020.7.3 (from py2neo)\r\n",
      "  Downloading pansi-2020.7.3-py2.py3-none-any.whl (10 kB)\r\n",
      "Requirement already satisfied: pygments>=2.0.0 in \/opt\/python\/envs\/default\/lib\/python3.8\/site-packages (from py2neo) (2.15.1)\r\n",
      "Requirement already satisfied: six>=1.15.0 in \/opt\/python\/envs\/default\/lib\/python3.8\/site-packages (from py2neo) (1.16.0)\r\n",
      "Requirement already satisfied: urllib3 in \/opt\/python\/envs\/default\/lib\/python3.8\/site-packages (from py2neo) (1.26.16)\r\n",
      "Requirement already satisfied: pytz in \/opt\/python\/envs\/default\/lib\/python3.8\/site-packages (from interchange~=2021.0.4->py2neo) (2023.3)\r\n",
      "Installing collected packages: monotonic, pansi, interchange, py2neo\r\n",
      "Successfully installed interchange-2021.0.4 monotonic-1.6 pansi-2020.7.3 py2neo-2021.2.3\r\n"
     ],
     "output_type":"stream"
    }
   ],
   "metadata":{
    "datalore":{
     "node_id":"OdVyG7i292Wf4igDuEX6qm",
     "type":"CODE",
     "hide_input_from_viewers":false,
     "hide_output_from_viewers":false,
     "report_properties":{
      "rowId":"I5v49LZzev8dDl6oGTkDHB"
     }
    }
   }
  },
  {
   "cell_type":"code",
   "source":[
    "df['ColumnA'] = df[df.columns[1:]].apply(\n",
    "    lambda x: ','.join(x.dropna().astype(str)),\n",
    "    axis=1)"
   ],
   "execution_count":null,
   "outputs":[
    
   ],
   "metadata":{
    "datalore":{
     "node_id":"XVM2MqyvUJOz6peppl1Lng",
     "type":"CODE",
     "hide_input_from_viewers":true,
     "hide_output_from_viewers":true
    }
   }
  },
  {
   "cell_type":"code",
   "source":[
    "import requests\n",
    "import pandas as pd\n",
    "import numpy as np\n",
    "import snowflake.connector\n",
    "import os\n",
    "from py2neo import Graph\n",
    "from py2neo.bulk import merge_nodes, create_relationships, merge_relationships\n",
    "from urllib.parse import urlparse\n",
    "\n",
    "#[Environment Configs]\n",
    "client_id = \"d0afa05e7ab642acb0497f018b601b86\"\n",
    "client_secret = \"ikdU3eOtXRmMR9oWlEnP0W0jAVZYNMBF2FUwsuwtHkZ37Oh4IZZkso3tFdsbfdmO\"  \n",
    "os.environ[\"HTTP_PROXY\"] = \"http:\/\/d161560-001.dc.gs.com:8899\"\n",
    "os.environ[\"HTTPS_PROXY\"] = \"http:\/\/d161560-001.dc.gs.com:8899\"\n",
    "\n",
    "#[Credentials]\n",
    "host = \"xplore.graph-x.site.gs.com\"\n",
    "port = \"7687\"\n",
    "username = \"neo4j\"\n",
    "password = \"xplorer\"\n",
    "graph = Graph(host=host, port=port, auth=(username, password))\n",
    "BATCHES = 100"
   ],
   "execution_count":null,
   "outputs":[
    
   ],
   "metadata":{
    "datalore":{
     "node_id":"Gf6IG0VQ9PvhyKRjJC6wUd",
     "type":"CODE",
     "hide_input_from_viewers":false,
     "hide_output_from_viewers":false,
     "report_properties":{
      "rowId":"NVR9t6QzCfN2VT6V8pXr9S"
     }
    }
   }
  },
  {
   "cell_type":"markdown",
   "source":[
    "### Libraries & Shared Code"
   ],
   "attachments":{
    
   },
   "metadata":{
    "datalore":{
     "node_id":"WryV3n1kunjOmNXSya3Rq8",
     "type":"MD",
     "hide_input_from_viewers":false,
     "hide_output_from_viewers":false,
     "report_properties":{
      "rowId":"41gD30WsLMbGg7fP4IPUC1"
     }
    }
   }
  },
  {
   "cell_type":"code",
   "source":[
    "def get_oauth_tokens(client_id: str, client_secret: str):\n",
    "    _IDFS_URL = \"https:\/\/idfs.gs.com\/as\/token.oauth2\"\n",
    "    response = requests.post(\n",
    "        url = _IDFS_URL,\n",
    "        params = {\"access_token_manager_id\": \"JwtSnowflake\"},  # This must be set to JwtSnowflake to generate Snowflake-compatible OAuth Token\n",
    "        data = {\"grant_type\": \"client_credentials\", \"scope\": \"SESSION:ROLE-ANY\"},\n",
    "        auth = (client_id, client_secret),\n",
    "    )\n",
    "    response = response.json()\n",
    "    if \"access_token\" not in response.keys():\n",
    "        raise PermissionError(f\"Not authorized to access OAuth Tokens: {response}\")\n",
    "    return response[\"access_token\"]\n",
    "  \n",
    "def connect_snowflake(user: str, database: str, token: str) -> snowflake.connector.cursor:\n",
    "    \"\"\"Connect to Snowflake and return an authorized cursor. Below uses Catalyst connections\n",
    "   \n",
    "    :param user: Client ID from OAuth2 Authentication\n",
    "    :param database: Name of database to connect to\n",
    "    :param token: Generated OAuth Token. Please either generate and save to a tmp file in a separate thread OR use subprocess module to call the underlying subsystem and capture the output\n",
    "    :return: Snowflake Cursor\n",
    "    \"\"\"\n",
    "    snow_connector = snowflake.connector.connect(\n",
    "        user=user,\n",
    "        authenticator=\"oauth\",\n",
    "        account=\"sfamdprvtawseast1d01.goldman.us-east-1.aws.privatelink\",\n",
    "        role=\"AMD_CATALYST_DATA_RW\",\n",
    "        warehouse=\"AMD_CATALYST_RW\",\n",
    "        database=database,\n",
    "        ocsp_fail_open=False,\n",
    "        token=token,\n",
    "    )\n",
    "    cursor = snow_connector.cursor()\n",
    "    return cursor\n",
    " \n",
    "def disconnect(cursor: snowflake.connector.cursor) -> None:\n",
    "    try:\n",
    "        cursor.close()\n",
    "    except:\n",
    "        raise Exception(\"Failed to close cursor\")   \n",
    "        \n",
    "oauth_token = get_oauth_tokens(client_id, client_secret)\n",
    "cursor = connect_snowflake(client_id, \"AMD_CATALYST_DB\", oauth_token)"
   ],
   "execution_count":null,
   "outputs":[
    
   ],
   "metadata":{
    "datalore":{
     "node_id":"tJ6l7OOtAXjMRHSK8WJxrQ",
     "type":"CODE",
     "hide_input_from_viewers":false,
     "hide_output_from_viewers":false,
     "report_properties":{
      "rowId":"suCMCeVlgc6mwWOOwafkLD"
     }
    }
   }
  },
  {
   "cell_type":"markdown",
   "source":[
    "### SourceScrub"
   ],
   "attachments":{
    
   },
   "metadata":{
    "datalore":{
     "node_id":"Oq74RRNDk5ATyzfUxWSmeB",
     "type":"MD",
     "hide_input_from_viewers":false,
     "hide_output_from_viewers":false,
     "report_properties":{
      "rowId":"MtbeUkJISCRmjXxgn74DzE"
     }
    }
   }
  },
  {
   "cell_type":"code",
   "source":[
    "sourcescrub_organizations_df = cursor.execute('SELECT ID, NAME, DOMAIN, LINKEDIN, TWITTER, FACEBOOK, CRUNCHBASE, FOUNDINGYEAR, CITY, STATE, COUNTRY, SPECIALTIES, TOTALAMOUNTINVESTED FROM L1.SOURCESCRUB_COMPANY WHERE DOMAIN IS NOT NULL OR LINKEDIN IS NOT NULL OR TWITTER IS NOT NULL OR FACEBOOK IS NOT NULL OR CRUNCHBASE IS NOT NULL').fetch_pandas_all()\n",
    "display(sourcescrub_organizations_df.head(10))"
   ],
   "execution_count":null,
   "outputs":[
    {
     "data":{
      "text\/html":[
       "<div>\n",
       "<style scoped>\n",
       "    .dataframe tbody tr th:only-of-type {\n",
       "        vertical-align: middle;\n",
       "    }\n",
       "\n",
       "    .dataframe tbody tr th {\n",
       "        vertical-align: top;\n",
       "    }\n",
       "\n",
       "    .dataframe thead th {\n",
       "        text-align: right;\n",
       "    }\n",
       "<\/style>\n",
       "<table border=\"1\" class=\"dataframe\">\n",
       "  <thead>\n",
       "    <tr style=\"text-align: right;\">\n",
       "      <th><\/th>\n",
       "      <th>ID<\/th>\n",
       "      <th>NAME<\/th>\n",
       "      <th>DOMAIN<\/th>\n",
       "      <th>LINKEDIN<\/th>\n",
       "      <th>TWITTER<\/th>\n",
       "      <th>FACEBOOK<\/th>\n",
       "      <th>CRUNCHBASE<\/th>\n",
       "      <th>FOUNDINGYEAR<\/th>\n",
       "      <th>CITY<\/th>\n",
       "      <th>STATE<\/th>\n",
       "      <th>COUNTRY<\/th>\n",
       "      <th>SPECIALTIES<\/th>\n",
       "      <th>TOTALAMOUNTINVESTED<\/th>\n",
       "    <\/tr>\n",
       "  <\/thead>\n",
       "  <tbody>\n",
       "    <tr>\n",
       "      <th>0<\/th>\n",
       "      <td>2475887<\/td>\n",
       "      <td>Spacehuhn Technologies UG<\/td>\n",
       "      <td>spacehuhn.com<\/td>\n",
       "      <td>None<\/td>\n",
       "      <td>https:\/\/twitter.com\/spacehuhntech<\/td>\n",
       "      <td>https:\/\/www.facebook.com\/spacehuhn-technologie...<\/td>\n",
       "      <td>None<\/td>\n",
       "      <td>2020.0<\/td>\n",
       "      <td>Bingen am Rhein<\/td>\n",
       "      <td>Rheinland-Pfalz<\/td>\n",
       "      <td>Germany<\/td>\n",
       "      <td>Information Technology<\/td>\n",
       "      <td>NaN<\/td>\n",
       "    <\/tr>\n",
       "    <tr>\n",
       "      <th>1<\/th>\n",
       "      <td>2475885<\/td>\n",
       "      <td>Public Invention, Inc.<\/td>\n",
       "      <td>pubinv.org<\/td>\n",
       "      <td>https:\/\/www.linkedin.com\/company\/public-invention<\/td>\n",
       "      <td>https:\/\/twitter.com\/pubinvention<\/td>\n",
       "      <td>https:\/\/www.facebook.com\/publicinvention<\/td>\n",
       "      <td>https:\/\/www.crunchbase.com\/organization\/public...<\/td>\n",
       "      <td>2015.0<\/td>\n",
       "      <td>Austin<\/td>\n",
       "      <td>Texas<\/td>\n",
       "      <td>United States<\/td>\n",
       "      <td>Non-profit<\/td>\n",
       "      <td>NaN<\/td>\n",
       "    <\/tr>\n",
       "    <tr>\n",
       "      <th>2<\/th>\n",
       "      <td>2475884<\/td>\n",
       "      <td>8E6, Ltd.<\/td>\n",
       "      <td>8e6.ca<\/td>\n",
       "      <td>None<\/td>\n",
       "      <td>None<\/td>\n",
       "      <td>None<\/td>\n",
       "      <td>None<\/td>\n",
       "      <td>2020.0<\/td>\n",
       "      <td>Richmond Hill Southwest<\/td>\n",
       "      <td>Ontario<\/td>\n",
       "      <td>Canada<\/td>\n",
       "      <td>Pain Relieving Towellete<\/td>\n",
       "      <td>NaN<\/td>\n",
       "    <\/tr>\n",
       "    <tr>\n",
       "      <th>3<\/th>\n",
       "      <td>2475873<\/td>\n",
       "      <td>Waterotor Energy Technologies, Inc.<\/td>\n",
       "      <td>waterotor.com<\/td>\n",
       "      <td>https:\/\/www.linkedin.com\/company\/waterotor-ene...<\/td>\n",
       "      <td>https:\/\/twitter.com\/waterotor1<\/td>\n",
       "      <td>https:\/\/www.facebook.com\/waterotor<\/td>\n",
       "      <td>https:\/\/www.crunchbase.com\/organization\/watero...<\/td>\n",
       "      <td>2011.0<\/td>\n",
       "      <td>Ottawa<\/td>\n",
       "      <td>Ontario<\/td>\n",
       "      <td>Canada<\/td>\n",
       "      <td>renewable energy, hydrokinetic energy, Hydro P...<\/td>\n",
       "      <td>NaN<\/td>\n",
       "    <\/tr>\n",
       "    <tr>\n",
       "      <th>4<\/th>\n",
       "      <td>2475872<\/td>\n",
       "      <td>UnGUN Institute<\/td>\n",
       "      <td>unguninstitute.com<\/td>\n",
       "      <td>None<\/td>\n",
       "      <td>None<\/td>\n",
       "      <td>https:\/\/www.facebook.com\/disarmingtrauma<\/td>\n",
       "      <td>None<\/td>\n",
       "      <td>2017.0<\/td>\n",
       "      <td>St. Louis<\/td>\n",
       "      <td>Missouri<\/td>\n",
       "      <td>United States<\/td>\n",
       "      <td>Community Service<\/td>\n",
       "      <td>NaN<\/td>\n",
       "    <\/tr>\n",
       "    <tr>\n",
       "      <th>5<\/th>\n",
       "      <td>2475871<\/td>\n",
       "      <td>Georgia Highway Contractors Association, Inc. ...<\/td>\n",
       "      <td>gahca.com<\/td>\n",
       "      <td>None<\/td>\n",
       "      <td>None<\/td>\n",
       "      <td>None<\/td>\n",
       "      <td>None<\/td>\n",
       "      <td>1937.0<\/td>\n",
       "      <td>Alpharetta<\/td>\n",
       "      <td>Georgia<\/td>\n",
       "      <td>United States<\/td>\n",
       "      <td>Transportation, Construction, Roadways, State<\/td>\n",
       "      <td>NaN<\/td>\n",
       "    <\/tr>\n",
       "    <tr>\n",
       "      <th>6<\/th>\n",
       "      <td>2475869<\/td>\n",
       "      <td>Academic Center for Coherent Intelligence (ACCI)<\/td>\n",
       "      <td>acci.center<\/td>\n",
       "      <td>https:\/\/www.linkedin.com\/company\/academic-cent...<\/td>\n",
       "      <td>https:\/\/twitter.com\/igor_valdanilov<\/td>\n",
       "      <td>https:\/\/www.facebook.com\/academiccenterforcohe...<\/td>\n",
       "      <td>None<\/td>\n",
       "      <td>2018.0<\/td>\n",
       "      <td>Riga<\/td>\n",
       "      <td>Riga<\/td>\n",
       "      <td>Latvia<\/td>\n",
       "      <td>social interactions<\/td>\n",
       "      <td>NaN<\/td>\n",
       "    <\/tr>\n",
       "    <tr>\n",
       "      <th>7<\/th>\n",
       "      <td>2475868<\/td>\n",
       "      <td>CultureX, Inc.<\/td>\n",
       "      <td>culturex.com<\/td>\n",
       "      <td>https:\/\/www.linkedin.com\/company\/culturex<\/td>\n",
       "      <td>https:\/\/twitter.com\/culturexinsight<\/td>\n",
       "      <td>https:\/\/www.facebook.com\/culturex<\/td>\n",
       "      <td>None<\/td>\n",
       "      <td>2019.0<\/td>\n",
       "      <td>Cambridge<\/td>\n",
       "      <td>Massachusetts<\/td>\n",
       "      <td>United States<\/td>\n",
       "      <td>Corporate Culture and Artificial Intelligence<\/td>\n",
       "      <td>NaN<\/td>\n",
       "    <\/tr>\n",
       "    <tr>\n",
       "      <th>8<\/th>\n",
       "      <td>2475866<\/td>\n",
       "      <td>Wolk After Sales Experts GmbH<\/td>\n",
       "      <td>wolk-aftersales.com<\/td>\n",
       "      <td>https:\/\/www.linkedin.com\/company\/wolk-after-sa...<\/td>\n",
       "      <td>https:\/\/twitter.com\/wolkaftersales<\/td>\n",
       "      <td>https:\/\/www.facebook.com\/wolkaftersales<\/td>\n",
       "      <td>None<\/td>\n",
       "      <td>2009.0<\/td>\n",
       "      <td>Bergisch Gladbach<\/td>\n",
       "      <td>Nordrhein-Westfalen<\/td>\n",
       "      <td>Germany<\/td>\n",
       "      <td>Automotive Aftermarket, Automotive Market Rese...<\/td>\n",
       "      <td>NaN<\/td>\n",
       "    <\/tr>\n",
       "    <tr>\n",
       "      <th>9<\/th>\n",
       "      <td>2475865<\/td>\n",
       "      <td>Rockford Construction, Inc.<\/td>\n",
       "      <td>rockfordconstruction.net<\/td>\n",
       "      <td>None<\/td>\n",
       "      <td>None<\/td>\n",
       "      <td>None<\/td>\n",
       "      <td>None<\/td>\n",
       "      <td>2009.0<\/td>\n",
       "      <td>Columbus<\/td>\n",
       "      <td>Ohio<\/td>\n",
       "      <td>United States<\/td>\n",
       "      <td>General Construction<\/td>\n",
       "      <td>NaN<\/td>\n",
       "    <\/tr>\n",
       "  <\/tbody>\n",
       "<\/table>\n",
       "<\/div>"
      ]
     },
     "metadata":{
      
     },
     "output_type":"display_data"
    },
    {
     "data":{
      "text\/plain":[
       "        ID                                               NAME  \\\n",
       "0  2475887                          Spacehuhn Technologies UG   \n",
       "1  2475885                             Public Invention, Inc.   \n",
       "2  2475884                                          8E6, Ltd.   \n",
       "3  2475873                Waterotor Energy Technologies, Inc.   \n",
       "4  2475872                                    UnGUN Institute   \n",
       "5  2475871  Georgia Highway Contractors Association, Inc. ...   \n",
       "6  2475869   Academic Center for Coherent Intelligence (ACCI)   \n",
       "7  2475868                                     CultureX, Inc.   \n",
       "8  2475866                      Wolk After Sales Experts GmbH   \n",
       "9  2475865                        Rockford Construction, Inc.   \n",
       "\n",
       "                     DOMAIN  \\\n",
       "0             spacehuhn.com   \n",
       "1                pubinv.org   \n",
       "2                    8e6.ca   \n",
       "3             waterotor.com   \n",
       "4        unguninstitute.com   \n",
       "5                 gahca.com   \n",
       "6               acci.center   \n",
       "7              culturex.com   \n",
       "8       wolk-aftersales.com   \n",
       "9  rockfordconstruction.net   \n",
       "\n",
       "                                            LINKEDIN  \\\n",
       "0                                               None   \n",
       "1  https:\/\/www.linkedin.com\/company\/public-invention   \n",
       "2                                               None   \n",
       "3  https:\/\/www.linkedin.com\/company\/waterotor-ene...   \n",
       "4                                               None   \n",
       "5                                               None   \n",
       "6  https:\/\/www.linkedin.com\/company\/academic-cent...   \n",
       "7          https:\/\/www.linkedin.com\/company\/culturex   \n",
       "8  https:\/\/www.linkedin.com\/company\/wolk-after-sa...   \n",
       "9                                               None   \n",
       "\n",
       "                               TWITTER  \\\n",
       "0    https:\/\/twitter.com\/spacehuhntech   \n",
       "1     https:\/\/twitter.com\/pubinvention   \n",
       "2                                 None   \n",
       "3       https:\/\/twitter.com\/waterotor1   \n",
       "4                                 None   \n",
       "5                                 None   \n",
       "6  https:\/\/twitter.com\/igor_valdanilov   \n",
       "7  https:\/\/twitter.com\/culturexinsight   \n",
       "8   https:\/\/twitter.com\/wolkaftersales   \n",
       "9                                 None   \n",
       "\n",
       "                                            FACEBOOK  \\\n",
       "0  https:\/\/www.facebook.com\/spacehuhn-technologie...   \n",
       "1           https:\/\/www.facebook.com\/publicinvention   \n",
       "2                                               None   \n",
       "3                 https:\/\/www.facebook.com\/waterotor   \n",
       "4           https:\/\/www.facebook.com\/disarmingtrauma   \n",
       "5                                               None   \n",
       "6  https:\/\/www.facebook.com\/academiccenterforcohe...   \n",
       "7                  https:\/\/www.facebook.com\/culturex   \n",
       "8            https:\/\/www.facebook.com\/wolkaftersales   \n",
       "9                                               None   \n",
       "\n",
       "                                          CRUNCHBASE  FOUNDINGYEAR  \\\n",
       "0                                               None        2020.0   \n",
       "1  https:\/\/www.crunchbase.com\/organization\/public...        2015.0   \n",
       "2                                               None        2020.0   \n",
       "3  https:\/\/www.crunchbase.com\/organization\/watero...        2011.0   \n",
       "4                                               None        2017.0   \n",
       "5                                               None        1937.0   \n",
       "6                                               None        2018.0   \n",
       "7                                               None        2019.0   \n",
       "8                                               None        2009.0   \n",
       "9                                               None        2009.0   \n",
       "\n",
       "                      CITY                STATE        COUNTRY  \\\n",
       "0          Bingen am Rhein      Rheinland-Pfalz        Germany   \n",
       "1                   Austin                Texas  United States   \n",
       "2  Richmond Hill Southwest              Ontario         Canada   \n",
       "3                   Ottawa              Ontario         Canada   \n",
       "4                St. Louis             Missouri  United States   \n",
       "5               Alpharetta              Georgia  United States   \n",
       "6                     Riga                 Riga         Latvia   \n",
       "7                Cambridge        Massachusetts  United States   \n",
       "8        Bergisch Gladbach  Nordrhein-Westfalen        Germany   \n",
       "9                 Columbus                 Ohio  United States   \n",
       "\n",
       "                                         SPECIALTIES  TOTALAMOUNTINVESTED  \n",
       "0                             Information Technology                  NaN  \n",
       "1                                         Non-profit                  NaN  \n",
       "2                           Pain Relieving Towellete                  NaN  \n",
       "3  renewable energy, hydrokinetic energy, Hydro P...                  NaN  \n",
       "4                                  Community Service                  NaN  \n",
       "5      Transportation, Construction, Roadways, State                  NaN  \n",
       "6                                social interactions                  NaN  \n",
       "7      Corporate Culture and Artificial Intelligence                  NaN  \n",
       "8  Automotive Aftermarket, Automotive Market Rese...                  NaN  \n",
       "9                               General Construction                  NaN  "
      ]
     },
     "metadata":{
      
     },
     "output_type":"display_data"
    }
   ],
   "metadata":{
    "datalore":{
     "node_id":"dxIhhD2yF9MC8By15OQO52",
     "type":"CODE",
     "hide_input_from_viewers":false,
     "hide_output_from_viewers":false,
     "report_properties":{
      "rowId":"bxNGvD1A8ygdNhhIS1RgUc"
     }
    }
   }
  },
  {
   "cell_type":"code",
   "source":[
    "sourcescrub_organizations_df.rename(columns={'ID': 'SOURCE_ID', 'FOUNDINGYEAR': 'TIME_OF_FOUNDING', 'TOTALAMOUNTINVESTED': 'TOTAL_AMOUNT_INVESTED'}, inplace=True)\n",
    "sourcescrub_organizations_df['SOURCE_ID'] = sourcescrub_organizations_df['SOURCE_ID'].astype(str)\n",
    "sourcescrub_organizations_df['TIME_OF_FOUNDING'] = sourcescrub_organizations_df['TIME_OF_FOUNDING'].fillna(0).astype('int').replace(0, np.nan)\n",
    "sourcescrub_organizations_df['SOURCE_ID'] = 'sourcescrub-' + sourcescrub_organizations_df['SOURCE_ID']\n",
    "\n",
    "sourcescrub_organizations_df['LINKEDIN'] = sourcescrub_organizations_df['LINKEDIN'].apply(lambda x: (str(urlparse(x).netloc or '') + str(urlparse(x).path or '')).lstrip('www.'))\n",
    "sourcescrub_organizations_df['TWITTER'] = sourcescrub_organizations_df['TWITTER'].apply(lambda x: (str(urlparse(x).netloc or '') + str(urlparse(x).path or '')).lstrip('www.'))\n",
    "sourcescrub_organizations_df['FACEBOOK'] = sourcescrub_organizations_df['FACEBOOK'].apply(lambda x: (str(urlparse(x).netloc or '') + str(urlparse(x).path or '')).lstrip('www.'))\n",
    "sourcescrub_organizations_df['CRUNCHBASE'] = sourcescrub_organizations_df['CRUNCHBASE'].apply(lambda x: (str(urlparse(x).netloc or '') + str(urlparse(x).path or '')).lstrip('www.'))\n",
    "\n",
    "sourcescrub_organizations_df.replace(r'^\\s*$', np.nan, regex=True, inplace=True)"
   ],
   "execution_count":null,
   "outputs":[
    
   ],
   "metadata":{
    "datalore":{
     "node_id":"JFyuN6n1se92gERJDZGoy9",
     "type":"CODE",
     "hide_input_from_viewers":false,
     "hide_output_from_viewers":false,
     "report_properties":{
      "rowId":"dS9ajzAvBH58feWWZchur6"
     }
    }
   }
  },
  {
   "cell_type":"code",
   "source":[
    "sourcescrub_organizations_df.head()"
   ],
   "execution_count":null,
   "outputs":[
    {
     "data":{
      "text\/html":[
       "<div>\n",
       "<style scoped>\n",
       "    .dataframe tbody tr th:only-of-type {\n",
       "        vertical-align: middle;\n",
       "    }\n",
       "\n",
       "    .dataframe tbody tr th {\n",
       "        vertical-align: top;\n",
       "    }\n",
       "\n",
       "    .dataframe thead th {\n",
       "        text-align: right;\n",
       "    }\n",
       "<\/style>\n",
       "<table border=\"1\" class=\"dataframe\">\n",
       "  <thead>\n",
       "    <tr style=\"text-align: right;\">\n",
       "      <th><\/th>\n",
       "      <th>SOURCE_ID<\/th>\n",
       "      <th>NAME<\/th>\n",
       "      <th>DOMAIN<\/th>\n",
       "      <th>LINKEDIN<\/th>\n",
       "      <th>TWITTER<\/th>\n",
       "      <th>FACEBOOK<\/th>\n",
       "      <th>CRUNCHBASE<\/th>\n",
       "      <th>TIME_OF_FOUNDING<\/th>\n",
       "      <th>CITY<\/th>\n",
       "      <th>STATE<\/th>\n",
       "      <th>COUNTRY<\/th>\n",
       "      <th>SPECIALTIES<\/th>\n",
       "      <th>TOTAL_AMOUNT_INVESTED<\/th>\n",
       "    <\/tr>\n",
       "  <\/thead>\n",
       "  <tbody>\n",
       "    <tr>\n",
       "      <th>0<\/th>\n",
       "      <td>sourcescrub-2475887<\/td>\n",
       "      <td>Spacehuhn Technologies UG<\/td>\n",
       "      <td>spacehuhn.com<\/td>\n",
       "      <td>NaN<\/td>\n",
       "      <td>twitter.com\/spacehuhntech<\/td>\n",
       "      <td>facebook.com\/spacehuhn-technologies-1084143915...<\/td>\n",
       "      <td>NaN<\/td>\n",
       "      <td>2020.0<\/td>\n",
       "      <td>Bingen am Rhein<\/td>\n",
       "      <td>Rheinland-Pfalz<\/td>\n",
       "      <td>Germany<\/td>\n",
       "      <td>Information Technology<\/td>\n",
       "      <td>NaN<\/td>\n",
       "    <\/tr>\n",
       "    <tr>\n",
       "      <th>1<\/th>\n",
       "      <td>sourcescrub-2475885<\/td>\n",
       "      <td>Public Invention, Inc.<\/td>\n",
       "      <td>pubinv.org<\/td>\n",
       "      <td>linkedin.com\/company\/public-invention<\/td>\n",
       "      <td>twitter.com\/pubinvention<\/td>\n",
       "      <td>facebook.com\/publicinvention<\/td>\n",
       "      <td>crunchbase.com\/organization\/public-invention<\/td>\n",
       "      <td>2015.0<\/td>\n",
       "      <td>Austin<\/td>\n",
       "      <td>Texas<\/td>\n",
       "      <td>United States<\/td>\n",
       "      <td>Non-profit<\/td>\n",
       "      <td>NaN<\/td>\n",
       "    <\/tr>\n",
       "    <tr>\n",
       "      <th>2<\/th>\n",
       "      <td>sourcescrub-2475884<\/td>\n",
       "      <td>8E6, Ltd.<\/td>\n",
       "      <td>8e6.ca<\/td>\n",
       "      <td>NaN<\/td>\n",
       "      <td>NaN<\/td>\n",
       "      <td>NaN<\/td>\n",
       "      <td>NaN<\/td>\n",
       "      <td>2020.0<\/td>\n",
       "      <td>Richmond Hill Southwest<\/td>\n",
       "      <td>Ontario<\/td>\n",
       "      <td>Canada<\/td>\n",
       "      <td>Pain Relieving Towellete<\/td>\n",
       "      <td>NaN<\/td>\n",
       "    <\/tr>\n",
       "    <tr>\n",
       "      <th>3<\/th>\n",
       "      <td>sourcescrub-2475873<\/td>\n",
       "      <td>Waterotor Energy Technologies, Inc.<\/td>\n",
       "      <td>waterotor.com<\/td>\n",
       "      <td>linkedin.com\/company\/waterotor-energy-technolo...<\/td>\n",
       "      <td>twitter.com\/waterotor1<\/td>\n",
       "      <td>facebook.com\/waterotor<\/td>\n",
       "      <td>crunchbase.com\/organization\/waterotor-energy-t...<\/td>\n",
       "      <td>2011.0<\/td>\n",
       "      <td>Ottawa<\/td>\n",
       "      <td>Ontario<\/td>\n",
       "      <td>Canada<\/td>\n",
       "      <td>renewable energy, hydrokinetic energy, Hydro P...<\/td>\n",
       "      <td>NaN<\/td>\n",
       "    <\/tr>\n",
       "    <tr>\n",
       "      <th>4<\/th>\n",
       "      <td>sourcescrub-2475872<\/td>\n",
       "      <td>UnGUN Institute<\/td>\n",
       "      <td>unguninstitute.com<\/td>\n",
       "      <td>NaN<\/td>\n",
       "      <td>NaN<\/td>\n",
       "      <td>facebook.com\/disarmingtrauma<\/td>\n",
       "      <td>NaN<\/td>\n",
       "      <td>2017.0<\/td>\n",
       "      <td>St. Louis<\/td>\n",
       "      <td>Missouri<\/td>\n",
       "      <td>United States<\/td>\n",
       "      <td>Community Service<\/td>\n",
       "      <td>NaN<\/td>\n",
       "    <\/tr>\n",
       "  <\/tbody>\n",
       "<\/table>\n",
       "<\/div>"
      ]
     },
     "metadata":{
      
     },
     "output_type":"display_data"
    },
    {
     "data":{
      "text\/plain":[
       "             SOURCE_ID                                 NAME  \\\n",
       "0  sourcescrub-2475887            Spacehuhn Technologies UG   \n",
       "1  sourcescrub-2475885               Public Invention, Inc.   \n",
       "2  sourcescrub-2475884                            8E6, Ltd.   \n",
       "3  sourcescrub-2475873  Waterotor Energy Technologies, Inc.   \n",
       "4  sourcescrub-2475872                      UnGUN Institute   \n",
       "\n",
       "               DOMAIN                                           LINKEDIN  \\\n",
       "0       spacehuhn.com                                                NaN   \n",
       "1          pubinv.org              linkedin.com\/company\/public-invention   \n",
       "2              8e6.ca                                                NaN   \n",
       "3       waterotor.com  linkedin.com\/company\/waterotor-energy-technolo...   \n",
       "4  unguninstitute.com                                                NaN   \n",
       "\n",
       "                     TWITTER  \\\n",
       "0  twitter.com\/spacehuhntech   \n",
       "1   twitter.com\/pubinvention   \n",
       "2                        NaN   \n",
       "3     twitter.com\/waterotor1   \n",
       "4                        NaN   \n",
       "\n",
       "                                            FACEBOOK  \\\n",
       "0  facebook.com\/spacehuhn-technologies-1084143915...   \n",
       "1                       facebook.com\/publicinvention   \n",
       "2                                                NaN   \n",
       "3                             facebook.com\/waterotor   \n",
       "4                       facebook.com\/disarmingtrauma   \n",
       "\n",
       "                                          CRUNCHBASE  TIME_OF_FOUNDING  \\\n",
       "0                                                NaN            2020.0   \n",
       "1       crunchbase.com\/organization\/public-invention            2015.0   \n",
       "2                                                NaN            2020.0   \n",
       "3  crunchbase.com\/organization\/waterotor-energy-t...            2011.0   \n",
       "4                                                NaN            2017.0   \n",
       "\n",
       "                      CITY            STATE        COUNTRY  \\\n",
       "0          Bingen am Rhein  Rheinland-Pfalz        Germany   \n",
       "1                   Austin            Texas  United States   \n",
       "2  Richmond Hill Southwest          Ontario         Canada   \n",
       "3                   Ottawa          Ontario         Canada   \n",
       "4                St. Louis         Missouri  United States   \n",
       "\n",
       "                                         SPECIALTIES  TOTAL_AMOUNT_INVESTED  \n",
       "0                             Information Technology                    NaN  \n",
       "1                                         Non-profit                    NaN  \n",
       "2                           Pain Relieving Towellete                    NaN  \n",
       "3  renewable energy, hydrokinetic energy, Hydro P...                    NaN  \n",
       "4                                  Community Service                    NaN  "
      ]
     },
     "metadata":{
      
     },
     "output_type":"display_data"
    }
   ],
   "metadata":{
    "datalore":{
     "node_id":"0UOnR7AmHRiEDIK54vQPiS",
     "type":"CODE",
     "hide_input_from_viewers":false,
     "hide_output_from_viewers":false,
     "report_properties":{
      "rowId":"yrPVmoUsALUIlT7FtG8v0R"
     }
    }
   }
  },
  {
   "cell_type":"markdown",
   "source":[
    "### Ingesting Common SourceScrub Identifiers into Graph"
   ],
   "attachments":{
    
   },
   "metadata":{
    "datalore":{
     "node_id":"F4YzffR26Ak1emmdiSjHNu",
     "type":"MD",
     "hide_input_from_viewers":false,
     "hide_output_from_viewers":false,
     "report_properties":{
      "rowId":"ftpJlkg5EZRaDEBWQyvbd5"
     }
    }
   }
  },
  {
   "cell_type":"code",
   "source":[
    "sourcescrub_organizations_df_website = np.array_split(sourcescrub_organizations_df[sourcescrub_organizations_df['DOMAIN'].isna() == False][['DOMAIN']].rename(columns={'DOMAIN': 'URL'}).to_dict('records'), BATCHES)\n",
    "for chunk_df in sourcescrub_organizations_df_website:\n",
    "    merge_nodes(\n",
    "        graph.auto(),\n",
    "        chunk_df,\n",
    "        ((\"URLIdentifier\", \"DomainURL\"), \"URL\"),\n",
    "    )\n",
    "\n",
    "sourcescrub_organizations_df_linkedin = np.array_split(sourcescrub_organizations_df[sourcescrub_organizations_df['LINKEDIN'].isna() == False][['LINKEDIN']].rename(columns={'LINKEDIN': 'URL'}).to_dict('records'), BATCHES)\n",
    "for chunk_df in sourcescrub_organizations_df_linkedin:\n",
    "    merge_nodes(\n",
    "        graph.auto(),\n",
    "        chunk_df,\n",
    "        ((\"URLIdentifier\", \"LinkedInURL\"), \"URL\"),\n",
    "    )\n",
    "    \n",
    "sourcescrub_organizations_df_twitter = np.array_split(sourcescrub_organizations_df[sourcescrub_organizations_df['TWITTER'].isna() == False][['TWITTER']].rename(columns={'TWITTER': 'URL'}).to_dict('records'), BATCHES)\n",
    "for chunk_df in sourcescrub_organizations_df_twitter:\n",
    "    merge_nodes(\n",
    "        graph.auto(),\n",
    "        chunk_df,\n",
    "        ((\"URLIdentifier\", \"TwitterURL\"), \"URL\"),\n",
    "    )\n",
    "\n",
    "sourcescrub_organizations_df_facebook =  np.array_split(sourcescrub_organizations_df[sourcescrub_organizations_df['FACEBOOK'].isna() == False][['FACEBOOK']].rename(columns={'FACEBOOK': 'URL'}).to_dict('records'), BATCHES)\n",
    "for chunk_df in sourcescrub_organizations_df_facebook:\n",
    "    merge_nodes(\n",
    "        graph.auto(),\n",
    "        chunk_df,\n",
    "        ((\"URLIdentifier\", \"FacebookURL\"), \"URL\"),\n",
    "    )\n",
    "\n",
    "sourcescrub_organizations_df_crunchbase =  np.array_split(sourcescrub_organizations_df[sourcescrub_organizations_df['CRUNCHBASE'].isna() == False][['CRUNCHBASE']].rename(columns={'CRUNCHBASE': 'URL'}).to_dict('records'), BATCHES)\n",
    "for chunk_df in sourcescrub_organizations_df_crunchbase:\n",
    "    merge_nodes(\n",
    "        graph.auto(),\n",
    "        chunk_df,\n",
    "        ((\"URLIdentifier\", \"CrunchbaseURL\"), \"URL\"),\n",
    "    )"
   ],
   "execution_count":null,
   "outputs":[
    
   ],
   "metadata":{
    "datalore":{
     "node_id":"8tn8V2wQb2rPuhBpeyL6yO",
     "type":"CODE",
     "hide_input_from_viewers":false,
     "hide_output_from_viewers":false,
     "report_properties":{
      "rowId":"wMPayFEshs3RsPJXXyvZgR"
     }
    }
   }
  },
  {
   "cell_type":"markdown",
   "source":[
    "### Ingesting SourceScrub Companies into the Graph"
   ],
   "attachments":{
    
   },
   "metadata":{
    "datalore":{
     "node_id":"vi8Hdkp8gJUIS6gusZ6mXY",
     "type":"MD",
     "hide_input_from_viewers":false,
     "hide_output_from_viewers":false,
     "report_properties":{
      "rowId":"KifFh6o4jIMbtNR3WiOipw"
     }
    }
   }
  },
  {
   "cell_type":"code",
   "source":[
    "sourcescrub_organizations = np.array_split([{k:v for k, v in x.items() if v == v} for x in sourcescrub_organizations_df.to_dict('records')], BATCHES)\n",
    "for chunk_df in sourcescrub_organizations:\n",
    "    merge_nodes(\n",
    "        graph.auto(),\n",
    "        chunk_df,\n",
    "        ((\"Company\", \"SourcescrubCompany\"), \"SOURCE_ID\"),\n",
    "    )"
   ],
   "execution_count":null,
   "outputs":[
    
   ],
   "metadata":{
    "datalore":{
     "node_id":"inNC9BrDUtGlyWht4dbXRm",
     "type":"CODE",
     "hide_input_from_viewers":false,
     "hide_output_from_viewers":false,
     "report_properties":{
      "rowId":"vY2uAzwdMsqKIpULusHrJA"
     }
    }
   }
  },
  {
   "cell_type":"code",
   "source":[
    "for identifier in ['DOMAIN', 'LINKEDIN', 'TWITTER', 'FACEBOOK', 'CRUNCHBASE']:\n",
    "    sourcescrub_identifier_relationships = sourcescrub_organizations_df.loc[sourcescrub_organizations_df[identifier] != np.nan][['SOURCE_ID', identifier]]\n",
    "    sourcescrub_identifier_relationships.insert(1, 'WEIGHT', [[0.5]] * len(sourcescrub_identifier_relationships))\n",
    "\n",
    "    df_list = np.array_split(sourcescrub_identifier_relationships, BATCHES)\n",
    "    for chunk_df in df_list:\n",
    "        merge_relationships(\n",
    "            graph.auto(),\n",
    "            chunk_df.values.tolist(),\n",
    "            merge_key=\"LINKED_TO\",\n",
    "            start_node_key=(\"Company\", \"SOURCE_ID\"),\n",
    "            end_node_key=(\"URLIdentifier\", \"URL\"),\n",
    "            keys=[\"WEIGHT\"],\n",
    "        )"
   ],
   "execution_count":null,
   "outputs":[
    
   ],
   "metadata":{
    "datalore":{
     "node_id":"dhFwPc34fgOBIhw9MWv2jd",
     "type":"CODE",
     "hide_input_from_viewers":false,
     "hide_output_from_viewers":false,
     "report_properties":{
      "rowId":"nhb1ZwILevcTj1vEeAV8VJ"
     }
    }
   }
  },
  {
   "cell_type":"markdown",
   "source":[
    "### CrunchBase"
   ],
   "attachments":{
    
   },
   "metadata":{
    "datalore":{
     "node_id":"BLKKQC6BHYakHPA7kfUYlQ",
     "type":"MD",
     "hide_input_from_viewers":false,
     "hide_output_from_viewers":false,
     "report_properties":{
      "rowId":"eXiYq25rzSjw5BsRi04ilC"
     }
    }
   }
  },
  {
   "cell_type":"code",
   "source":[
    "crunchbase_organizations_df = cursor.execute('SELECT CRUNCHBASE_ORGANIZATION_UUID, ORGANIZATION_CITY, FACEBOOK_URL, DOMAIN, TWITTER_URL, FUNDING_ROUND_TYPE, FOUNDED_ON, EMPLOYEE_COUNT, CRUNCHBASE_GROUPS, ORGANIZATION_STATE_CODE, ORGANIZATION_NAME, LINKEDIN_URL, ORGANIZATION_COUNTRY_CODE, CRUNCHBASE_URL FROM L2_NEW.CRUNCHBASE_ORGANIZATIONS WHERE DOMAIN IS NOT NULL OR TWITTER_URL IS NOT NULL OR FACEBOOK_URL IS NOT NULL OR LINKEDIN_URL IS NOT NULL OR CRUNCHBASE_URL IS NOT NULL').fetch_pandas_all()\n",
    "crunchbase_organizations_df.rename(columns={\n",
    "    'CRUNCHBASE_ORGANIZATION_UUID': 'SOURCE_ID', \n",
    "    'TWITTER_URL': 'TWITTER', \n",
    "    'FACEBOOK_URL': 'FACEBOOK',\n",
    "    'LINKEDIN_URL': 'LINKEDIN',\n",
    "    'CRUNCHBASE_URL': 'CRUNCHBASE', \n",
    "    'FOUNDED_ON': 'TIME_OF_FOUNDING',\n",
    "    'ORGANIZATION_CITY': 'CITY',\n",
    "    'ORGANIZATION_STATE_CODE': 'STATE',\n",
    "    'ORGANIZATION_COUNTRY_CODE': 'COUNTRY', \n",
    "    'ORGANIZATION_NAME': 'NAME', \n",
    "    'LINKEDIN_URL': 'LINKEDIN'\n",
    "}, inplace=True)\n",
    "\n",
    "crunchbase_organizations_df.replace({None: ''}, inplace=True)\n",
    "\n",
    "crunchbase_organizations_df['LINKEDIN'] = crunchbase_organizations_df['LINKEDIN'].apply(lambda x: (str(urlparse(x.replace('[', '').replace(']', '')).netloc or '') + str(urlparse(x.replace('[', '').replace(']', '')).path or '')).lstrip('www.'))\n",
    "crunchbase_organizations_df['TWITTER'] = crunchbase_organizations_df['TWITTER'].apply(lambda x: (str(urlparse(x).netloc or '') + str(urlparse(x).path or '')).lstrip('www.'))\n",
    "crunchbase_organizations_df['FACEBOOK'] = crunchbase_organizations_df['FACEBOOK'].apply(lambda x: (str(urlparse(x).netloc or '') + str(urlparse(x).path or '')).lstrip('www.'))\n",
    "crunchbase_organizations_df['CRUNCHBASE'] = crunchbase_organizations_df['CRUNCHBASE'].apply(lambda x: (str(urlparse(x).netloc or '') + str(urlparse(x).path or '')).lstrip('www.'))\n",
    "\n",
    "crunchbase_organizations_df.replace(r'^\\s*$', np.nan, regex=True, inplace=True)\n",
    "display(crunchbase_organizations_df.head())"
   ],
   "execution_count":null,
   "outputs":[
    {
     "data":{
      "text\/html":[
       "<div>\n",
       "<style scoped>\n",
       "    .dataframe tbody tr th:only-of-type {\n",
       "        vertical-align: middle;\n",
       "    }\n",
       "\n",
       "    .dataframe tbody tr th {\n",
       "        vertical-align: top;\n",
       "    }\n",
       "\n",
       "    .dataframe thead th {\n",
       "        text-align: right;\n",
       "    }\n",
       "<\/style>\n",
       "<table border=\"1\" class=\"dataframe\">\n",
       "  <thead>\n",
       "    <tr style=\"text-align: right;\">\n",
       "      <th><\/th>\n",
       "      <th>SOURCE_ID<\/th>\n",
       "      <th>CITY<\/th>\n",
       "      <th>FACEBOOK<\/th>\n",
       "      <th>DOMAIN<\/th>\n",
       "      <th>TWITTER<\/th>\n",
       "      <th>FUNDING_ROUND_TYPE<\/th>\n",
       "      <th>TIME_OF_FOUNDING<\/th>\n",
       "      <th>EMPLOYEE_COUNT<\/th>\n",
       "      <th>CRUNCHBASE_GROUPS<\/th>\n",
       "      <th>STATE<\/th>\n",
       "      <th>NAME<\/th>\n",
       "      <th>LINKEDIN<\/th>\n",
       "      <th>COUNTRY<\/th>\n",
       "      <th>CRUNCHBASE<\/th>\n",
       "    <\/tr>\n",
       "  <\/thead>\n",
       "  <tbody>\n",
       "    <tr>\n",
       "      <th>0<\/th>\n",
       "      <td>crunchbase-b883e57f-5a42-4cce-81f3-b70ad9482052<\/td>\n",
       "      <td>New York<\/td>\n",
       "      <td>NaN<\/td>\n",
       "      <td>infinity.xyz<\/td>\n",
       "      <td>twitter.com\/infinitydotxyz<\/td>\n",
       "      <td>NaN<\/td>\n",
       "      <td>NaN<\/td>\n",
       "      <td>unknown<\/td>\n",
       "      <td>Financial Services,Lending and Investments,Pay...<\/td>\n",
       "      <td>NY<\/td>\n",
       "      <td>Infinity<\/td>\n",
       "      <td>NaN<\/td>\n",
       "      <td>USA<\/td>\n",
       "      <td>crunchbase.com\/organization\/infinity-2052<\/td>\n",
       "    <\/tr>\n",
       "    <tr>\n",
       "      <th>1<\/th>\n",
       "      <td>crunchbase-57eeadb3-5173-4fd9-a9f8-dec1ad472417<\/td>\n",
       "      <td>New York<\/td>\n",
       "      <td>facebook.com\/pages\/category\/Insurance-company\/...<\/td>\n",
       "      <td>skyviewagency.com<\/td>\n",
       "      <td>NaN<\/td>\n",
       "      <td>NaN<\/td>\n",
       "      <td>NaN<\/td>\n",
       "      <td>1-10<\/td>\n",
       "      <td>Financial Services<\/td>\n",
       "      <td>NY<\/td>\n",
       "      <td>SkyView Agency<\/td>\n",
       "      <td>linkedin.com\/company\/skyview-agency<\/td>\n",
       "      <td>USA<\/td>\n",
       "      <td>crunchbase.com\/organization\/skyview-agency<\/td>\n",
       "    <\/tr>\n",
       "    <tr>\n",
       "      <th>2<\/th>\n",
       "      <td>crunchbase-f81e2ff9-6a87-4629-8a7e-230855a0dd30<\/td>\n",
       "      <td>Toshima<\/td>\n",
       "      <td>NaN<\/td>\n",
       "      <td>muio.co.jp<\/td>\n",
       "      <td>NaN<\/td>\n",
       "      <td>NaN<\/td>\n",
       "      <td>1991-02-01<\/td>\n",
       "      <td>11-50<\/td>\n",
       "      <td>Hardware,Information Technology,Internet Servi...<\/td>\n",
       "      <td>NaN<\/td>\n",
       "      <td>Muio Creative<\/td>\n",
       "      <td>NaN<\/td>\n",
       "      <td>JPN<\/td>\n",
       "      <td>crunchbase.com\/organization\/muio-creative<\/td>\n",
       "    <\/tr>\n",
       "    <tr>\n",
       "      <th>3<\/th>\n",
       "      <td>crunchbase-ebff3a2b-1b34-4bc8-8b46-5640352c99c0<\/td>\n",
       "      <td>Suva<\/td>\n",
       "      <td>facebook.com\/vititalk<\/td>\n",
       "      <td>vititalk.com<\/td>\n",
       "      <td>twitter.com\/viti_talk<\/td>\n",
       "      <td>NaN<\/td>\n",
       "      <td>NaN<\/td>\n",
       "      <td>unknown<\/td>\n",
       "      <td>Hardware,Messaging and Telecommunications<\/td>\n",
       "      <td>NaN<\/td>\n",
       "      <td>Viti Talk Telecommunications<\/td>\n",
       "      <td>NaN<\/td>\n",
       "      <td>FJI<\/td>\n",
       "      <td>crunchbase.com\/organization\/viti-talk-telecomm...<\/td>\n",
       "    <\/tr>\n",
       "    <tr>\n",
       "      <th>4<\/th>\n",
       "      <td>crunchbase-2774d086-6884-4d8b-9968-58181ed4e104<\/td>\n",
       "      <td>Vienna<\/td>\n",
       "      <td>NaN<\/td>\n",
       "      <td>membershipcards.com<\/td>\n",
       "      <td>NaN<\/td>\n",
       "      <td>NaN<\/td>\n",
       "      <td>1995-01-01<\/td>\n",
       "      <td>11-50<\/td>\n",
       "      <td>Content and Publishing,Design,Media and Entert...<\/td>\n",
       "      <td>NaN<\/td>\n",
       "      <td>Membership Cards Only<\/td>\n",
       "      <td>linkedin.com\/company\/membership-cards-only-llc<\/td>\n",
       "      <td>AUT<\/td>\n",
       "      <td>crunchbase.com\/organization\/membership-cards-only<\/td>\n",
       "    <\/tr>\n",
       "  <\/tbody>\n",
       "<\/table>\n",
       "<\/div>"
      ]
     },
     "metadata":{
      
     },
     "output_type":"display_data"
    },
    {
     "data":{
      "text\/plain":[
       "                                         SOURCE_ID      CITY  \\\n",
       "0  crunchbase-b883e57f-5a42-4cce-81f3-b70ad9482052  New York   \n",
       "1  crunchbase-57eeadb3-5173-4fd9-a9f8-dec1ad472417  New York   \n",
       "2  crunchbase-f81e2ff9-6a87-4629-8a7e-230855a0dd30   Toshima   \n",
       "3  crunchbase-ebff3a2b-1b34-4bc8-8b46-5640352c99c0      Suva   \n",
       "4  crunchbase-2774d086-6884-4d8b-9968-58181ed4e104    Vienna   \n",
       "\n",
       "                                            FACEBOOK               DOMAIN  \\\n",
       "0                                                NaN         infinity.xyz   \n",
       "1  facebook.com\/pages\/category\/Insurance-company\/...    skyviewagency.com   \n",
       "2                                                NaN           muio.co.jp   \n",
       "3                              facebook.com\/vititalk         vititalk.com   \n",
       "4                                                NaN  membershipcards.com   \n",
       "\n",
       "                      TWITTER FUNDING_ROUND_TYPE TIME_OF_FOUNDING  \\\n",
       "0  twitter.com\/infinitydotxyz                NaN              NaN   \n",
       "1                         NaN                NaN              NaN   \n",
       "2                         NaN                NaN       1991-02-01   \n",
       "3       twitter.com\/viti_talk                NaN              NaN   \n",
       "4                         NaN                NaN       1995-01-01   \n",
       "\n",
       "  EMPLOYEE_COUNT                                  CRUNCHBASE_GROUPS STATE  \\\n",
       "0        unknown  Financial Services,Lending and Investments,Pay...    NY   \n",
       "1           1-10                                 Financial Services    NY   \n",
       "2          11-50  Hardware,Information Technology,Internet Servi...   NaN   \n",
       "3        unknown          Hardware,Messaging and Telecommunications   NaN   \n",
       "4          11-50  Content and Publishing,Design,Media and Entert...   NaN   \n",
       "\n",
       "                           NAME  \\\n",
       "0                      Infinity   \n",
       "1                SkyView Agency   \n",
       "2                 Muio Creative   \n",
       "3  Viti Talk Telecommunications   \n",
       "4         Membership Cards Only   \n",
       "\n",
       "                                         LINKEDIN COUNTRY  \\\n",
       "0                                             NaN     USA   \n",
       "1             linkedin.com\/company\/skyview-agency     USA   \n",
       "2                                             NaN     JPN   \n",
       "3                                             NaN     FJI   \n",
       "4  linkedin.com\/company\/membership-cards-only-llc     AUT   \n",
       "\n",
       "                                          CRUNCHBASE  \n",
       "0          crunchbase.com\/organization\/infinity-2052  \n",
       "1         crunchbase.com\/organization\/skyview-agency  \n",
       "2          crunchbase.com\/organization\/muio-creative  \n",
       "3  crunchbase.com\/organization\/viti-talk-telecomm...  \n",
       "4  crunchbase.com\/organization\/membership-cards-only  "
      ]
     },
     "metadata":{
      
     },
     "output_type":"display_data"
    }
   ],
   "metadata":{
    "datalore":{
     "node_id":"wxZthtqT3k3xiGybmwAoA8",
     "type":"CODE",
     "hide_input_from_viewers":false,
     "hide_output_from_viewers":false,
     "report_properties":{
      "rowId":"yTJXV9jZRBUs3xq1wTUXm8"
     }
    }
   }
  },
  {
   "cell_type":"code",
   "source":[
    "crunchbase_organizations_df_website = np.array_split(crunchbase_organizations_df[crunchbase_organizations_df['DOMAIN'].isna() == False][['DOMAIN']].rename(columns={'DOMAIN': 'URL'}).to_dict('records'), BATCHES)\n",
    "for chunk_df in crunchbase_organizations_df_website:\n",
    "    merge_nodes(\n",
    "        graph.auto(),\n",
    "        chunk_df,\n",
    "        ((\"URLIdentifier\", \"DomainURL\"), \"URL\"),\n",
    "    )\n",
    "\n",
    "crunchbase_organizations_df_linkedin = np.array_split(crunchbase_organizations_df[crunchbase_organizations_df['LINKEDIN'].isna() == False][['LINKEDIN']].rename(columns={'LINKEDIN': 'URL'}).to_dict('records'), BATCHES)\n",
    "for chunk_df in crunchbase_organizations_df_linkedin:\n",
    "    merge_nodes(\n",
    "        graph.auto(),\n",
    "        chunk_df,\n",
    "        ((\"URLIdentifier\", \"LinkedInURL\"), \"URL\"),\n",
    "    )\n",
    "    \n",
    "crunchbase_organizations_df_twitter = np.array_split(crunchbase_organizations_df[crunchbase_organizations_df['TWITTER'].isna() == False][['TWITTER']].rename(columns={'TWITTER': 'URL'}).to_dict('records'), BATCHES)\n",
    "for chunk_df in crunchbase_organizations_df_twitter:\n",
    "    merge_nodes(\n",
    "        graph.auto(),\n",
    "        chunk_df,\n",
    "        ((\"URLIdentifier\", \"TwitterURL\"), \"URL\"),\n",
    "    )\n",
    "\n",
    "crunchbase_organizations_df_facebook =  np.array_split(crunchbase_organizations_df[crunchbase_organizations_df['FACEBOOK'].isna() == False][['FACEBOOK']].rename(columns={'FACEBOOK': 'URL'}).to_dict('records'), BATCHES)\n",
    "for chunk_df in crunchbase_organizations_df_facebook:\n",
    "    merge_nodes(\n",
    "        graph.auto(),\n",
    "        chunk_df,\n",
    "        ((\"URLIdentifier\", \"FacebookURL\"), \"URL\"),\n",
    "    )\n",
    "\n",
    "crunchbase_organizations_df_crunchbase =  np.array_split(crunchbase_organizations_df[crunchbase_organizations_df['CRUNCHBASE'].isna() == False][['CRUNCHBASE']].rename(columns={'CRUNCHBASE': 'URL'}).to_dict('records'), BATCHES)\n",
    "for chunk_df in crunchbase_organizations_df_crunchbase:\n",
    "    merge_nodes(\n",
    "        graph.auto(),\n",
    "        chunk_df,\n",
    "        ((\"URLIdentifier\", \"CrunchbaseURL\"), \"URL\"),\n",
    "    )"
   ],
   "execution_count":null,
   "outputs":[
    
   ],
   "metadata":{
    "datalore":{
     "node_id":"qDbhsLWKulOt15nhE6aqd6",
     "type":"CODE",
     "hide_input_from_viewers":false,
     "hide_output_from_viewers":false,
     "report_properties":{
      "rowId":"lBiaCO7qxKqwhF5pNPU0gy"
     }
    }
   }
  },
  {
   "cell_type":"code",
   "source":[
    "crunchbase_organizations = np.array_split([{k:v for k, v in x.items() if v == v} for x in crunchbase_organizations_df.to_dict('records')], BATCHES)\n",
    "for chunk_df in crunchbase_organizations:\n",
    "    merge_nodes(\n",
    "        graph.auto(),\n",
    "        chunk_df,\n",
    "        ((\"Company\", \"CrunchbaseCompany\"), \"SOURCE_ID\"),\n",
    "    )"
   ],
   "execution_count":null,
   "outputs":[
    
   ],
   "metadata":{
    "datalore":{
     "node_id":"BQxhgfQKCfniyz9r3C4wIQ",
     "type":"CODE",
     "hide_input_from_viewers":false,
     "hide_output_from_viewers":false,
     "report_properties":{
      "rowId":"sK861VL6QFYpiixGi9VbYX"
     }
    }
   }
  },
  {
   "cell_type":"code",
   "source":[
    "for identifier in ['DOMAIN', 'LINKEDIN', 'TWITTER', 'FACEBOOK', 'CRUNCHBASE']:\n",
    "    crunchbase_identifier_relationships = crunchbase_organizations_df.loc[crunchbase_organizations_df[identifier] != np.nan][['SOURCE_ID', identifier]]\n",
    "    crunchbase_identifier_relationships.insert(1, 'WEIGHT', [[0.5]] * len(crunchbase_identifier_relationships))\n",
    "\n",
    "    df_list = np.array_split(crunchbase_identifier_relationships, BATCHES)\n",
    "    for chunk_df in df_list:\n",
    "        merge_relationships(\n",
    "            graph.auto(),\n",
    "            chunk_df.values.tolist(),\n",
    "            merge_key=\"LINKED_TO\",\n",
    "            start_node_key=(\"Company\", \"SOURCE_ID\"),\n",
    "            end_node_key=(\"URLIdentifier\", \"URL\"),\n",
    "            keys=[\"WEIGHT\"],\n",
    "        )"
   ],
   "execution_count":null,
   "outputs":[
    
   ],
   "metadata":{
    "datalore":{
     "node_id":"XYw5biiRFoyk0v41Nl2v7b",
     "type":"CODE",
     "hide_input_from_viewers":false,
     "hide_output_from_viewers":false,
     "report_properties":{
      "rowId":"VzOHVa9mVitzYdYDtFlAMm"
     }
    }
   }
  }
 ],
 "metadata":{
  "kernelspec":{
   "display_name":"Python",
   "language":"python",
   "name":"python"
  },
  "datalore":{
   "computation_mode":"JUPYTER",
   "package_manager":"pip",
   "base_environment":"default",
   "packages":[
    
   ],
   "report_row_ids":[
    "I5v49LZzev8dDl6oGTkDHB",
    "NVR9t6QzCfN2VT6V8pXr9S",
    "41gD30WsLMbGg7fP4IPUC1",
    "suCMCeVlgc6mwWOOwafkLD",
    "MtbeUkJISCRmjXxgn74DzE",
    "bxNGvD1A8ygdNhhIS1RgUc",
    "dS9ajzAvBH58feWWZchur6",
    "yrPVmoUsALUIlT7FtG8v0R",
    "ftpJlkg5EZRaDEBWQyvbd5",
    "wMPayFEshs3RsPJXXyvZgR",
    "KifFh6o4jIMbtNR3WiOipw",
    "vY2uAzwdMsqKIpULusHrJA",
    "nhb1ZwILevcTj1vEeAV8VJ",
    "eXiYq25rzSjw5BsRi04ilC",
    "yTJXV9jZRBUs3xq1wTUXm8",
    "lBiaCO7qxKqwhF5pNPU0gy",
    "sK861VL6QFYpiixGi9VbYX",
    "VzOHVa9mVitzYdYDtFlAMm"
   ],
   "version":3
  }
 },
 "nbformat":4,
 "nbformat_minor":4
}